{
 "cells": [
  {
   "cell_type": "markdown",
   "metadata": {},
   "source": [
    "### **Import required package and initialise Site class, this will run the models**"
   ]
  },
  {
   "cell_type": "code",
   "execution_count": 2,
   "metadata": {},
   "outputs": [
    {
     "name": "stderr",
     "output_type": "stream",
     "text": [
      "2024-02-23 20:08:08,311 - INFO - Fetching TMY data for latitude: 54.60452, longitude: -5.9286\n",
      "2024-02-23 20:08:09,535 - INFO - HTTP Request: GET https://re.jrc.ec.europa.eu/api/tmy?lat=54.60452&lon=-5.9286&startyear=2005&endyear=2015&outputformat=json \"HTTP/1.1 200 OK\"\n",
      "2024-02-23 20:08:10,244 - INFO - TMY data obtained for: 54.60452, longitude: -5.9286\n",
      "2024-02-23 20:08:10,245 - INFO - *******************\n",
      "2024-02-23 20:08:10,245 - INFO - Calculating POA irradiance for latitude: 54.60452, longitude: -5.9286\n",
      "2024-02-23 20:08:10,252 - INFO - POA Irradiance for: 54.60452, longitude: -5.9286 calculated successfully\n",
      "2024-02-23 20:08:10,252 - INFO - *******************\n",
      "2024-02-23 20:08:10,252 - INFO - Generating Solar PV model statistical grouping.\n",
      "2024-02-23 20:08:10,263 - INFO - Solar PV model statistical grouping completed.\n",
      "2024-02-23 20:08:10,264 - INFO - *******************\n"
     ]
    }
   ],
   "source": [
    "from meteo.Site import Site\n",
    "\n",
    "latitude = 54.60452\n",
    "longitude = -5.92860\n",
    "surface_pitch = 35\n",
    "surface_azimuth = 0\n",
    "albedo = 0.2\n",
    "refraction_index = 0.1\n",
    "tmz_hrs_east = 0\n",
    "\n",
    "# Initialise the Site class and run models\n",
    "site = Site(latitude, longitude, surface_pitch, surface_azimuth, \n",
    "            albedo, refraction_index, tmz_hrs_east)"
   ]
  },
  {
   "cell_type": "code",
   "execution_count": null,
   "metadata": {},
   "outputs": [],
   "source": []
  },
  {
   "cell_type": "markdown",
   "metadata": {},
   "source": [
    "### **Access returned TMY data from PVGIS**"
   ]
  },
  {
   "cell_type": "code",
   "execution_count": 3,
   "metadata": {},
   "outputs": [
    {
     "data": {
      "text/html": [
       "<div>\n",
       "<style scoped>\n",
       "    .dataframe tbody tr th:only-of-type {\n",
       "        vertical-align: middle;\n",
       "    }\n",
       "\n",
       "    .dataframe tbody tr th {\n",
       "        vertical-align: top;\n",
       "    }\n",
       "\n",
       "    .dataframe thead th {\n",
       "        text-align: right;\n",
       "    }\n",
       "</style>\n",
       "<table border=\"1\" class=\"dataframe\">\n",
       "  <thead>\n",
       "    <tr style=\"text-align: right;\">\n",
       "      <th></th>\n",
       "      <th>time(UTC)</th>\n",
       "      <th>T2m</th>\n",
       "      <th>RH</th>\n",
       "      <th>G(h)</th>\n",
       "      <th>Gb(n)</th>\n",
       "      <th>Gd(h)</th>\n",
       "      <th>IR(h)</th>\n",
       "      <th>WS10m</th>\n",
       "      <th>WD10m</th>\n",
       "      <th>SP</th>\n",
       "      <th>Hour_of_Day</th>\n",
       "      <th>Day_of_Year</th>\n",
       "      <th>Week_of_Year</th>\n",
       "      <th>Month_of_Year</th>\n",
       "    </tr>\n",
       "  </thead>\n",
       "  <tbody>\n",
       "    <tr>\n",
       "      <th>0</th>\n",
       "      <td>20090101:0000</td>\n",
       "      <td>3.07</td>\n",
       "      <td>87.29</td>\n",
       "      <td>0.0</td>\n",
       "      <td>0.0</td>\n",
       "      <td>0.0</td>\n",
       "      <td>306.29</td>\n",
       "      <td>5.70</td>\n",
       "      <td>102.0</td>\n",
       "      <td>102898.0</td>\n",
       "      <td>0</td>\n",
       "      <td>1</td>\n",
       "      <td>1</td>\n",
       "      <td>1</td>\n",
       "    </tr>\n",
       "    <tr>\n",
       "      <th>1</th>\n",
       "      <td>20090101:0100</td>\n",
       "      <td>2.63</td>\n",
       "      <td>86.63</td>\n",
       "      <td>0.0</td>\n",
       "      <td>0.0</td>\n",
       "      <td>0.0</td>\n",
       "      <td>299.79</td>\n",
       "      <td>5.73</td>\n",
       "      <td>102.0</td>\n",
       "      <td>102901.0</td>\n",
       "      <td>1</td>\n",
       "      <td>1</td>\n",
       "      <td>1</td>\n",
       "      <td>1</td>\n",
       "    </tr>\n",
       "    <tr>\n",
       "      <th>2</th>\n",
       "      <td>20090101:0200</td>\n",
       "      <td>2.18</td>\n",
       "      <td>85.98</td>\n",
       "      <td>0.0</td>\n",
       "      <td>0.0</td>\n",
       "      <td>0.0</td>\n",
       "      <td>293.29</td>\n",
       "      <td>5.77</td>\n",
       "      <td>101.0</td>\n",
       "      <td>102905.0</td>\n",
       "      <td>2</td>\n",
       "      <td>1</td>\n",
       "      <td>1</td>\n",
       "      <td>1</td>\n",
       "    </tr>\n",
       "    <tr>\n",
       "      <th>3</th>\n",
       "      <td>20090101:0300</td>\n",
       "      <td>1.73</td>\n",
       "      <td>85.32</td>\n",
       "      <td>0.0</td>\n",
       "      <td>0.0</td>\n",
       "      <td>0.0</td>\n",
       "      <td>286.79</td>\n",
       "      <td>5.80</td>\n",
       "      <td>103.0</td>\n",
       "      <td>102898.0</td>\n",
       "      <td>3</td>\n",
       "      <td>1</td>\n",
       "      <td>1</td>\n",
       "      <td>1</td>\n",
       "    </tr>\n",
       "    <tr>\n",
       "      <th>4</th>\n",
       "      <td>20090101:0400</td>\n",
       "      <td>1.28</td>\n",
       "      <td>84.66</td>\n",
       "      <td>0.0</td>\n",
       "      <td>0.0</td>\n",
       "      <td>0.0</td>\n",
       "      <td>280.30</td>\n",
       "      <td>5.84</td>\n",
       "      <td>104.0</td>\n",
       "      <td>102891.0</td>\n",
       "      <td>4</td>\n",
       "      <td>1</td>\n",
       "      <td>1</td>\n",
       "      <td>1</td>\n",
       "    </tr>\n",
       "    <tr>\n",
       "      <th>...</th>\n",
       "      <td>...</td>\n",
       "      <td>...</td>\n",
       "      <td>...</td>\n",
       "      <td>...</td>\n",
       "      <td>...</td>\n",
       "      <td>...</td>\n",
       "      <td>...</td>\n",
       "      <td>...</td>\n",
       "      <td>...</td>\n",
       "      <td>...</td>\n",
       "      <td>...</td>\n",
       "      <td>...</td>\n",
       "      <td>...</td>\n",
       "      <td>...</td>\n",
       "    </tr>\n",
       "    <tr>\n",
       "      <th>8755</th>\n",
       "      <td>20131231:1900</td>\n",
       "      <td>5.31</td>\n",
       "      <td>90.58</td>\n",
       "      <td>0.0</td>\n",
       "      <td>0.0</td>\n",
       "      <td>0.0</td>\n",
       "      <td>338.77</td>\n",
       "      <td>5.52</td>\n",
       "      <td>246.0</td>\n",
       "      <td>97176.0</td>\n",
       "      <td>19</td>\n",
       "      <td>365</td>\n",
       "      <td>52</td>\n",
       "      <td>12</td>\n",
       "    </tr>\n",
       "    <tr>\n",
       "      <th>8756</th>\n",
       "      <td>20131231:2000</td>\n",
       "      <td>4.86</td>\n",
       "      <td>89.92</td>\n",
       "      <td>0.0</td>\n",
       "      <td>0.0</td>\n",
       "      <td>0.0</td>\n",
       "      <td>332.28</td>\n",
       "      <td>5.55</td>\n",
       "      <td>259.0</td>\n",
       "      <td>97289.0</td>\n",
       "      <td>20</td>\n",
       "      <td>365</td>\n",
       "      <td>52</td>\n",
       "      <td>12</td>\n",
       "    </tr>\n",
       "    <tr>\n",
       "      <th>8757</th>\n",
       "      <td>20131231:2100</td>\n",
       "      <td>4.41</td>\n",
       "      <td>89.26</td>\n",
       "      <td>0.0</td>\n",
       "      <td>0.0</td>\n",
       "      <td>0.0</td>\n",
       "      <td>325.78</td>\n",
       "      <td>5.59</td>\n",
       "      <td>263.0</td>\n",
       "      <td>97399.0</td>\n",
       "      <td>21</td>\n",
       "      <td>365</td>\n",
       "      <td>52</td>\n",
       "      <td>12</td>\n",
       "    </tr>\n",
       "    <tr>\n",
       "      <th>8758</th>\n",
       "      <td>20131231:2200</td>\n",
       "      <td>3.97</td>\n",
       "      <td>88.61</td>\n",
       "      <td>0.0</td>\n",
       "      <td>0.0</td>\n",
       "      <td>0.0</td>\n",
       "      <td>319.28</td>\n",
       "      <td>5.63</td>\n",
       "      <td>266.0</td>\n",
       "      <td>97509.0</td>\n",
       "      <td>22</td>\n",
       "      <td>365</td>\n",
       "      <td>52</td>\n",
       "      <td>12</td>\n",
       "    </tr>\n",
       "    <tr>\n",
       "      <th>8759</th>\n",
       "      <td>20131231:2300</td>\n",
       "      <td>3.52</td>\n",
       "      <td>87.95</td>\n",
       "      <td>0.0</td>\n",
       "      <td>0.0</td>\n",
       "      <td>0.0</td>\n",
       "      <td>312.78</td>\n",
       "      <td>5.66</td>\n",
       "      <td>270.0</td>\n",
       "      <td>97619.0</td>\n",
       "      <td>23</td>\n",
       "      <td>365</td>\n",
       "      <td>52</td>\n",
       "      <td>12</td>\n",
       "    </tr>\n",
       "  </tbody>\n",
       "</table>\n",
       "<p>8760 rows × 14 columns</p>\n",
       "</div>"
      ],
      "text/plain": [
       "          time(UTC)   T2m     RH  G(h)  Gb(n)  Gd(h)   IR(h)  WS10m  WD10m  \\\n",
       "0     20090101:0000  3.07  87.29   0.0    0.0    0.0  306.29   5.70  102.0   \n",
       "1     20090101:0100  2.63  86.63   0.0    0.0    0.0  299.79   5.73  102.0   \n",
       "2     20090101:0200  2.18  85.98   0.0    0.0    0.0  293.29   5.77  101.0   \n",
       "3     20090101:0300  1.73  85.32   0.0    0.0    0.0  286.79   5.80  103.0   \n",
       "4     20090101:0400  1.28  84.66   0.0    0.0    0.0  280.30   5.84  104.0   \n",
       "...             ...   ...    ...   ...    ...    ...     ...    ...    ...   \n",
       "8755  20131231:1900  5.31  90.58   0.0    0.0    0.0  338.77   5.52  246.0   \n",
       "8756  20131231:2000  4.86  89.92   0.0    0.0    0.0  332.28   5.55  259.0   \n",
       "8757  20131231:2100  4.41  89.26   0.0    0.0    0.0  325.78   5.59  263.0   \n",
       "8758  20131231:2200  3.97  88.61   0.0    0.0    0.0  319.28   5.63  266.0   \n",
       "8759  20131231:2300  3.52  87.95   0.0    0.0    0.0  312.78   5.66  270.0   \n",
       "\n",
       "            SP  Hour_of_Day  Day_of_Year  Week_of_Year  Month_of_Year  \n",
       "0     102898.0            0            1             1              1  \n",
       "1     102901.0            1            1             1              1  \n",
       "2     102905.0            2            1             1              1  \n",
       "3     102898.0            3            1             1              1  \n",
       "4     102891.0            4            1             1              1  \n",
       "...        ...          ...          ...           ...            ...  \n",
       "8755   97176.0           19          365            52             12  \n",
       "8756   97289.0           20          365            52             12  \n",
       "8757   97399.0           21          365            52             12  \n",
       "8758   97509.0           22          365            52             12  \n",
       "8759   97619.0           23          365            52             12  \n",
       "\n",
       "[8760 rows x 14 columns]"
      ]
     },
     "execution_count": 3,
     "metadata": {},
     "output_type": "execute_result"
    }
   ],
   "source": [
    "site.tmy_data"
   ]
  },
  {
   "cell_type": "code",
   "execution_count": null,
   "metadata": {},
   "outputs": [],
   "source": []
  },
  {
   "cell_type": "markdown",
   "metadata": {},
   "source": [
    "### **Access calculated irradiance values from model**"
   ]
  },
  {
   "cell_type": "code",
   "execution_count": 4,
   "metadata": {},
   "outputs": [
    {
     "data": {
      "text/html": [
       "<div>\n",
       "<style scoped>\n",
       "    .dataframe tbody tr th:only-of-type {\n",
       "        vertical-align: middle;\n",
       "    }\n",
       "\n",
       "    .dataframe tbody tr th {\n",
       "        vertical-align: top;\n",
       "    }\n",
       "\n",
       "    .dataframe thead th {\n",
       "        text-align: right;\n",
       "    }\n",
       "</style>\n",
       "<table border=\"1\" class=\"dataframe\">\n",
       "  <thead>\n",
       "    <tr style=\"text-align: right;\">\n",
       "      <th></th>\n",
       "      <th>E_POA_kWm2</th>\n",
       "      <th>Panel_POA_kWm2</th>\n",
       "      <th>E_Beam_kWm2</th>\n",
       "      <th>E_Diffuse_kWm2</th>\n",
       "      <th>E_Ground_kWm2</th>\n",
       "      <th>ET_HRad_kWm2</th>\n",
       "      <th>Wind_Speed_ms</th>\n",
       "      <th>Ambient_Temperature_C</th>\n",
       "      <th>Declination_Angle</th>\n",
       "      <th>Solar_Time</th>\n",
       "      <th>Hour_Angle</th>\n",
       "      <th>AOI</th>\n",
       "      <th>Zenith_Angle</th>\n",
       "      <th>Hour_of_Day</th>\n",
       "      <th>Day_of_Year</th>\n",
       "      <th>Week_of_Year</th>\n",
       "      <th>Month_of_Year</th>\n",
       "    </tr>\n",
       "  </thead>\n",
       "  <tbody>\n",
       "    <tr>\n",
       "      <th>0</th>\n",
       "      <td>0.0</td>\n",
       "      <td>0.0</td>\n",
       "      <td>0.0</td>\n",
       "      <td>0.0</td>\n",
       "      <td>0.0</td>\n",
       "      <td>0.0</td>\n",
       "      <td>5.70</td>\n",
       "      <td>3.07</td>\n",
       "      <td>-23.011637</td>\n",
       "      <td>0.056353</td>\n",
       "      <td>-179.154706</td>\n",
       "      <td>176.503094</td>\n",
       "      <td>148.400772</td>\n",
       "      <td>0</td>\n",
       "      <td>1</td>\n",
       "      <td>1</td>\n",
       "      <td>1</td>\n",
       "    </tr>\n",
       "    <tr>\n",
       "      <th>1</th>\n",
       "      <td>0.0</td>\n",
       "      <td>0.0</td>\n",
       "      <td>0.0</td>\n",
       "      <td>0.0</td>\n",
       "      <td>0.0</td>\n",
       "      <td>0.0</td>\n",
       "      <td>5.73</td>\n",
       "      <td>2.63</td>\n",
       "      <td>-23.011637</td>\n",
       "      <td>1.056353</td>\n",
       "      <td>-164.154706</td>\n",
       "      <td>164.858993</td>\n",
       "      <td>146.256695</td>\n",
       "      <td>1</td>\n",
       "      <td>1</td>\n",
       "      <td>1</td>\n",
       "      <td>1</td>\n",
       "    </tr>\n",
       "    <tr>\n",
       "      <th>2</th>\n",
       "      <td>0.0</td>\n",
       "      <td>0.0</td>\n",
       "      <td>0.0</td>\n",
       "      <td>0.0</td>\n",
       "      <td>0.0</td>\n",
       "      <td>0.0</td>\n",
       "      <td>5.77</td>\n",
       "      <td>2.18</td>\n",
       "      <td>-23.011637</td>\n",
       "      <td>2.056353</td>\n",
       "      <td>-149.154706</td>\n",
       "      <td>151.114843</td>\n",
       "      <td>140.930673</td>\n",
       "      <td>2</td>\n",
       "      <td>1</td>\n",
       "      <td>1</td>\n",
       "      <td>1</td>\n",
       "    </tr>\n",
       "    <tr>\n",
       "      <th>3</th>\n",
       "      <td>0.0</td>\n",
       "      <td>0.0</td>\n",
       "      <td>0.0</td>\n",
       "      <td>0.0</td>\n",
       "      <td>0.0</td>\n",
       "      <td>0.0</td>\n",
       "      <td>5.80</td>\n",
       "      <td>1.73</td>\n",
       "      <td>-23.011637</td>\n",
       "      <td>3.056353</td>\n",
       "      <td>-134.154706</td>\n",
       "      <td>137.320908</td>\n",
       "      <td>133.633323</td>\n",
       "      <td>3</td>\n",
       "      <td>1</td>\n",
       "      <td>1</td>\n",
       "      <td>1</td>\n",
       "    </tr>\n",
       "    <tr>\n",
       "      <th>4</th>\n",
       "      <td>0.0</td>\n",
       "      <td>0.0</td>\n",
       "      <td>0.0</td>\n",
       "      <td>0.0</td>\n",
       "      <td>0.0</td>\n",
       "      <td>0.0</td>\n",
       "      <td>5.84</td>\n",
       "      <td>1.28</td>\n",
       "      <td>-23.011637</td>\n",
       "      <td>4.056353</td>\n",
       "      <td>-119.154706</td>\n",
       "      <td>123.612469</td>\n",
       "      <td>125.337294</td>\n",
       "      <td>4</td>\n",
       "      <td>1</td>\n",
       "      <td>1</td>\n",
       "      <td>1</td>\n",
       "    </tr>\n",
       "    <tr>\n",
       "      <th>...</th>\n",
       "      <td>...</td>\n",
       "      <td>...</td>\n",
       "      <td>...</td>\n",
       "      <td>...</td>\n",
       "      <td>...</td>\n",
       "      <td>...</td>\n",
       "      <td>...</td>\n",
       "      <td>...</td>\n",
       "      <td>...</td>\n",
       "      <td>...</td>\n",
       "      <td>...</td>\n",
       "      <td>...</td>\n",
       "      <td>...</td>\n",
       "      <td>...</td>\n",
       "      <td>...</td>\n",
       "      <td>...</td>\n",
       "      <td>...</td>\n",
       "    </tr>\n",
       "    <tr>\n",
       "      <th>8755</th>\n",
       "      <td>0.0</td>\n",
       "      <td>0.0</td>\n",
       "      <td>0.0</td>\n",
       "      <td>0.0</td>\n",
       "      <td>0.0</td>\n",
       "      <td>0.0</td>\n",
       "      <td>5.52</td>\n",
       "      <td>5.31</td>\n",
       "      <td>-23.085911</td>\n",
       "      <td>19.063871</td>\n",
       "      <td>105.958063</td>\n",
       "      <td>111.704423</td>\n",
       "      <td>117.783501</td>\n",
       "      <td>19</td>\n",
       "      <td>365</td>\n",
       "      <td>52</td>\n",
       "      <td>12</td>\n",
       "    </tr>\n",
       "    <tr>\n",
       "      <th>8756</th>\n",
       "      <td>0.0</td>\n",
       "      <td>0.0</td>\n",
       "      <td>0.0</td>\n",
       "      <td>0.0</td>\n",
       "      <td>0.0</td>\n",
       "      <td>0.0</td>\n",
       "      <td>5.55</td>\n",
       "      <td>4.86</td>\n",
       "      <td>-23.085911</td>\n",
       "      <td>20.063871</td>\n",
       "      <td>120.958063</td>\n",
       "      <td>125.264162</td>\n",
       "      <td>126.422350</td>\n",
       "      <td>20</td>\n",
       "      <td>365</td>\n",
       "      <td>52</td>\n",
       "      <td>12</td>\n",
       "    </tr>\n",
       "    <tr>\n",
       "      <th>8757</th>\n",
       "      <td>0.0</td>\n",
       "      <td>0.0</td>\n",
       "      <td>0.0</td>\n",
       "      <td>0.0</td>\n",
       "      <td>0.0</td>\n",
       "      <td>0.0</td>\n",
       "      <td>5.59</td>\n",
       "      <td>4.41</td>\n",
       "      <td>-23.085911</td>\n",
       "      <td>21.063871</td>\n",
       "      <td>135.958063</td>\n",
       "      <td>138.981362</td>\n",
       "      <td>134.640378</td>\n",
       "      <td>21</td>\n",
       "      <td>365</td>\n",
       "      <td>52</td>\n",
       "      <td>12</td>\n",
       "    </tr>\n",
       "    <tr>\n",
       "      <th>8758</th>\n",
       "      <td>0.0</td>\n",
       "      <td>0.0</td>\n",
       "      <td>0.0</td>\n",
       "      <td>0.0</td>\n",
       "      <td>0.0</td>\n",
       "      <td>0.0</td>\n",
       "      <td>5.63</td>\n",
       "      <td>3.97</td>\n",
       "      <td>-23.085911</td>\n",
       "      <td>22.063871</td>\n",
       "      <td>150.958063</td>\n",
       "      <td>152.772064</td>\n",
       "      <td>141.764593</td>\n",
       "      <td>22</td>\n",
       "      <td>365</td>\n",
       "      <td>52</td>\n",
       "      <td>12</td>\n",
       "    </tr>\n",
       "    <tr>\n",
       "      <th>8759</th>\n",
       "      <td>0.0</td>\n",
       "      <td>0.0</td>\n",
       "      <td>0.0</td>\n",
       "      <td>0.0</td>\n",
       "      <td>0.0</td>\n",
       "      <td>0.0</td>\n",
       "      <td>5.66</td>\n",
       "      <td>3.52</td>\n",
       "      <td>-23.085911</td>\n",
       "      <td>23.063871</td>\n",
       "      <td>165.958063</td>\n",
       "      <td>166.472910</td>\n",
       "      <td>146.777429</td>\n",
       "      <td>23</td>\n",
       "      <td>365</td>\n",
       "      <td>52</td>\n",
       "      <td>12</td>\n",
       "    </tr>\n",
       "  </tbody>\n",
       "</table>\n",
       "<p>8760 rows × 17 columns</p>\n",
       "</div>"
      ],
      "text/plain": [
       "      E_POA_kWm2  Panel_POA_kWm2  E_Beam_kWm2  E_Diffuse_kWm2  E_Ground_kWm2  \\\n",
       "0            0.0             0.0          0.0             0.0            0.0   \n",
       "1            0.0             0.0          0.0             0.0            0.0   \n",
       "2            0.0             0.0          0.0             0.0            0.0   \n",
       "3            0.0             0.0          0.0             0.0            0.0   \n",
       "4            0.0             0.0          0.0             0.0            0.0   \n",
       "...          ...             ...          ...             ...            ...   \n",
       "8755         0.0             0.0          0.0             0.0            0.0   \n",
       "8756         0.0             0.0          0.0             0.0            0.0   \n",
       "8757         0.0             0.0          0.0             0.0            0.0   \n",
       "8758         0.0             0.0          0.0             0.0            0.0   \n",
       "8759         0.0             0.0          0.0             0.0            0.0   \n",
       "\n",
       "      ET_HRad_kWm2  Wind_Speed_ms  Ambient_Temperature_C  Declination_Angle  \\\n",
       "0              0.0           5.70                   3.07         -23.011637   \n",
       "1              0.0           5.73                   2.63         -23.011637   \n",
       "2              0.0           5.77                   2.18         -23.011637   \n",
       "3              0.0           5.80                   1.73         -23.011637   \n",
       "4              0.0           5.84                   1.28         -23.011637   \n",
       "...            ...            ...                    ...                ...   \n",
       "8755           0.0           5.52                   5.31         -23.085911   \n",
       "8756           0.0           5.55                   4.86         -23.085911   \n",
       "8757           0.0           5.59                   4.41         -23.085911   \n",
       "8758           0.0           5.63                   3.97         -23.085911   \n",
       "8759           0.0           5.66                   3.52         -23.085911   \n",
       "\n",
       "      Solar_Time  Hour_Angle         AOI  Zenith_Angle  Hour_of_Day  \\\n",
       "0       0.056353 -179.154706  176.503094    148.400772            0   \n",
       "1       1.056353 -164.154706  164.858993    146.256695            1   \n",
       "2       2.056353 -149.154706  151.114843    140.930673            2   \n",
       "3       3.056353 -134.154706  137.320908    133.633323            3   \n",
       "4       4.056353 -119.154706  123.612469    125.337294            4   \n",
       "...          ...         ...         ...           ...          ...   \n",
       "8755   19.063871  105.958063  111.704423    117.783501           19   \n",
       "8756   20.063871  120.958063  125.264162    126.422350           20   \n",
       "8757   21.063871  135.958063  138.981362    134.640378           21   \n",
       "8758   22.063871  150.958063  152.772064    141.764593           22   \n",
       "8759   23.063871  165.958063  166.472910    146.777429           23   \n",
       "\n",
       "      Day_of_Year  Week_of_Year  Month_of_Year  \n",
       "0               1             1              1  \n",
       "1               1             1              1  \n",
       "2               1             1              1  \n",
       "3               1             1              1  \n",
       "4               1             1              1  \n",
       "...           ...           ...            ...  \n",
       "8755          365            52             12  \n",
       "8756          365            52             12  \n",
       "8757          365            52             12  \n",
       "8758          365            52             12  \n",
       "8759          365            52             12  \n",
       "\n",
       "[8760 rows x 17 columns]"
      ]
     },
     "execution_count": 4,
     "metadata": {},
     "output_type": "execute_result"
    }
   ],
   "source": [
    "site.irrad_model"
   ]
  },
  {
   "cell_type": "code",
   "execution_count": null,
   "metadata": {},
   "outputs": [],
   "source": []
  },
  {
   "cell_type": "markdown",
   "metadata": {},
   "source": [
    "### **Access grouped by calculated irradiance values from model**"
   ]
  },
  {
   "cell_type": "code",
   "execution_count": 6,
   "metadata": {},
   "outputs": [
    {
     "data": {
      "text/html": [
       "<div>\n",
       "<style scoped>\n",
       "    .dataframe tbody tr th:only-of-type {\n",
       "        vertical-align: middle;\n",
       "    }\n",
       "\n",
       "    .dataframe tbody tr th {\n",
       "        vertical-align: top;\n",
       "    }\n",
       "\n",
       "    .dataframe thead th {\n",
       "        text-align: right;\n",
       "    }\n",
       "</style>\n",
       "<table border=\"1\" class=\"dataframe\">\n",
       "  <thead>\n",
       "    <tr style=\"text-align: right;\">\n",
       "      <th></th>\n",
       "      <th>E_POA_kWm2</th>\n",
       "      <th>Panel_POA_kWm2</th>\n",
       "      <th>E_Beam_kWm2</th>\n",
       "      <th>E_Diffuse_kWm2</th>\n",
       "      <th>E_Ground_kWm2</th>\n",
       "      <th>ET_HRad_kWm2</th>\n",
       "      <th>Ambient_Temperature_C</th>\n",
       "      <th>Wind_Speed_ms</th>\n",
       "    </tr>\n",
       "    <tr>\n",
       "      <th>Hour_of_Day</th>\n",
       "      <th></th>\n",
       "      <th></th>\n",
       "      <th></th>\n",
       "      <th></th>\n",
       "      <th></th>\n",
       "      <th></th>\n",
       "      <th></th>\n",
       "      <th></th>\n",
       "    </tr>\n",
       "  </thead>\n",
       "  <tbody>\n",
       "    <tr>\n",
       "      <th>0</th>\n",
       "      <td>0.000</td>\n",
       "      <td>0.000</td>\n",
       "      <td>0.000</td>\n",
       "      <td>0.000</td>\n",
       "      <td>0.000</td>\n",
       "      <td>0.000</td>\n",
       "      <td>7.657</td>\n",
       "      <td>5.863</td>\n",
       "    </tr>\n",
       "    <tr>\n",
       "      <th>1</th>\n",
       "      <td>0.000</td>\n",
       "      <td>0.000</td>\n",
       "      <td>0.000</td>\n",
       "      <td>0.000</td>\n",
       "      <td>0.000</td>\n",
       "      <td>0.000</td>\n",
       "      <td>7.448</td>\n",
       "      <td>5.863</td>\n",
       "    </tr>\n",
       "    <tr>\n",
       "      <th>2</th>\n",
       "      <td>0.000</td>\n",
       "      <td>0.000</td>\n",
       "      <td>0.000</td>\n",
       "      <td>0.000</td>\n",
       "      <td>0.000</td>\n",
       "      <td>0.000</td>\n",
       "      <td>7.236</td>\n",
       "      <td>5.862</td>\n",
       "    </tr>\n",
       "    <tr>\n",
       "      <th>3</th>\n",
       "      <td>0.000</td>\n",
       "      <td>0.000</td>\n",
       "      <td>0.000</td>\n",
       "      <td>0.000</td>\n",
       "      <td>0.000</td>\n",
       "      <td>0.302</td>\n",
       "      <td>7.245</td>\n",
       "      <td>5.866</td>\n",
       "    </tr>\n",
       "    <tr>\n",
       "      <th>4</th>\n",
       "      <td>0.000</td>\n",
       "      <td>0.000</td>\n",
       "      <td>0.000</td>\n",
       "      <td>0.000</td>\n",
       "      <td>0.000</td>\n",
       "      <td>12.219</td>\n",
       "      <td>7.250</td>\n",
       "      <td>5.869</td>\n",
       "    </tr>\n",
       "    <tr>\n",
       "      <th>5</th>\n",
       "      <td>2.594</td>\n",
       "      <td>2.594</td>\n",
       "      <td>0.000</td>\n",
       "      <td>2.524</td>\n",
       "      <td>0.070</td>\n",
       "      <td>36.952</td>\n",
       "      <td>7.256</td>\n",
       "      <td>5.873</td>\n",
       "    </tr>\n",
       "    <tr>\n",
       "      <th>6</th>\n",
       "      <td>12.810</td>\n",
       "      <td>10.845</td>\n",
       "      <td>3.119</td>\n",
       "      <td>9.395</td>\n",
       "      <td>0.295</td>\n",
       "      <td>73.538</td>\n",
       "      <td>7.809</td>\n",
       "      <td>6.012</td>\n",
       "    </tr>\n",
       "    <tr>\n",
       "      <th>7</th>\n",
       "      <td>34.126</td>\n",
       "      <td>31.315</td>\n",
       "      <td>14.792</td>\n",
       "      <td>18.708</td>\n",
       "      <td>0.626</td>\n",
       "      <td>119.309</td>\n",
       "      <td>8.359</td>\n",
       "      <td>6.150</td>\n",
       "    </tr>\n",
       "    <tr>\n",
       "      <th>8</th>\n",
       "      <td>62.340</td>\n",
       "      <td>59.756</td>\n",
       "      <td>30.938</td>\n",
       "      <td>30.368</td>\n",
       "      <td>1.034</td>\n",
       "      <td>171.345</td>\n",
       "      <td>8.982</td>\n",
       "      <td>6.291</td>\n",
       "    </tr>\n",
       "    <tr>\n",
       "      <th>9</th>\n",
       "      <td>88.901</td>\n",
       "      <td>87.042</td>\n",
       "      <td>44.894</td>\n",
       "      <td>42.601</td>\n",
       "      <td>1.406</td>\n",
       "      <td>220.878</td>\n",
       "      <td>9.570</td>\n",
       "      <td>6.337</td>\n",
       "    </tr>\n",
       "    <tr>\n",
       "      <th>10</th>\n",
       "      <td>114.483</td>\n",
       "      <td>113.228</td>\n",
       "      <td>60.678</td>\n",
       "      <td>52.061</td>\n",
       "      <td>1.745</td>\n",
       "      <td>255.178</td>\n",
       "      <td>10.157</td>\n",
       "      <td>6.383</td>\n",
       "    </tr>\n",
       "    <tr>\n",
       "      <th>11</th>\n",
       "      <td>136.878</td>\n",
       "      <td>136.033</td>\n",
       "      <td>72.680</td>\n",
       "      <td>62.134</td>\n",
       "      <td>2.064</td>\n",
       "      <td>271.908</td>\n",
       "      <td>10.745</td>\n",
       "      <td>6.429</td>\n",
       "    </tr>\n",
       "    <tr>\n",
       "      <th>12</th>\n",
       "      <td>134.789</td>\n",
       "      <td>134.155</td>\n",
       "      <td>67.925</td>\n",
       "      <td>64.799</td>\n",
       "      <td>2.065</td>\n",
       "      <td>269.927</td>\n",
       "      <td>10.888</td>\n",
       "      <td>6.447</td>\n",
       "    </tr>\n",
       "    <tr>\n",
       "      <th>13</th>\n",
       "      <td>128.889</td>\n",
       "      <td>127.926</td>\n",
       "      <td>64.406</td>\n",
       "      <td>62.503</td>\n",
       "      <td>1.979</td>\n",
       "      <td>249.371</td>\n",
       "      <td>11.031</td>\n",
       "      <td>6.466</td>\n",
       "    </tr>\n",
       "    <tr>\n",
       "      <th>14</th>\n",
       "      <td>116.602</td>\n",
       "      <td>115.054</td>\n",
       "      <td>58.887</td>\n",
       "      <td>55.876</td>\n",
       "      <td>1.839</td>\n",
       "      <td>211.640</td>\n",
       "      <td>11.175</td>\n",
       "      <td>6.484</td>\n",
       "    </tr>\n",
       "    <tr>\n",
       "      <th>15</th>\n",
       "      <td>96.873</td>\n",
       "      <td>94.271</td>\n",
       "      <td>49.291</td>\n",
       "      <td>45.973</td>\n",
       "      <td>1.609</td>\n",
       "      <td>160.088</td>\n",
       "      <td>10.732</td>\n",
       "      <td>6.305</td>\n",
       "    </tr>\n",
       "    <tr>\n",
       "      <th>16</th>\n",
       "      <td>60.153</td>\n",
       "      <td>57.657</td>\n",
       "      <td>24.507</td>\n",
       "      <td>34.543</td>\n",
       "      <td>1.103</td>\n",
       "      <td>110.292</td>\n",
       "      <td>10.250</td>\n",
       "      <td>6.126</td>\n",
       "    </tr>\n",
       "    <tr>\n",
       "      <th>17</th>\n",
       "      <td>34.768</td>\n",
       "      <td>31.624</td>\n",
       "      <td>12.820</td>\n",
       "      <td>21.229</td>\n",
       "      <td>0.718</td>\n",
       "      <td>66.363</td>\n",
       "      <td>9.818</td>\n",
       "      <td>5.949</td>\n",
       "    </tr>\n",
       "    <tr>\n",
       "      <th>18</th>\n",
       "      <td>13.161</td>\n",
       "      <td>11.936</td>\n",
       "      <td>1.504</td>\n",
       "      <td>11.277</td>\n",
       "      <td>0.381</td>\n",
       "      <td>31.925</td>\n",
       "      <td>9.260</td>\n",
       "      <td>5.875</td>\n",
       "    </tr>\n",
       "    <tr>\n",
       "      <th>19</th>\n",
       "      <td>3.652</td>\n",
       "      <td>3.652</td>\n",
       "      <td>0.000</td>\n",
       "      <td>3.535</td>\n",
       "      <td>0.116</td>\n",
       "      <td>9.344</td>\n",
       "      <td>8.701</td>\n",
       "      <td>5.800</td>\n",
       "    </tr>\n",
       "    <tr>\n",
       "      <th>20</th>\n",
       "      <td>0.016</td>\n",
       "      <td>0.016</td>\n",
       "      <td>0.000</td>\n",
       "      <td>0.000</td>\n",
       "      <td>0.016</td>\n",
       "      <td>0.000</td>\n",
       "      <td>8.141</td>\n",
       "      <td>5.725</td>\n",
       "    </tr>\n",
       "    <tr>\n",
       "      <th>21</th>\n",
       "      <td>0.000</td>\n",
       "      <td>0.000</td>\n",
       "      <td>0.000</td>\n",
       "      <td>0.000</td>\n",
       "      <td>0.000</td>\n",
       "      <td>0.000</td>\n",
       "      <td>8.050</td>\n",
       "      <td>5.771</td>\n",
       "    </tr>\n",
       "    <tr>\n",
       "      <th>22</th>\n",
       "      <td>0.000</td>\n",
       "      <td>0.000</td>\n",
       "      <td>0.000</td>\n",
       "      <td>0.000</td>\n",
       "      <td>0.000</td>\n",
       "      <td>0.000</td>\n",
       "      <td>7.958</td>\n",
       "      <td>5.817</td>\n",
       "    </tr>\n",
       "    <tr>\n",
       "      <th>23</th>\n",
       "      <td>0.000</td>\n",
       "      <td>0.000</td>\n",
       "      <td>0.000</td>\n",
       "      <td>0.000</td>\n",
       "      <td>0.000</td>\n",
       "      <td>0.000</td>\n",
       "      <td>7.866</td>\n",
       "      <td>5.864</td>\n",
       "    </tr>\n",
       "  </tbody>\n",
       "</table>\n",
       "</div>"
      ],
      "text/plain": [
       "             E_POA_kWm2  Panel_POA_kWm2  E_Beam_kWm2  E_Diffuse_kWm2  \\\n",
       "Hour_of_Day                                                            \n",
       "0                 0.000           0.000        0.000           0.000   \n",
       "1                 0.000           0.000        0.000           0.000   \n",
       "2                 0.000           0.000        0.000           0.000   \n",
       "3                 0.000           0.000        0.000           0.000   \n",
       "4                 0.000           0.000        0.000           0.000   \n",
       "5                 2.594           2.594        0.000           2.524   \n",
       "6                12.810          10.845        3.119           9.395   \n",
       "7                34.126          31.315       14.792          18.708   \n",
       "8                62.340          59.756       30.938          30.368   \n",
       "9                88.901          87.042       44.894          42.601   \n",
       "10              114.483         113.228       60.678          52.061   \n",
       "11              136.878         136.033       72.680          62.134   \n",
       "12              134.789         134.155       67.925          64.799   \n",
       "13              128.889         127.926       64.406          62.503   \n",
       "14              116.602         115.054       58.887          55.876   \n",
       "15               96.873          94.271       49.291          45.973   \n",
       "16               60.153          57.657       24.507          34.543   \n",
       "17               34.768          31.624       12.820          21.229   \n",
       "18               13.161          11.936        1.504          11.277   \n",
       "19                3.652           3.652        0.000           3.535   \n",
       "20                0.016           0.016        0.000           0.000   \n",
       "21                0.000           0.000        0.000           0.000   \n",
       "22                0.000           0.000        0.000           0.000   \n",
       "23                0.000           0.000        0.000           0.000   \n",
       "\n",
       "             E_Ground_kWm2  ET_HRad_kWm2  Ambient_Temperature_C  Wind_Speed_ms  \n",
       "Hour_of_Day                                                                     \n",
       "0                    0.000         0.000                  7.657          5.863  \n",
       "1                    0.000         0.000                  7.448          5.863  \n",
       "2                    0.000         0.000                  7.236          5.862  \n",
       "3                    0.000         0.302                  7.245          5.866  \n",
       "4                    0.000        12.219                  7.250          5.869  \n",
       "5                    0.070        36.952                  7.256          5.873  \n",
       "6                    0.295        73.538                  7.809          6.012  \n",
       "7                    0.626       119.309                  8.359          6.150  \n",
       "8                    1.034       171.345                  8.982          6.291  \n",
       "9                    1.406       220.878                  9.570          6.337  \n",
       "10                   1.745       255.178                 10.157          6.383  \n",
       "11                   2.064       271.908                 10.745          6.429  \n",
       "12                   2.065       269.927                 10.888          6.447  \n",
       "13                   1.979       249.371                 11.031          6.466  \n",
       "14                   1.839       211.640                 11.175          6.484  \n",
       "15                   1.609       160.088                 10.732          6.305  \n",
       "16                   1.103       110.292                 10.250          6.126  \n",
       "17                   0.718        66.363                  9.818          5.949  \n",
       "18                   0.381        31.925                  9.260          5.875  \n",
       "19                   0.116         9.344                  8.701          5.800  \n",
       "20                   0.016         0.000                  8.141          5.725  \n",
       "21                   0.000         0.000                  8.050          5.771  \n",
       "22                   0.000         0.000                  7.958          5.817  \n",
       "23                   0.000         0.000                  7.866          5.864  "
      ]
     },
     "execution_count": 6,
     "metadata": {},
     "output_type": "execute_result"
    }
   ],
   "source": [
    "site.rad_data.hourly"
   ]
  },
  {
   "cell_type": "code",
   "execution_count": 5,
   "metadata": {},
   "outputs": [
    {
     "data": {
      "text/html": [
       "<div>\n",
       "<style scoped>\n",
       "    .dataframe tbody tr th:only-of-type {\n",
       "        vertical-align: middle;\n",
       "    }\n",
       "\n",
       "    .dataframe tbody tr th {\n",
       "        vertical-align: top;\n",
       "    }\n",
       "\n",
       "    .dataframe thead th {\n",
       "        text-align: right;\n",
       "    }\n",
       "</style>\n",
       "<table border=\"1\" class=\"dataframe\">\n",
       "  <thead>\n",
       "    <tr style=\"text-align: right;\">\n",
       "      <th></th>\n",
       "      <th>E_POA_kWm2</th>\n",
       "      <th>Panel_POA_kWm2</th>\n",
       "      <th>E_Beam_kWm2</th>\n",
       "      <th>E_Diffuse_kWm2</th>\n",
       "      <th>E_Ground_kWm2</th>\n",
       "      <th>ET_HRad_kWm2</th>\n",
       "      <th>Ambient_Temperature_C</th>\n",
       "      <th>Wind_Speed_ms</th>\n",
       "    </tr>\n",
       "    <tr>\n",
       "      <th>Day_of_Year</th>\n",
       "      <th></th>\n",
       "      <th></th>\n",
       "      <th></th>\n",
       "      <th></th>\n",
       "      <th></th>\n",
       "      <th></th>\n",
       "      <th></th>\n",
       "      <th></th>\n",
       "    </tr>\n",
       "  </thead>\n",
       "  <tbody>\n",
       "    <tr>\n",
       "      <th>1</th>\n",
       "      <td>0.108</td>\n",
       "      <td>0.108</td>\n",
       "      <td>0.000</td>\n",
       "      <td>0.106</td>\n",
       "      <td>0.002</td>\n",
       "      <td>1.382</td>\n",
       "      <td>1.417</td>\n",
       "      <td>5.968</td>\n",
       "    </tr>\n",
       "    <tr>\n",
       "      <th>2</th>\n",
       "      <td>0.473</td>\n",
       "      <td>0.461</td>\n",
       "      <td>0.238</td>\n",
       "      <td>0.230</td>\n",
       "      <td>0.006</td>\n",
       "      <td>1.395</td>\n",
       "      <td>2.522</td>\n",
       "      <td>7.102</td>\n",
       "    </tr>\n",
       "    <tr>\n",
       "      <th>3</th>\n",
       "      <td>0.460</td>\n",
       "      <td>0.448</td>\n",
       "      <td>0.246</td>\n",
       "      <td>0.209</td>\n",
       "      <td>0.006</td>\n",
       "      <td>1.412</td>\n",
       "      <td>1.600</td>\n",
       "      <td>3.569</td>\n",
       "    </tr>\n",
       "    <tr>\n",
       "      <th>4</th>\n",
       "      <td>0.833</td>\n",
       "      <td>0.803</td>\n",
       "      <td>0.547</td>\n",
       "      <td>0.278</td>\n",
       "      <td>0.008</td>\n",
       "      <td>1.429</td>\n",
       "      <td>2.676</td>\n",
       "      <td>5.059</td>\n",
       "    </tr>\n",
       "    <tr>\n",
       "      <th>5</th>\n",
       "      <td>1.053</td>\n",
       "      <td>1.020</td>\n",
       "      <td>0.760</td>\n",
       "      <td>0.283</td>\n",
       "      <td>0.010</td>\n",
       "      <td>1.448</td>\n",
       "      <td>2.215</td>\n",
       "      <td>7.172</td>\n",
       "    </tr>\n",
       "    <tr>\n",
       "      <th>...</th>\n",
       "      <td>...</td>\n",
       "      <td>...</td>\n",
       "      <td>...</td>\n",
       "      <td>...</td>\n",
       "      <td>...</td>\n",
       "      <td>...</td>\n",
       "      <td>...</td>\n",
       "      <td>...</td>\n",
       "    </tr>\n",
       "    <tr>\n",
       "      <th>361</th>\n",
       "      <td>1.283</td>\n",
       "      <td>1.233</td>\n",
       "      <td>0.980</td>\n",
       "      <td>0.293</td>\n",
       "      <td>0.011</td>\n",
       "      <td>1.338</td>\n",
       "      <td>3.663</td>\n",
       "      <td>5.215</td>\n",
       "    </tr>\n",
       "    <tr>\n",
       "      <th>362</th>\n",
       "      <td>0.998</td>\n",
       "      <td>0.970</td>\n",
       "      <td>0.686</td>\n",
       "      <td>0.302</td>\n",
       "      <td>0.010</td>\n",
       "      <td>1.344</td>\n",
       "      <td>4.654</td>\n",
       "      <td>5.503</td>\n",
       "    </tr>\n",
       "    <tr>\n",
       "      <th>363</th>\n",
       "      <td>0.420</td>\n",
       "      <td>0.404</td>\n",
       "      <td>0.194</td>\n",
       "      <td>0.220</td>\n",
       "      <td>0.006</td>\n",
       "      <td>1.352</td>\n",
       "      <td>5.499</td>\n",
       "      <td>4.406</td>\n",
       "    </tr>\n",
       "    <tr>\n",
       "      <th>364</th>\n",
       "      <td>1.642</td>\n",
       "      <td>1.578</td>\n",
       "      <td>1.414</td>\n",
       "      <td>0.216</td>\n",
       "      <td>0.011</td>\n",
       "      <td>1.361</td>\n",
       "      <td>5.205</td>\n",
       "      <td>6.130</td>\n",
       "    </tr>\n",
       "    <tr>\n",
       "      <th>365</th>\n",
       "      <td>0.112</td>\n",
       "      <td>0.112</td>\n",
       "      <td>0.005</td>\n",
       "      <td>0.105</td>\n",
       "      <td>0.002</td>\n",
       "      <td>1.371</td>\n",
       "      <td>5.719</td>\n",
       "      <td>4.994</td>\n",
       "    </tr>\n",
       "  </tbody>\n",
       "</table>\n",
       "<p>365 rows × 8 columns</p>\n",
       "</div>"
      ],
      "text/plain": [
       "             E_POA_kWm2  Panel_POA_kWm2  E_Beam_kWm2  E_Diffuse_kWm2  \\\n",
       "Day_of_Year                                                            \n",
       "1                 0.108           0.108        0.000           0.106   \n",
       "2                 0.473           0.461        0.238           0.230   \n",
       "3                 0.460           0.448        0.246           0.209   \n",
       "4                 0.833           0.803        0.547           0.278   \n",
       "5                 1.053           1.020        0.760           0.283   \n",
       "...                 ...             ...          ...             ...   \n",
       "361               1.283           1.233        0.980           0.293   \n",
       "362               0.998           0.970        0.686           0.302   \n",
       "363               0.420           0.404        0.194           0.220   \n",
       "364               1.642           1.578        1.414           0.216   \n",
       "365               0.112           0.112        0.005           0.105   \n",
       "\n",
       "             E_Ground_kWm2  ET_HRad_kWm2  Ambient_Temperature_C  Wind_Speed_ms  \n",
       "Day_of_Year                                                                     \n",
       "1                    0.002         1.382                  1.417          5.968  \n",
       "2                    0.006         1.395                  2.522          7.102  \n",
       "3                    0.006         1.412                  1.600          3.569  \n",
       "4                    0.008         1.429                  2.676          5.059  \n",
       "5                    0.010         1.448                  2.215          7.172  \n",
       "...                    ...           ...                    ...            ...  \n",
       "361                  0.011         1.338                  3.663          5.215  \n",
       "362                  0.010         1.344                  4.654          5.503  \n",
       "363                  0.006         1.352                  5.499          4.406  \n",
       "364                  0.011         1.361                  5.205          6.130  \n",
       "365                  0.002         1.371                  5.719          4.994  \n",
       "\n",
       "[365 rows x 8 columns]"
      ]
     },
     "execution_count": 5,
     "metadata": {},
     "output_type": "execute_result"
    }
   ],
   "source": [
    "site.rad_data.daily"
   ]
  },
  {
   "cell_type": "code",
   "execution_count": 7,
   "metadata": {},
   "outputs": [
    {
     "data": {
      "text/html": [
       "<div>\n",
       "<style scoped>\n",
       "    .dataframe tbody tr th:only-of-type {\n",
       "        vertical-align: middle;\n",
       "    }\n",
       "\n",
       "    .dataframe tbody tr th {\n",
       "        vertical-align: top;\n",
       "    }\n",
       "\n",
       "    .dataframe thead th {\n",
       "        text-align: right;\n",
       "    }\n",
       "</style>\n",
       "<table border=\"1\" class=\"dataframe\">\n",
       "  <thead>\n",
       "    <tr style=\"text-align: right;\">\n",
       "      <th></th>\n",
       "      <th>E_POA_kWm2</th>\n",
       "      <th>Panel_POA_kWm2</th>\n",
       "      <th>E_Beam_kWm2</th>\n",
       "      <th>E_Diffuse_kWm2</th>\n",
       "      <th>E_Ground_kWm2</th>\n",
       "      <th>ET_HRad_kWm2</th>\n",
       "      <th>Ambient_Temperature_C</th>\n",
       "      <th>Wind_Speed_ms</th>\n",
       "    </tr>\n",
       "    <tr>\n",
       "      <th>Week_of_Year</th>\n",
       "      <th></th>\n",
       "      <th></th>\n",
       "      <th></th>\n",
       "      <th></th>\n",
       "      <th></th>\n",
       "      <th></th>\n",
       "      <th></th>\n",
       "      <th></th>\n",
       "    </tr>\n",
       "  </thead>\n",
       "  <tbody>\n",
       "    <tr>\n",
       "      <th>1</th>\n",
       "      <td>4.774</td>\n",
       "      <td>4.625</td>\n",
       "      <td>3.079</td>\n",
       "      <td>1.645</td>\n",
       "      <td>0.050</td>\n",
       "      <td>10.023</td>\n",
       "      <td>1.837</td>\n",
       "      <td>5.561</td>\n",
       "    </tr>\n",
       "    <tr>\n",
       "      <th>2</th>\n",
       "      <td>6.364</td>\n",
       "      <td>6.149</td>\n",
       "      <td>4.426</td>\n",
       "      <td>1.874</td>\n",
       "      <td>0.064</td>\n",
       "      <td>11.113</td>\n",
       "      <td>4.951</td>\n",
       "      <td>9.963</td>\n",
       "    </tr>\n",
       "    <tr>\n",
       "      <th>3</th>\n",
       "      <td>5.067</td>\n",
       "      <td>4.917</td>\n",
       "      <td>2.658</td>\n",
       "      <td>2.349</td>\n",
       "      <td>0.060</td>\n",
       "      <td>12.600</td>\n",
       "      <td>4.137</td>\n",
       "      <td>12.424</td>\n",
       "    </tr>\n",
       "    <tr>\n",
       "      <th>4</th>\n",
       "      <td>13.115</td>\n",
       "      <td>12.666</td>\n",
       "      <td>9.793</td>\n",
       "      <td>3.200</td>\n",
       "      <td>0.122</td>\n",
       "      <td>14.453</td>\n",
       "      <td>4.195</td>\n",
       "      <td>8.050</td>\n",
       "    </tr>\n",
       "    <tr>\n",
       "      <th>5</th>\n",
       "      <td>5.319</td>\n",
       "      <td>5.200</td>\n",
       "      <td>2.520</td>\n",
       "      <td>2.727</td>\n",
       "      <td>0.072</td>\n",
       "      <td>16.637</td>\n",
       "      <td>6.055</td>\n",
       "      <td>10.413</td>\n",
       "    </tr>\n",
       "    <tr>\n",
       "      <th>6</th>\n",
       "      <td>8.581</td>\n",
       "      <td>8.359</td>\n",
       "      <td>4.993</td>\n",
       "      <td>3.480</td>\n",
       "      <td>0.108</td>\n",
       "      <td>19.233</td>\n",
       "      <td>5.692</td>\n",
       "      <td>4.014</td>\n",
       "    </tr>\n",
       "    <tr>\n",
       "      <th>7</th>\n",
       "      <td>12.902</td>\n",
       "      <td>12.549</td>\n",
       "      <td>8.381</td>\n",
       "      <td>4.372</td>\n",
       "      <td>0.150</td>\n",
       "      <td>22.372</td>\n",
       "      <td>4.726</td>\n",
       "      <td>4.448</td>\n",
       "    </tr>\n",
       "    <tr>\n",
       "      <th>8</th>\n",
       "      <td>10.508</td>\n",
       "      <td>10.341</td>\n",
       "      <td>4.337</td>\n",
       "      <td>6.013</td>\n",
       "      <td>0.158</td>\n",
       "      <td>25.953</td>\n",
       "      <td>6.826</td>\n",
       "      <td>5.231</td>\n",
       "    </tr>\n",
       "    <tr>\n",
       "      <th>9</th>\n",
       "      <td>17.758</td>\n",
       "      <td>17.195</td>\n",
       "      <td>11.525</td>\n",
       "      <td>6.008</td>\n",
       "      <td>0.225</td>\n",
       "      <td>29.700</td>\n",
       "      <td>4.816</td>\n",
       "      <td>2.953</td>\n",
       "    </tr>\n",
       "    <tr>\n",
       "      <th>10</th>\n",
       "      <td>10.279</td>\n",
       "      <td>10.057</td>\n",
       "      <td>4.527</td>\n",
       "      <td>5.595</td>\n",
       "      <td>0.156</td>\n",
       "      <td>33.624</td>\n",
       "      <td>3.830</td>\n",
       "      <td>5.764</td>\n",
       "    </tr>\n",
       "    <tr>\n",
       "      <th>11</th>\n",
       "      <td>14.714</td>\n",
       "      <td>14.393</td>\n",
       "      <td>6.354</td>\n",
       "      <td>8.134</td>\n",
       "      <td>0.226</td>\n",
       "      <td>38.044</td>\n",
       "      <td>3.377</td>\n",
       "      <td>3.515</td>\n",
       "    </tr>\n",
       "    <tr>\n",
       "      <th>12</th>\n",
       "      <td>6.407</td>\n",
       "      <td>6.380</td>\n",
       "      <td>0.442</td>\n",
       "      <td>5.845</td>\n",
       "      <td>0.120</td>\n",
       "      <td>42.580</td>\n",
       "      <td>2.432</td>\n",
       "      <td>7.224</td>\n",
       "    </tr>\n",
       "    <tr>\n",
       "      <th>13</th>\n",
       "      <td>13.350</td>\n",
       "      <td>13.176</td>\n",
       "      <td>2.141</td>\n",
       "      <td>10.963</td>\n",
       "      <td>0.246</td>\n",
       "      <td>46.971</td>\n",
       "      <td>2.519</td>\n",
       "      <td>4.306</td>\n",
       "    </tr>\n",
       "    <tr>\n",
       "      <th>14</th>\n",
       "      <td>36.713</td>\n",
       "      <td>35.899</td>\n",
       "      <td>23.961</td>\n",
       "      <td>12.198</td>\n",
       "      <td>0.554</td>\n",
       "      <td>51.297</td>\n",
       "      <td>4.684</td>\n",
       "      <td>3.789</td>\n",
       "    </tr>\n",
       "    <tr>\n",
       "      <th>15</th>\n",
       "      <td>22.579</td>\n",
       "      <td>22.305</td>\n",
       "      <td>10.505</td>\n",
       "      <td>11.699</td>\n",
       "      <td>0.374</td>\n",
       "      <td>55.857</td>\n",
       "      <td>7.359</td>\n",
       "      <td>5.544</td>\n",
       "    </tr>\n",
       "    <tr>\n",
       "      <th>16</th>\n",
       "      <td>26.308</td>\n",
       "      <td>25.746</td>\n",
       "      <td>10.858</td>\n",
       "      <td>14.993</td>\n",
       "      <td>0.457</td>\n",
       "      <td>60.121</td>\n",
       "      <td>7.956</td>\n",
       "      <td>5.295</td>\n",
       "    </tr>\n",
       "    <tr>\n",
       "      <th>17</th>\n",
       "      <td>31.316</td>\n",
       "      <td>30.565</td>\n",
       "      <td>15.250</td>\n",
       "      <td>15.530</td>\n",
       "      <td>0.536</td>\n",
       "      <td>63.989</td>\n",
       "      <td>7.275</td>\n",
       "      <td>4.361</td>\n",
       "    </tr>\n",
       "    <tr>\n",
       "      <th>18</th>\n",
       "      <td>43.300</td>\n",
       "      <td>42.208</td>\n",
       "      <td>28.428</td>\n",
       "      <td>14.148</td>\n",
       "      <td>0.724</td>\n",
       "      <td>67.641</td>\n",
       "      <td>10.924</td>\n",
       "      <td>5.598</td>\n",
       "    </tr>\n",
       "    <tr>\n",
       "      <th>19</th>\n",
       "      <td>29.818</td>\n",
       "      <td>29.423</td>\n",
       "      <td>10.945</td>\n",
       "      <td>18.336</td>\n",
       "      <td>0.537</td>\n",
       "      <td>70.997</td>\n",
       "      <td>10.603</td>\n",
       "      <td>6.843</td>\n",
       "    </tr>\n",
       "    <tr>\n",
       "      <th>20</th>\n",
       "      <td>31.585</td>\n",
       "      <td>30.910</td>\n",
       "      <td>12.331</td>\n",
       "      <td>18.669</td>\n",
       "      <td>0.584</td>\n",
       "      <td>73.963</td>\n",
       "      <td>11.200</td>\n",
       "      <td>7.418</td>\n",
       "    </tr>\n",
       "    <tr>\n",
       "      <th>21</th>\n",
       "      <td>34.928</td>\n",
       "      <td>34.213</td>\n",
       "      <td>16.078</td>\n",
       "      <td>18.220</td>\n",
       "      <td>0.630</td>\n",
       "      <td>76.380</td>\n",
       "      <td>11.248</td>\n",
       "      <td>5.444</td>\n",
       "    </tr>\n",
       "    <tr>\n",
       "      <th>22</th>\n",
       "      <td>45.521</td>\n",
       "      <td>44.066</td>\n",
       "      <td>27.913</td>\n",
       "      <td>16.789</td>\n",
       "      <td>0.820</td>\n",
       "      <td>78.246</td>\n",
       "      <td>12.158</td>\n",
       "      <td>4.440</td>\n",
       "    </tr>\n",
       "    <tr>\n",
       "      <th>23</th>\n",
       "      <td>36.816</td>\n",
       "      <td>35.913</td>\n",
       "      <td>16.922</td>\n",
       "      <td>19.211</td>\n",
       "      <td>0.683</td>\n",
       "      <td>79.614</td>\n",
       "      <td>13.433</td>\n",
       "      <td>4.185</td>\n",
       "    </tr>\n",
       "    <tr>\n",
       "      <th>24</th>\n",
       "      <td>29.427</td>\n",
       "      <td>28.722</td>\n",
       "      <td>10.594</td>\n",
       "      <td>18.272</td>\n",
       "      <td>0.561</td>\n",
       "      <td>80.438</td>\n",
       "      <td>12.495</td>\n",
       "      <td>6.050</td>\n",
       "    </tr>\n",
       "    <tr>\n",
       "      <th>25</th>\n",
       "      <td>28.085</td>\n",
       "      <td>27.528</td>\n",
       "      <td>9.956</td>\n",
       "      <td>17.600</td>\n",
       "      <td>0.529</td>\n",
       "      <td>80.673</td>\n",
       "      <td>12.860</td>\n",
       "      <td>8.123</td>\n",
       "    </tr>\n",
       "    <tr>\n",
       "      <th>26</th>\n",
       "      <td>25.565</td>\n",
       "      <td>25.211</td>\n",
       "      <td>6.552</td>\n",
       "      <td>18.519</td>\n",
       "      <td>0.493</td>\n",
       "      <td>80.322</td>\n",
       "      <td>13.852</td>\n",
       "      <td>7.938</td>\n",
       "    </tr>\n",
       "    <tr>\n",
       "      <th>27</th>\n",
       "      <td>29.183</td>\n",
       "      <td>28.706</td>\n",
       "      <td>8.651</td>\n",
       "      <td>19.981</td>\n",
       "      <td>0.552</td>\n",
       "      <td>79.433</td>\n",
       "      <td>13.907</td>\n",
       "      <td>7.565</td>\n",
       "    </tr>\n",
       "    <tr>\n",
       "      <th>28</th>\n",
       "      <td>24.723</td>\n",
       "      <td>24.197</td>\n",
       "      <td>6.985</td>\n",
       "      <td>17.268</td>\n",
       "      <td>0.470</td>\n",
       "      <td>78.057</td>\n",
       "      <td>14.383</td>\n",
       "      <td>5.496</td>\n",
       "    </tr>\n",
       "    <tr>\n",
       "      <th>29</th>\n",
       "      <td>32.037</td>\n",
       "      <td>31.216</td>\n",
       "      <td>12.855</td>\n",
       "      <td>18.580</td>\n",
       "      <td>0.602</td>\n",
       "      <td>76.144</td>\n",
       "      <td>14.333</td>\n",
       "      <td>4.197</td>\n",
       "    </tr>\n",
       "    <tr>\n",
       "      <th>30</th>\n",
       "      <td>35.814</td>\n",
       "      <td>34.953</td>\n",
       "      <td>16.315</td>\n",
       "      <td>18.853</td>\n",
       "      <td>0.647</td>\n",
       "      <td>73.692</td>\n",
       "      <td>14.938</td>\n",
       "      <td>7.321</td>\n",
       "    </tr>\n",
       "    <tr>\n",
       "      <th>31</th>\n",
       "      <td>28.617</td>\n",
       "      <td>27.980</td>\n",
       "      <td>9.841</td>\n",
       "      <td>18.256</td>\n",
       "      <td>0.521</td>\n",
       "      <td>70.706</td>\n",
       "      <td>14.296</td>\n",
       "      <td>4.308</td>\n",
       "    </tr>\n",
       "    <tr>\n",
       "      <th>32</th>\n",
       "      <td>26.849</td>\n",
       "      <td>26.377</td>\n",
       "      <td>8.658</td>\n",
       "      <td>17.695</td>\n",
       "      <td>0.497</td>\n",
       "      <td>67.214</td>\n",
       "      <td>14.248</td>\n",
       "      <td>4.899</td>\n",
       "    </tr>\n",
       "    <tr>\n",
       "      <th>33</th>\n",
       "      <td>31.843</td>\n",
       "      <td>31.093</td>\n",
       "      <td>16.522</td>\n",
       "      <td>14.769</td>\n",
       "      <td>0.553</td>\n",
       "      <td>63.644</td>\n",
       "      <td>14.134</td>\n",
       "      <td>3.804</td>\n",
       "    </tr>\n",
       "    <tr>\n",
       "      <th>34</th>\n",
       "      <td>33.686</td>\n",
       "      <td>32.946</td>\n",
       "      <td>18.646</td>\n",
       "      <td>14.479</td>\n",
       "      <td>0.560</td>\n",
       "      <td>59.802</td>\n",
       "      <td>14.020</td>\n",
       "      <td>4.546</td>\n",
       "    </tr>\n",
       "    <tr>\n",
       "      <th>35</th>\n",
       "      <td>33.451</td>\n",
       "      <td>32.676</td>\n",
       "      <td>19.351</td>\n",
       "      <td>13.566</td>\n",
       "      <td>0.534</td>\n",
       "      <td>55.565</td>\n",
       "      <td>12.540</td>\n",
       "      <td>5.766</td>\n",
       "    </tr>\n",
       "    <tr>\n",
       "      <th>36</th>\n",
       "      <td>23.442</td>\n",
       "      <td>22.958</td>\n",
       "      <td>11.169</td>\n",
       "      <td>11.894</td>\n",
       "      <td>0.378</td>\n",
       "      <td>51.095</td>\n",
       "      <td>13.019</td>\n",
       "      <td>8.220</td>\n",
       "    </tr>\n",
       "    <tr>\n",
       "      <th>37</th>\n",
       "      <td>32.797</td>\n",
       "      <td>31.818</td>\n",
       "      <td>21.621</td>\n",
       "      <td>10.698</td>\n",
       "      <td>0.478</td>\n",
       "      <td>46.708</td>\n",
       "      <td>12.474</td>\n",
       "      <td>4.132</td>\n",
       "    </tr>\n",
       "    <tr>\n",
       "      <th>38</th>\n",
       "      <td>15.741</td>\n",
       "      <td>15.437</td>\n",
       "      <td>5.974</td>\n",
       "      <td>9.513</td>\n",
       "      <td>0.255</td>\n",
       "      <td>42.341</td>\n",
       "      <td>12.818</td>\n",
       "      <td>7.173</td>\n",
       "    </tr>\n",
       "    <tr>\n",
       "      <th>39</th>\n",
       "      <td>15.427</td>\n",
       "      <td>15.186</td>\n",
       "      <td>6.040</td>\n",
       "      <td>9.141</td>\n",
       "      <td>0.246</td>\n",
       "      <td>37.899</td>\n",
       "      <td>12.749</td>\n",
       "      <td>6.591</td>\n",
       "    </tr>\n",
       "    <tr>\n",
       "      <th>40</th>\n",
       "      <td>21.518</td>\n",
       "      <td>21.009</td>\n",
       "      <td>12.810</td>\n",
       "      <td>8.409</td>\n",
       "      <td>0.298</td>\n",
       "      <td>33.720</td>\n",
       "      <td>9.720</td>\n",
       "      <td>4.221</td>\n",
       "    </tr>\n",
       "    <tr>\n",
       "      <th>41</th>\n",
       "      <td>21.581</td>\n",
       "      <td>20.995</td>\n",
       "      <td>15.130</td>\n",
       "      <td>6.187</td>\n",
       "      <td>0.263</td>\n",
       "      <td>29.606</td>\n",
       "      <td>9.005</td>\n",
       "      <td>3.244</td>\n",
       "    </tr>\n",
       "    <tr>\n",
       "      <th>42</th>\n",
       "      <td>14.714</td>\n",
       "      <td>14.389</td>\n",
       "      <td>8.551</td>\n",
       "      <td>5.968</td>\n",
       "      <td>0.195</td>\n",
       "      <td>25.798</td>\n",
       "      <td>8.903</td>\n",
       "      <td>3.093</td>\n",
       "    </tr>\n",
       "    <tr>\n",
       "      <th>43</th>\n",
       "      <td>9.461</td>\n",
       "      <td>9.220</td>\n",
       "      <td>5.082</td>\n",
       "      <td>4.253</td>\n",
       "      <td>0.126</td>\n",
       "      <td>22.441</td>\n",
       "      <td>8.717</td>\n",
       "      <td>3.582</td>\n",
       "    </tr>\n",
       "    <tr>\n",
       "      <th>44</th>\n",
       "      <td>10.816</td>\n",
       "      <td>10.526</td>\n",
       "      <td>6.385</td>\n",
       "      <td>4.298</td>\n",
       "      <td>0.132</td>\n",
       "      <td>19.435</td>\n",
       "      <td>6.782</td>\n",
       "      <td>6.659</td>\n",
       "    </tr>\n",
       "    <tr>\n",
       "      <th>45</th>\n",
       "      <td>7.114</td>\n",
       "      <td>6.929</td>\n",
       "      <td>3.981</td>\n",
       "      <td>3.047</td>\n",
       "      <td>0.086</td>\n",
       "      <td>16.682</td>\n",
       "      <td>7.093</td>\n",
       "      <td>10.124</td>\n",
       "    </tr>\n",
       "    <tr>\n",
       "      <th>46</th>\n",
       "      <td>6.524</td>\n",
       "      <td>6.323</td>\n",
       "      <td>3.814</td>\n",
       "      <td>2.632</td>\n",
       "      <td>0.078</td>\n",
       "      <td>14.359</td>\n",
       "      <td>8.295</td>\n",
       "      <td>9.235</td>\n",
       "    </tr>\n",
       "    <tr>\n",
       "      <th>47</th>\n",
       "      <td>4.816</td>\n",
       "      <td>4.702</td>\n",
       "      <td>2.270</td>\n",
       "      <td>2.480</td>\n",
       "      <td>0.066</td>\n",
       "      <td>12.531</td>\n",
       "      <td>6.755</td>\n",
       "      <td>12.097</td>\n",
       "    </tr>\n",
       "    <tr>\n",
       "      <th>48</th>\n",
       "      <td>3.613</td>\n",
       "      <td>3.543</td>\n",
       "      <td>1.428</td>\n",
       "      <td>2.132</td>\n",
       "      <td>0.053</td>\n",
       "      <td>11.158</td>\n",
       "      <td>5.339</td>\n",
       "      <td>6.271</td>\n",
       "    </tr>\n",
       "    <tr>\n",
       "      <th>49</th>\n",
       "      <td>6.775</td>\n",
       "      <td>6.533</td>\n",
       "      <td>4.764</td>\n",
       "      <td>1.947</td>\n",
       "      <td>0.064</td>\n",
       "      <td>10.165</td>\n",
       "      <td>6.502</td>\n",
       "      <td>5.204</td>\n",
       "    </tr>\n",
       "    <tr>\n",
       "      <th>50</th>\n",
       "      <td>6.645</td>\n",
       "      <td>6.410</td>\n",
       "      <td>4.845</td>\n",
       "      <td>1.741</td>\n",
       "      <td>0.060</td>\n",
       "      <td>9.530</td>\n",
       "      <td>7.158</td>\n",
       "      <td>5.801</td>\n",
       "    </tr>\n",
       "    <tr>\n",
       "      <th>51</th>\n",
       "      <td>4.683</td>\n",
       "      <td>4.516</td>\n",
       "      <td>3.096</td>\n",
       "      <td>1.540</td>\n",
       "      <td>0.047</td>\n",
       "      <td>9.266</td>\n",
       "      <td>4.989</td>\n",
       "      <td>7.092</td>\n",
       "    </tr>\n",
       "    <tr>\n",
       "      <th>52</th>\n",
       "      <td>8.063</td>\n",
       "      <td>7.750</td>\n",
       "      <td>6.188</td>\n",
       "      <td>1.808</td>\n",
       "      <td>0.067</td>\n",
       "      <td>10.750</td>\n",
       "      <td>4.794</td>\n",
       "      <td>5.623</td>\n",
       "    </tr>\n",
       "  </tbody>\n",
       "</table>\n",
       "</div>"
      ],
      "text/plain": [
       "              E_POA_kWm2  Panel_POA_kWm2  E_Beam_kWm2  E_Diffuse_kWm2  \\\n",
       "Week_of_Year                                                            \n",
       "1                  4.774           4.625        3.079           1.645   \n",
       "2                  6.364           6.149        4.426           1.874   \n",
       "3                  5.067           4.917        2.658           2.349   \n",
       "4                 13.115          12.666        9.793           3.200   \n",
       "5                  5.319           5.200        2.520           2.727   \n",
       "6                  8.581           8.359        4.993           3.480   \n",
       "7                 12.902          12.549        8.381           4.372   \n",
       "8                 10.508          10.341        4.337           6.013   \n",
       "9                 17.758          17.195       11.525           6.008   \n",
       "10                10.279          10.057        4.527           5.595   \n",
       "11                14.714          14.393        6.354           8.134   \n",
       "12                 6.407           6.380        0.442           5.845   \n",
       "13                13.350          13.176        2.141          10.963   \n",
       "14                36.713          35.899       23.961          12.198   \n",
       "15                22.579          22.305       10.505          11.699   \n",
       "16                26.308          25.746       10.858          14.993   \n",
       "17                31.316          30.565       15.250          15.530   \n",
       "18                43.300          42.208       28.428          14.148   \n",
       "19                29.818          29.423       10.945          18.336   \n",
       "20                31.585          30.910       12.331          18.669   \n",
       "21                34.928          34.213       16.078          18.220   \n",
       "22                45.521          44.066       27.913          16.789   \n",
       "23                36.816          35.913       16.922          19.211   \n",
       "24                29.427          28.722       10.594          18.272   \n",
       "25                28.085          27.528        9.956          17.600   \n",
       "26                25.565          25.211        6.552          18.519   \n",
       "27                29.183          28.706        8.651          19.981   \n",
       "28                24.723          24.197        6.985          17.268   \n",
       "29                32.037          31.216       12.855          18.580   \n",
       "30                35.814          34.953       16.315          18.853   \n",
       "31                28.617          27.980        9.841          18.256   \n",
       "32                26.849          26.377        8.658          17.695   \n",
       "33                31.843          31.093       16.522          14.769   \n",
       "34                33.686          32.946       18.646          14.479   \n",
       "35                33.451          32.676       19.351          13.566   \n",
       "36                23.442          22.958       11.169          11.894   \n",
       "37                32.797          31.818       21.621          10.698   \n",
       "38                15.741          15.437        5.974           9.513   \n",
       "39                15.427          15.186        6.040           9.141   \n",
       "40                21.518          21.009       12.810           8.409   \n",
       "41                21.581          20.995       15.130           6.187   \n",
       "42                14.714          14.389        8.551           5.968   \n",
       "43                 9.461           9.220        5.082           4.253   \n",
       "44                10.816          10.526        6.385           4.298   \n",
       "45                 7.114           6.929        3.981           3.047   \n",
       "46                 6.524           6.323        3.814           2.632   \n",
       "47                 4.816           4.702        2.270           2.480   \n",
       "48                 3.613           3.543        1.428           2.132   \n",
       "49                 6.775           6.533        4.764           1.947   \n",
       "50                 6.645           6.410        4.845           1.741   \n",
       "51                 4.683           4.516        3.096           1.540   \n",
       "52                 8.063           7.750        6.188           1.808   \n",
       "\n",
       "              E_Ground_kWm2  ET_HRad_kWm2  Ambient_Temperature_C  \\\n",
       "Week_of_Year                                                       \n",
       "1                     0.050        10.023                  1.837   \n",
       "2                     0.064        11.113                  4.951   \n",
       "3                     0.060        12.600                  4.137   \n",
       "4                     0.122        14.453                  4.195   \n",
       "5                     0.072        16.637                  6.055   \n",
       "6                     0.108        19.233                  5.692   \n",
       "7                     0.150        22.372                  4.726   \n",
       "8                     0.158        25.953                  6.826   \n",
       "9                     0.225        29.700                  4.816   \n",
       "10                    0.156        33.624                  3.830   \n",
       "11                    0.226        38.044                  3.377   \n",
       "12                    0.120        42.580                  2.432   \n",
       "13                    0.246        46.971                  2.519   \n",
       "14                    0.554        51.297                  4.684   \n",
       "15                    0.374        55.857                  7.359   \n",
       "16                    0.457        60.121                  7.956   \n",
       "17                    0.536        63.989                  7.275   \n",
       "18                    0.724        67.641                 10.924   \n",
       "19                    0.537        70.997                 10.603   \n",
       "20                    0.584        73.963                 11.200   \n",
       "21                    0.630        76.380                 11.248   \n",
       "22                    0.820        78.246                 12.158   \n",
       "23                    0.683        79.614                 13.433   \n",
       "24                    0.561        80.438                 12.495   \n",
       "25                    0.529        80.673                 12.860   \n",
       "26                    0.493        80.322                 13.852   \n",
       "27                    0.552        79.433                 13.907   \n",
       "28                    0.470        78.057                 14.383   \n",
       "29                    0.602        76.144                 14.333   \n",
       "30                    0.647        73.692                 14.938   \n",
       "31                    0.521        70.706                 14.296   \n",
       "32                    0.497        67.214                 14.248   \n",
       "33                    0.553        63.644                 14.134   \n",
       "34                    0.560        59.802                 14.020   \n",
       "35                    0.534        55.565                 12.540   \n",
       "36                    0.378        51.095                 13.019   \n",
       "37                    0.478        46.708                 12.474   \n",
       "38                    0.255        42.341                 12.818   \n",
       "39                    0.246        37.899                 12.749   \n",
       "40                    0.298        33.720                  9.720   \n",
       "41                    0.263        29.606                  9.005   \n",
       "42                    0.195        25.798                  8.903   \n",
       "43                    0.126        22.441                  8.717   \n",
       "44                    0.132        19.435                  6.782   \n",
       "45                    0.086        16.682                  7.093   \n",
       "46                    0.078        14.359                  8.295   \n",
       "47                    0.066        12.531                  6.755   \n",
       "48                    0.053        11.158                  5.339   \n",
       "49                    0.064        10.165                  6.502   \n",
       "50                    0.060         9.530                  7.158   \n",
       "51                    0.047         9.266                  4.989   \n",
       "52                    0.067        10.750                  4.794   \n",
       "\n",
       "              Wind_Speed_ms  \n",
       "Week_of_Year                 \n",
       "1                     5.561  \n",
       "2                     9.963  \n",
       "3                    12.424  \n",
       "4                     8.050  \n",
       "5                    10.413  \n",
       "6                     4.014  \n",
       "7                     4.448  \n",
       "8                     5.231  \n",
       "9                     2.953  \n",
       "10                    5.764  \n",
       "11                    3.515  \n",
       "12                    7.224  \n",
       "13                    4.306  \n",
       "14                    3.789  \n",
       "15                    5.544  \n",
       "16                    5.295  \n",
       "17                    4.361  \n",
       "18                    5.598  \n",
       "19                    6.843  \n",
       "20                    7.418  \n",
       "21                    5.444  \n",
       "22                    4.440  \n",
       "23                    4.185  \n",
       "24                    6.050  \n",
       "25                    8.123  \n",
       "26                    7.938  \n",
       "27                    7.565  \n",
       "28                    5.496  \n",
       "29                    4.197  \n",
       "30                    7.321  \n",
       "31                    4.308  \n",
       "32                    4.899  \n",
       "33                    3.804  \n",
       "34                    4.546  \n",
       "35                    5.766  \n",
       "36                    8.220  \n",
       "37                    4.132  \n",
       "38                    7.173  \n",
       "39                    6.591  \n",
       "40                    4.221  \n",
       "41                    3.244  \n",
       "42                    3.093  \n",
       "43                    3.582  \n",
       "44                    6.659  \n",
       "45                   10.124  \n",
       "46                    9.235  \n",
       "47                   12.097  \n",
       "48                    6.271  \n",
       "49                    5.204  \n",
       "50                    5.801  \n",
       "51                    7.092  \n",
       "52                    5.623  "
      ]
     },
     "execution_count": 7,
     "metadata": {},
     "output_type": "execute_result"
    }
   ],
   "source": [
    "site.rad_data.weekly"
   ]
  },
  {
   "cell_type": "code",
   "execution_count": 8,
   "metadata": {},
   "outputs": [
    {
     "data": {
      "text/html": [
       "<div>\n",
       "<style scoped>\n",
       "    .dataframe tbody tr th:only-of-type {\n",
       "        vertical-align: middle;\n",
       "    }\n",
       "\n",
       "    .dataframe tbody tr th {\n",
       "        vertical-align: top;\n",
       "    }\n",
       "\n",
       "    .dataframe thead th {\n",
       "        text-align: right;\n",
       "    }\n",
       "</style>\n",
       "<table border=\"1\" class=\"dataframe\">\n",
       "  <thead>\n",
       "    <tr style=\"text-align: right;\">\n",
       "      <th></th>\n",
       "      <th>E_POA_kWm2</th>\n",
       "      <th>Panel_POA_kWm2</th>\n",
       "      <th>E_Beam_kWm2</th>\n",
       "      <th>E_Diffuse_kWm2</th>\n",
       "      <th>E_Ground_kWm2</th>\n",
       "      <th>ET_HRad_kWm2</th>\n",
       "      <th>Ambient_Temperature_C</th>\n",
       "      <th>Wind_Speed_ms</th>\n",
       "    </tr>\n",
       "    <tr>\n",
       "      <th>Month_of_Year</th>\n",
       "      <th></th>\n",
       "      <th></th>\n",
       "      <th></th>\n",
       "      <th></th>\n",
       "      <th></th>\n",
       "      <th></th>\n",
       "      <th></th>\n",
       "      <th></th>\n",
       "    </tr>\n",
       "  </thead>\n",
       "  <tbody>\n",
       "    <tr>\n",
       "      <th>1</th>\n",
       "      <td>29.985</td>\n",
       "      <td>29.022</td>\n",
       "      <td>19.965</td>\n",
       "      <td>9.710</td>\n",
       "      <td>0.310</td>\n",
       "      <td>55.033</td>\n",
       "      <td>3.964</td>\n",
       "      <td>9.428</td>\n",
       "    </tr>\n",
       "    <tr>\n",
       "      <th>2</th>\n",
       "      <td>47.843</td>\n",
       "      <td>46.543</td>\n",
       "      <td>28.745</td>\n",
       "      <td>18.498</td>\n",
       "      <td>0.600</td>\n",
       "      <td>89.614</td>\n",
       "      <td>5.736</td>\n",
       "      <td>5.019</td>\n",
       "    </tr>\n",
       "    <tr>\n",
       "      <th>3</th>\n",
       "      <td>48.840</td>\n",
       "      <td>48.026</td>\n",
       "      <td>15.886</td>\n",
       "      <td>32.152</td>\n",
       "      <td>0.802</td>\n",
       "      <td>171.684</td>\n",
       "      <td>3.241</td>\n",
       "      <td>4.856</td>\n",
       "    </tr>\n",
       "    <tr>\n",
       "      <th>4</th>\n",
       "      <td>124.298</td>\n",
       "      <td>121.771</td>\n",
       "      <td>63.154</td>\n",
       "      <td>59.089</td>\n",
       "      <td>2.055</td>\n",
       "      <td>247.681</td>\n",
       "      <td>6.774</td>\n",
       "      <td>4.682</td>\n",
       "    </tr>\n",
       "    <tr>\n",
       "      <th>5</th>\n",
       "      <td>159.440</td>\n",
       "      <td>155.914</td>\n",
       "      <td>79.558</td>\n",
       "      <td>77.046</td>\n",
       "      <td>2.836</td>\n",
       "      <td>324.054</td>\n",
       "      <td>11.035</td>\n",
       "      <td>6.342</td>\n",
       "    </tr>\n",
       "    <tr>\n",
       "      <th>6</th>\n",
       "      <td>137.910</td>\n",
       "      <td>134.683</td>\n",
       "      <td>57.976</td>\n",
       "      <td>77.351</td>\n",
       "      <td>2.583</td>\n",
       "      <td>343.343</td>\n",
       "      <td>13.222</td>\n",
       "      <td>6.190</td>\n",
       "    </tr>\n",
       "    <tr>\n",
       "      <th>7</th>\n",
       "      <td>135.371</td>\n",
       "      <td>132.344</td>\n",
       "      <td>50.456</td>\n",
       "      <td>82.399</td>\n",
       "      <td>2.516</td>\n",
       "      <td>339.285</td>\n",
       "      <td>14.425</td>\n",
       "      <td>6.068</td>\n",
       "    </tr>\n",
       "    <tr>\n",
       "      <th>8</th>\n",
       "      <td>136.679</td>\n",
       "      <td>133.760</td>\n",
       "      <td>64.627</td>\n",
       "      <td>69.696</td>\n",
       "      <td>2.357</td>\n",
       "      <td>280.979</td>\n",
       "      <td>13.902</td>\n",
       "      <td>4.334</td>\n",
       "    </tr>\n",
       "    <tr>\n",
       "      <th>9</th>\n",
       "      <td>94.344</td>\n",
       "      <td>92.198</td>\n",
       "      <td>47.730</td>\n",
       "      <td>45.139</td>\n",
       "      <td>1.475</td>\n",
       "      <td>193.464</td>\n",
       "      <td>12.699</td>\n",
       "      <td>6.726</td>\n",
       "    </tr>\n",
       "    <tr>\n",
       "      <th>10</th>\n",
       "      <td>69.601</td>\n",
       "      <td>67.922</td>\n",
       "      <td>42.121</td>\n",
       "      <td>26.560</td>\n",
       "      <td>0.921</td>\n",
       "      <td>120.250</td>\n",
       "      <td>8.928</td>\n",
       "      <td>3.629</td>\n",
       "    </tr>\n",
       "    <tr>\n",
       "      <th>11</th>\n",
       "      <td>29.932</td>\n",
       "      <td>29.098</td>\n",
       "      <td>17.211</td>\n",
       "      <td>12.356</td>\n",
       "      <td>0.365</td>\n",
       "      <td>62.409</td>\n",
       "      <td>6.824</td>\n",
       "      <td>9.693</td>\n",
       "    </tr>\n",
       "    <tr>\n",
       "      <th>12</th>\n",
       "      <td>26.789</td>\n",
       "      <td>25.825</td>\n",
       "      <td>19.013</td>\n",
       "      <td>7.528</td>\n",
       "      <td>0.248</td>\n",
       "      <td>42.783</td>\n",
       "      <td>5.860</td>\n",
       "      <td>5.744</td>\n",
       "    </tr>\n",
       "  </tbody>\n",
       "</table>\n",
       "</div>"
      ],
      "text/plain": [
       "               E_POA_kWm2  Panel_POA_kWm2  E_Beam_kWm2  E_Diffuse_kWm2  \\\n",
       "Month_of_Year                                                            \n",
       "1                  29.985          29.022       19.965           9.710   \n",
       "2                  47.843          46.543       28.745          18.498   \n",
       "3                  48.840          48.026       15.886          32.152   \n",
       "4                 124.298         121.771       63.154          59.089   \n",
       "5                 159.440         155.914       79.558          77.046   \n",
       "6                 137.910         134.683       57.976          77.351   \n",
       "7                 135.371         132.344       50.456          82.399   \n",
       "8                 136.679         133.760       64.627          69.696   \n",
       "9                  94.344          92.198       47.730          45.139   \n",
       "10                 69.601          67.922       42.121          26.560   \n",
       "11                 29.932          29.098       17.211          12.356   \n",
       "12                 26.789          25.825       19.013           7.528   \n",
       "\n",
       "               E_Ground_kWm2  ET_HRad_kWm2  Ambient_Temperature_C  \\\n",
       "Month_of_Year                                                       \n",
       "1                      0.310        55.033                  3.964   \n",
       "2                      0.600        89.614                  5.736   \n",
       "3                      0.802       171.684                  3.241   \n",
       "4                      2.055       247.681                  6.774   \n",
       "5                      2.836       324.054                 11.035   \n",
       "6                      2.583       343.343                 13.222   \n",
       "7                      2.516       339.285                 14.425   \n",
       "8                      2.357       280.979                 13.902   \n",
       "9                      1.475       193.464                 12.699   \n",
       "10                     0.921       120.250                  8.928   \n",
       "11                     0.365        62.409                  6.824   \n",
       "12                     0.248        42.783                  5.860   \n",
       "\n",
       "               Wind_Speed_ms  \n",
       "Month_of_Year                 \n",
       "1                      9.428  \n",
       "2                      5.019  \n",
       "3                      4.856  \n",
       "4                      4.682  \n",
       "5                      6.342  \n",
       "6                      6.190  \n",
       "7                      6.068  \n",
       "8                      4.334  \n",
       "9                      6.726  \n",
       "10                     3.629  \n",
       "11                     9.693  \n",
       "12                     5.744  "
      ]
     },
     "execution_count": 8,
     "metadata": {},
     "output_type": "execute_result"
    }
   ],
   "source": [
    "site.rad_data.monthly"
   ]
  },
  {
   "cell_type": "code",
   "execution_count": 9,
   "metadata": {},
   "outputs": [
    {
     "data": {
      "text/html": [
       "<div>\n",
       "<style scoped>\n",
       "    .dataframe tbody tr th:only-of-type {\n",
       "        vertical-align: middle;\n",
       "    }\n",
       "\n",
       "    .dataframe tbody tr th {\n",
       "        vertical-align: top;\n",
       "    }\n",
       "\n",
       "    .dataframe thead th {\n",
       "        text-align: right;\n",
       "    }\n",
       "</style>\n",
       "<table border=\"1\" class=\"dataframe\">\n",
       "  <thead>\n",
       "    <tr style=\"text-align: right;\">\n",
       "      <th></th>\n",
       "      <th>E_POA_kWm2</th>\n",
       "      <th>Panel_POA_kWm2</th>\n",
       "      <th>E_Beam_kWm2</th>\n",
       "      <th>E_Diffuse_kWm2</th>\n",
       "      <th>E_Ground_kWm2</th>\n",
       "      <th>ET_HRad_kWm2</th>\n",
       "      <th>Ambient_Temperature_C</th>\n",
       "      <th>Wind_Speed_ms</th>\n",
       "    </tr>\n",
       "    <tr>\n",
       "      <th>Month_of_Year</th>\n",
       "      <th></th>\n",
       "      <th></th>\n",
       "      <th></th>\n",
       "      <th></th>\n",
       "      <th></th>\n",
       "      <th></th>\n",
       "      <th></th>\n",
       "      <th></th>\n",
       "    </tr>\n",
       "  </thead>\n",
       "  <tbody>\n",
       "    <tr>\n",
       "      <th>1</th>\n",
       "      <td>126.668</td>\n",
       "      <td>123.591</td>\n",
       "      <td>64.596</td>\n",
       "      <td>60.360</td>\n",
       "      <td>1.712</td>\n",
       "      <td>316.331</td>\n",
       "      <td>4.267</td>\n",
       "      <td>6.482</td>\n",
       "    </tr>\n",
       "    <tr>\n",
       "      <th>2</th>\n",
       "      <td>421.648</td>\n",
       "      <td>412.368</td>\n",
       "      <td>200.688</td>\n",
       "      <td>213.486</td>\n",
       "      <td>7.473</td>\n",
       "      <td>915.078</td>\n",
       "      <td>10.351</td>\n",
       "      <td>5.744</td>\n",
       "    </tr>\n",
       "    <tr>\n",
       "      <th>3</th>\n",
       "      <td>366.395</td>\n",
       "      <td>358.301</td>\n",
       "      <td>162.812</td>\n",
       "      <td>197.234</td>\n",
       "      <td>6.348</td>\n",
       "      <td>813.728</td>\n",
       "      <td>13.686</td>\n",
       "      <td>5.699</td>\n",
       "    </tr>\n",
       "    <tr>\n",
       "      <th>4</th>\n",
       "      <td>126.322</td>\n",
       "      <td>122.845</td>\n",
       "      <td>78.345</td>\n",
       "      <td>46.444</td>\n",
       "      <td>1.533</td>\n",
       "      <td>225.441</td>\n",
       "      <td>7.208</td>\n",
       "      <td>6.319</td>\n",
       "    </tr>\n",
       "  </tbody>\n",
       "</table>\n",
       "</div>"
      ],
      "text/plain": [
       "               E_POA_kWm2  Panel_POA_kWm2  E_Beam_kWm2  E_Diffuse_kWm2  \\\n",
       "Month_of_Year                                                            \n",
       "1                 126.668         123.591       64.596          60.360   \n",
       "2                 421.648         412.368      200.688         213.486   \n",
       "3                 366.395         358.301      162.812         197.234   \n",
       "4                 126.322         122.845       78.345          46.444   \n",
       "\n",
       "               E_Ground_kWm2  ET_HRad_kWm2  Ambient_Temperature_C  \\\n",
       "Month_of_Year                                                       \n",
       "1                      1.712       316.331                  4.267   \n",
       "2                      7.473       915.078                 10.351   \n",
       "3                      6.348       813.728                 13.686   \n",
       "4                      1.533       225.441                  7.208   \n",
       "\n",
       "               Wind_Speed_ms  \n",
       "Month_of_Year                 \n",
       "1                      6.482  \n",
       "2                      5.744  \n",
       "3                      5.699  \n",
       "4                      6.319  "
      ]
     },
     "execution_count": 9,
     "metadata": {},
     "output_type": "execute_result"
    }
   ],
   "source": [
    "site.rad_data.quarterly"
   ]
  },
  {
   "cell_type": "code",
   "execution_count": null,
   "metadata": {},
   "outputs": [],
   "source": []
  },
  {
   "cell_type": "markdown",
   "metadata": {},
   "source": [
    "### **Access variables from irrad_model to perform custom operation**"
   ]
  },
  {
   "cell_type": "code",
   "execution_count": 4,
   "metadata": {},
   "outputs": [
    {
     "name": "stdout",
     "output_type": "stream",
     "text": [
      "Total Diffuse Radiation (kW/m2): 517.5242061280741\n",
      "Total Beam Radiation (kW/m2): 506.4417047585395\n",
      "Total Ground Radiation (kW/m2): 17.066899182059863\n"
     ]
    }
   ],
   "source": [
    "Total_Diffuse = site.irrad_model.E_Diffuse_kWm2.sum()\n",
    "Total_Beam = site.irrad_model.E_Beam_kWm2.sum()\n",
    "Total_Ground = site.irrad_model.E_Ground_kWm2.sum()\n",
    "\n",
    "print(f\"Total Diffuse Radiation (kW/m2): {Total_Diffuse}\")\n",
    "print(f\"Total Beam Radiation (kW/m2): {Total_Beam}\")\n",
    "print(f\"Total Ground Radiation (kW/m2): {Total_Ground}\")"
   ]
  },
  {
   "cell_type": "code",
   "execution_count": null,
   "metadata": {},
   "outputs": [],
   "source": []
  },
  {
   "cell_type": "markdown",
   "metadata": {},
   "source": [
    "### **Access data from grouped summaries for custom operations**"
   ]
  },
  {
   "cell_type": "code",
   "execution_count": 14,
   "metadata": {},
   "outputs": [
    {
     "data": {
      "application/vnd.plotly.v1+json": {
       "config": {
        "plotlyServerURL": "https://plot.ly"
       },
       "data": [
        {
         "alignmentgroup": "True",
         "hovertemplate": "variable=E_Diffuse_kWm2<br>Hour_of_Day=%{x}<br>value=%{y}<extra></extra>",
         "legendgroup": "E_Diffuse_kWm2",
         "marker": {
          "color": "#636efa",
          "pattern": {
           "shape": ""
          }
         },
         "name": "E_Diffuse_kWm2",
         "offsetgroup": "E_Diffuse_kWm2",
         "orientation": "v",
         "showlegend": true,
         "textposition": "auto",
         "type": "bar",
         "x": [
          0,
          1,
          2,
          3,
          4,
          5,
          6,
          7,
          8,
          9,
          10,
          11,
          12,
          13,
          14,
          15,
          16,
          17,
          18,
          19,
          20,
          21,
          22,
          23
         ],
         "xaxis": "x",
         "y": [
          0,
          0,
          0,
          0,
          0,
          2.524,
          9.395,
          18.708,
          30.368,
          42.601,
          52.061,
          62.134,
          64.799,
          62.503,
          55.876,
          45.973,
          34.543,
          21.229,
          11.277,
          3.535,
          0,
          0,
          0,
          0
         ],
         "yaxis": "y"
        },
        {
         "alignmentgroup": "True",
         "hovertemplate": "variable=E_Beam_kWm2<br>Hour_of_Day=%{x}<br>value=%{y}<extra></extra>",
         "legendgroup": "E_Beam_kWm2",
         "marker": {
          "color": "#EF553B",
          "pattern": {
           "shape": ""
          }
         },
         "name": "E_Beam_kWm2",
         "offsetgroup": "E_Beam_kWm2",
         "orientation": "v",
         "showlegend": true,
         "textposition": "auto",
         "type": "bar",
         "x": [
          0,
          1,
          2,
          3,
          4,
          5,
          6,
          7,
          8,
          9,
          10,
          11,
          12,
          13,
          14,
          15,
          16,
          17,
          18,
          19,
          20,
          21,
          22,
          23
         ],
         "xaxis": "x",
         "y": [
          0,
          0,
          0,
          0,
          0,
          0,
          3.119,
          14.792,
          30.938,
          44.894,
          60.678,
          72.68,
          67.925,
          64.406,
          58.887,
          49.291,
          24.507,
          12.82,
          1.504,
          0,
          0,
          0,
          0,
          0
         ],
         "yaxis": "y"
        },
        {
         "alignmentgroup": "True",
         "hovertemplate": "variable=E_Ground_kWm2<br>Hour_of_Day=%{x}<br>value=%{y}<extra></extra>",
         "legendgroup": "E_Ground_kWm2",
         "marker": {
          "color": "#00cc96",
          "pattern": {
           "shape": ""
          }
         },
         "name": "E_Ground_kWm2",
         "offsetgroup": "E_Ground_kWm2",
         "orientation": "v",
         "showlegend": true,
         "textposition": "auto",
         "type": "bar",
         "x": [
          0,
          1,
          2,
          3,
          4,
          5,
          6,
          7,
          8,
          9,
          10,
          11,
          12,
          13,
          14,
          15,
          16,
          17,
          18,
          19,
          20,
          21,
          22,
          23
         ],
         "xaxis": "x",
         "y": [
          0,
          0,
          0,
          0,
          0,
          0.07,
          0.295,
          0.626,
          1.034,
          1.406,
          1.745,
          2.064,
          2.065,
          1.979,
          1.839,
          1.609,
          1.103,
          0.718,
          0.381,
          0.116,
          0.016,
          0,
          0,
          0
         ],
         "yaxis": "y"
        }
       ],
       "layout": {
        "barmode": "relative",
        "legend": {
         "title": {
          "text": "variable"
         },
         "tracegroupgap": 0
        },
        "margin": {
         "t": 60
        },
        "template": {
         "data": {
          "bar": [
           {
            "error_x": {
             "color": "#2a3f5f"
            },
            "error_y": {
             "color": "#2a3f5f"
            },
            "marker": {
             "line": {
              "color": "#E5ECF6",
              "width": 0.5
             },
             "pattern": {
              "fillmode": "overlay",
              "size": 10,
              "solidity": 0.2
             }
            },
            "type": "bar"
           }
          ],
          "barpolar": [
           {
            "marker": {
             "line": {
              "color": "#E5ECF6",
              "width": 0.5
             },
             "pattern": {
              "fillmode": "overlay",
              "size": 10,
              "solidity": 0.2
             }
            },
            "type": "barpolar"
           }
          ],
          "carpet": [
           {
            "aaxis": {
             "endlinecolor": "#2a3f5f",
             "gridcolor": "white",
             "linecolor": "white",
             "minorgridcolor": "white",
             "startlinecolor": "#2a3f5f"
            },
            "baxis": {
             "endlinecolor": "#2a3f5f",
             "gridcolor": "white",
             "linecolor": "white",
             "minorgridcolor": "white",
             "startlinecolor": "#2a3f5f"
            },
            "type": "carpet"
           }
          ],
          "choropleth": [
           {
            "colorbar": {
             "outlinewidth": 0,
             "ticks": ""
            },
            "type": "choropleth"
           }
          ],
          "contour": [
           {
            "colorbar": {
             "outlinewidth": 0,
             "ticks": ""
            },
            "colorscale": [
             [
              0,
              "#0d0887"
             ],
             [
              0.1111111111111111,
              "#46039f"
             ],
             [
              0.2222222222222222,
              "#7201a8"
             ],
             [
              0.3333333333333333,
              "#9c179e"
             ],
             [
              0.4444444444444444,
              "#bd3786"
             ],
             [
              0.5555555555555556,
              "#d8576b"
             ],
             [
              0.6666666666666666,
              "#ed7953"
             ],
             [
              0.7777777777777778,
              "#fb9f3a"
             ],
             [
              0.8888888888888888,
              "#fdca26"
             ],
             [
              1,
              "#f0f921"
             ]
            ],
            "type": "contour"
           }
          ],
          "contourcarpet": [
           {
            "colorbar": {
             "outlinewidth": 0,
             "ticks": ""
            },
            "type": "contourcarpet"
           }
          ],
          "heatmap": [
           {
            "colorbar": {
             "outlinewidth": 0,
             "ticks": ""
            },
            "colorscale": [
             [
              0,
              "#0d0887"
             ],
             [
              0.1111111111111111,
              "#46039f"
             ],
             [
              0.2222222222222222,
              "#7201a8"
             ],
             [
              0.3333333333333333,
              "#9c179e"
             ],
             [
              0.4444444444444444,
              "#bd3786"
             ],
             [
              0.5555555555555556,
              "#d8576b"
             ],
             [
              0.6666666666666666,
              "#ed7953"
             ],
             [
              0.7777777777777778,
              "#fb9f3a"
             ],
             [
              0.8888888888888888,
              "#fdca26"
             ],
             [
              1,
              "#f0f921"
             ]
            ],
            "type": "heatmap"
           }
          ],
          "heatmapgl": [
           {
            "colorbar": {
             "outlinewidth": 0,
             "ticks": ""
            },
            "colorscale": [
             [
              0,
              "#0d0887"
             ],
             [
              0.1111111111111111,
              "#46039f"
             ],
             [
              0.2222222222222222,
              "#7201a8"
             ],
             [
              0.3333333333333333,
              "#9c179e"
             ],
             [
              0.4444444444444444,
              "#bd3786"
             ],
             [
              0.5555555555555556,
              "#d8576b"
             ],
             [
              0.6666666666666666,
              "#ed7953"
             ],
             [
              0.7777777777777778,
              "#fb9f3a"
             ],
             [
              0.8888888888888888,
              "#fdca26"
             ],
             [
              1,
              "#f0f921"
             ]
            ],
            "type": "heatmapgl"
           }
          ],
          "histogram": [
           {
            "marker": {
             "pattern": {
              "fillmode": "overlay",
              "size": 10,
              "solidity": 0.2
             }
            },
            "type": "histogram"
           }
          ],
          "histogram2d": [
           {
            "colorbar": {
             "outlinewidth": 0,
             "ticks": ""
            },
            "colorscale": [
             [
              0,
              "#0d0887"
             ],
             [
              0.1111111111111111,
              "#46039f"
             ],
             [
              0.2222222222222222,
              "#7201a8"
             ],
             [
              0.3333333333333333,
              "#9c179e"
             ],
             [
              0.4444444444444444,
              "#bd3786"
             ],
             [
              0.5555555555555556,
              "#d8576b"
             ],
             [
              0.6666666666666666,
              "#ed7953"
             ],
             [
              0.7777777777777778,
              "#fb9f3a"
             ],
             [
              0.8888888888888888,
              "#fdca26"
             ],
             [
              1,
              "#f0f921"
             ]
            ],
            "type": "histogram2d"
           }
          ],
          "histogram2dcontour": [
           {
            "colorbar": {
             "outlinewidth": 0,
             "ticks": ""
            },
            "colorscale": [
             [
              0,
              "#0d0887"
             ],
             [
              0.1111111111111111,
              "#46039f"
             ],
             [
              0.2222222222222222,
              "#7201a8"
             ],
             [
              0.3333333333333333,
              "#9c179e"
             ],
             [
              0.4444444444444444,
              "#bd3786"
             ],
             [
              0.5555555555555556,
              "#d8576b"
             ],
             [
              0.6666666666666666,
              "#ed7953"
             ],
             [
              0.7777777777777778,
              "#fb9f3a"
             ],
             [
              0.8888888888888888,
              "#fdca26"
             ],
             [
              1,
              "#f0f921"
             ]
            ],
            "type": "histogram2dcontour"
           }
          ],
          "mesh3d": [
           {
            "colorbar": {
             "outlinewidth": 0,
             "ticks": ""
            },
            "type": "mesh3d"
           }
          ],
          "parcoords": [
           {
            "line": {
             "colorbar": {
              "outlinewidth": 0,
              "ticks": ""
             }
            },
            "type": "parcoords"
           }
          ],
          "pie": [
           {
            "automargin": true,
            "type": "pie"
           }
          ],
          "scatter": [
           {
            "fillpattern": {
             "fillmode": "overlay",
             "size": 10,
             "solidity": 0.2
            },
            "type": "scatter"
           }
          ],
          "scatter3d": [
           {
            "line": {
             "colorbar": {
              "outlinewidth": 0,
              "ticks": ""
             }
            },
            "marker": {
             "colorbar": {
              "outlinewidth": 0,
              "ticks": ""
             }
            },
            "type": "scatter3d"
           }
          ],
          "scattercarpet": [
           {
            "marker": {
             "colorbar": {
              "outlinewidth": 0,
              "ticks": ""
             }
            },
            "type": "scattercarpet"
           }
          ],
          "scattergeo": [
           {
            "marker": {
             "colorbar": {
              "outlinewidth": 0,
              "ticks": ""
             }
            },
            "type": "scattergeo"
           }
          ],
          "scattergl": [
           {
            "marker": {
             "colorbar": {
              "outlinewidth": 0,
              "ticks": ""
             }
            },
            "type": "scattergl"
           }
          ],
          "scattermapbox": [
           {
            "marker": {
             "colorbar": {
              "outlinewidth": 0,
              "ticks": ""
             }
            },
            "type": "scattermapbox"
           }
          ],
          "scatterpolar": [
           {
            "marker": {
             "colorbar": {
              "outlinewidth": 0,
              "ticks": ""
             }
            },
            "type": "scatterpolar"
           }
          ],
          "scatterpolargl": [
           {
            "marker": {
             "colorbar": {
              "outlinewidth": 0,
              "ticks": ""
             }
            },
            "type": "scatterpolargl"
           }
          ],
          "scatterternary": [
           {
            "marker": {
             "colorbar": {
              "outlinewidth": 0,
              "ticks": ""
             }
            },
            "type": "scatterternary"
           }
          ],
          "surface": [
           {
            "colorbar": {
             "outlinewidth": 0,
             "ticks": ""
            },
            "colorscale": [
             [
              0,
              "#0d0887"
             ],
             [
              0.1111111111111111,
              "#46039f"
             ],
             [
              0.2222222222222222,
              "#7201a8"
             ],
             [
              0.3333333333333333,
              "#9c179e"
             ],
             [
              0.4444444444444444,
              "#bd3786"
             ],
             [
              0.5555555555555556,
              "#d8576b"
             ],
             [
              0.6666666666666666,
              "#ed7953"
             ],
             [
              0.7777777777777778,
              "#fb9f3a"
             ],
             [
              0.8888888888888888,
              "#fdca26"
             ],
             [
              1,
              "#f0f921"
             ]
            ],
            "type": "surface"
           }
          ],
          "table": [
           {
            "cells": {
             "fill": {
              "color": "#EBF0F8"
             },
             "line": {
              "color": "white"
             }
            },
            "header": {
             "fill": {
              "color": "#C8D4E3"
             },
             "line": {
              "color": "white"
             }
            },
            "type": "table"
           }
          ]
         },
         "layout": {
          "annotationdefaults": {
           "arrowcolor": "#2a3f5f",
           "arrowhead": 0,
           "arrowwidth": 1
          },
          "autotypenumbers": "strict",
          "coloraxis": {
           "colorbar": {
            "outlinewidth": 0,
            "ticks": ""
           }
          },
          "colorscale": {
           "diverging": [
            [
             0,
             "#8e0152"
            ],
            [
             0.1,
             "#c51b7d"
            ],
            [
             0.2,
             "#de77ae"
            ],
            [
             0.3,
             "#f1b6da"
            ],
            [
             0.4,
             "#fde0ef"
            ],
            [
             0.5,
             "#f7f7f7"
            ],
            [
             0.6,
             "#e6f5d0"
            ],
            [
             0.7,
             "#b8e186"
            ],
            [
             0.8,
             "#7fbc41"
            ],
            [
             0.9,
             "#4d9221"
            ],
            [
             1,
             "#276419"
            ]
           ],
           "sequential": [
            [
             0,
             "#0d0887"
            ],
            [
             0.1111111111111111,
             "#46039f"
            ],
            [
             0.2222222222222222,
             "#7201a8"
            ],
            [
             0.3333333333333333,
             "#9c179e"
            ],
            [
             0.4444444444444444,
             "#bd3786"
            ],
            [
             0.5555555555555556,
             "#d8576b"
            ],
            [
             0.6666666666666666,
             "#ed7953"
            ],
            [
             0.7777777777777778,
             "#fb9f3a"
            ],
            [
             0.8888888888888888,
             "#fdca26"
            ],
            [
             1,
             "#f0f921"
            ]
           ],
           "sequentialminus": [
            [
             0,
             "#0d0887"
            ],
            [
             0.1111111111111111,
             "#46039f"
            ],
            [
             0.2222222222222222,
             "#7201a8"
            ],
            [
             0.3333333333333333,
             "#9c179e"
            ],
            [
             0.4444444444444444,
             "#bd3786"
            ],
            [
             0.5555555555555556,
             "#d8576b"
            ],
            [
             0.6666666666666666,
             "#ed7953"
            ],
            [
             0.7777777777777778,
             "#fb9f3a"
            ],
            [
             0.8888888888888888,
             "#fdca26"
            ],
            [
             1,
             "#f0f921"
            ]
           ]
          },
          "colorway": [
           "#636efa",
           "#EF553B",
           "#00cc96",
           "#ab63fa",
           "#FFA15A",
           "#19d3f3",
           "#FF6692",
           "#B6E880",
           "#FF97FF",
           "#FECB52"
          ],
          "font": {
           "color": "#2a3f5f"
          },
          "geo": {
           "bgcolor": "white",
           "lakecolor": "white",
           "landcolor": "#E5ECF6",
           "showlakes": true,
           "showland": true,
           "subunitcolor": "white"
          },
          "hoverlabel": {
           "align": "left"
          },
          "hovermode": "closest",
          "mapbox": {
           "style": "light"
          },
          "paper_bgcolor": "white",
          "plot_bgcolor": "#E5ECF6",
          "polar": {
           "angularaxis": {
            "gridcolor": "white",
            "linecolor": "white",
            "ticks": ""
           },
           "bgcolor": "#E5ECF6",
           "radialaxis": {
            "gridcolor": "white",
            "linecolor": "white",
            "ticks": ""
           }
          },
          "scene": {
           "xaxis": {
            "backgroundcolor": "#E5ECF6",
            "gridcolor": "white",
            "gridwidth": 2,
            "linecolor": "white",
            "showbackground": true,
            "ticks": "",
            "zerolinecolor": "white"
           },
           "yaxis": {
            "backgroundcolor": "#E5ECF6",
            "gridcolor": "white",
            "gridwidth": 2,
            "linecolor": "white",
            "showbackground": true,
            "ticks": "",
            "zerolinecolor": "white"
           },
           "zaxis": {
            "backgroundcolor": "#E5ECF6",
            "gridcolor": "white",
            "gridwidth": 2,
            "linecolor": "white",
            "showbackground": true,
            "ticks": "",
            "zerolinecolor": "white"
           }
          },
          "shapedefaults": {
           "line": {
            "color": "#2a3f5f"
           }
          },
          "ternary": {
           "aaxis": {
            "gridcolor": "white",
            "linecolor": "white",
            "ticks": ""
           },
           "baxis": {
            "gridcolor": "white",
            "linecolor": "white",
            "ticks": ""
           },
           "bgcolor": "#E5ECF6",
           "caxis": {
            "gridcolor": "white",
            "linecolor": "white",
            "ticks": ""
           }
          },
          "title": {
           "x": 0.05
          },
          "xaxis": {
           "automargin": true,
           "gridcolor": "white",
           "linecolor": "white",
           "ticks": "",
           "title": {
            "standoff": 15
           },
           "zerolinecolor": "white",
           "zerolinewidth": 2
          },
          "yaxis": {
           "automargin": true,
           "gridcolor": "white",
           "linecolor": "white",
           "ticks": "",
           "title": {
            "standoff": 15
           },
           "zerolinecolor": "white",
           "zerolinewidth": 2
          }
         }
        },
        "xaxis": {
         "anchor": "y",
         "domain": [
          0,
          1
         ],
         "title": {
          "text": "Hour_of_Day"
         }
        },
        "yaxis": {
         "anchor": "x",
         "domain": [
          0,
          1
         ],
         "title": {
          "text": "value"
         }
        }
       }
      }
     },
     "metadata": {},
     "output_type": "display_data"
    }
   ],
   "source": [
    "import plotly.express as px\n",
    "px.bar(site.rad_data.hourly[[\"E_Diffuse_kWm2\", \"E_Beam_kWm2\", \"E_Ground_kWm2\"]])"
   ]
  },
  {
   "cell_type": "code",
   "execution_count": 15,
   "metadata": {},
   "outputs": [
    {
     "data": {
      "application/vnd.plotly.v1+json": {
       "config": {
        "plotlyServerURL": "https://plot.ly"
       },
       "data": [
        {
         "alignmentgroup": "True",
         "hovertemplate": "variable=E_Diffuse_kWm2<br>Day_of_Year=%{x}<br>value=%{y}<extra></extra>",
         "legendgroup": "E_Diffuse_kWm2",
         "marker": {
          "color": "#636efa",
          "pattern": {
           "shape": ""
          }
         },
         "name": "E_Diffuse_kWm2",
         "offsetgroup": "E_Diffuse_kWm2",
         "orientation": "v",
         "showlegend": true,
         "textposition": "auto",
         "type": "bar",
         "x": [
          1,
          2,
          3,
          4,
          5,
          6,
          7,
          8,
          9,
          10,
          11,
          12,
          13,
          14,
          15,
          16,
          17,
          18,
          19,
          20,
          21,
          22,
          23,
          24,
          25,
          26,
          27,
          28,
          29,
          30,
          31,
          32,
          33,
          34,
          35,
          36,
          37,
          38,
          39,
          40,
          41,
          42,
          43,
          44,
          45,
          46,
          47,
          48,
          49,
          50,
          51,
          52,
          53,
          54,
          55,
          56,
          57,
          58,
          59,
          60,
          61,
          62,
          63,
          64,
          65,
          66,
          67,
          68,
          69,
          70,
          71,
          72,
          73,
          74,
          75,
          76,
          77,
          78,
          79,
          80,
          81,
          82,
          83,
          84,
          85,
          86,
          87,
          88,
          89,
          90,
          91,
          92,
          93,
          94,
          95,
          96,
          97,
          98,
          99,
          100,
          101,
          102,
          103,
          104,
          105,
          106,
          107,
          108,
          109,
          110,
          111,
          112,
          113,
          114,
          115,
          116,
          117,
          118,
          119,
          120,
          121,
          122,
          123,
          124,
          125,
          126,
          127,
          128,
          129,
          130,
          131,
          132,
          133,
          134,
          135,
          136,
          137,
          138,
          139,
          140,
          141,
          142,
          143,
          144,
          145,
          146,
          147,
          148,
          149,
          150,
          151,
          152,
          153,
          154,
          155,
          156,
          157,
          158,
          159,
          160,
          161,
          162,
          163,
          164,
          165,
          166,
          167,
          168,
          169,
          170,
          171,
          172,
          173,
          174,
          175,
          176,
          177,
          178,
          179,
          180,
          181,
          182,
          183,
          184,
          185,
          186,
          187,
          188,
          189,
          190,
          191,
          192,
          193,
          194,
          195,
          196,
          197,
          198,
          199,
          200,
          201,
          202,
          203,
          204,
          205,
          206,
          207,
          208,
          209,
          210,
          211,
          212,
          213,
          214,
          215,
          216,
          217,
          218,
          219,
          220,
          221,
          222,
          223,
          224,
          225,
          226,
          227,
          228,
          229,
          230,
          231,
          232,
          233,
          234,
          235,
          236,
          237,
          238,
          239,
          240,
          241,
          242,
          243,
          244,
          245,
          246,
          247,
          248,
          249,
          250,
          251,
          252,
          253,
          254,
          255,
          256,
          257,
          258,
          259,
          260,
          261,
          262,
          263,
          264,
          265,
          266,
          267,
          268,
          269,
          270,
          271,
          272,
          273,
          274,
          275,
          276,
          277,
          278,
          279,
          280,
          281,
          282,
          283,
          284,
          285,
          286,
          287,
          288,
          289,
          290,
          291,
          292,
          293,
          294,
          295,
          296,
          297,
          298,
          299,
          300,
          301,
          302,
          303,
          304,
          305,
          306,
          307,
          308,
          309,
          310,
          311,
          312,
          313,
          314,
          315,
          316,
          317,
          318,
          319,
          320,
          321,
          322,
          323,
          324,
          325,
          326,
          327,
          328,
          329,
          330,
          331,
          332,
          333,
          334,
          335,
          336,
          337,
          338,
          339,
          340,
          341,
          342,
          343,
          344,
          345,
          346,
          347,
          348,
          349,
          350,
          351,
          352,
          353,
          354,
          355,
          356,
          357,
          358,
          359,
          360,
          361,
          362,
          363,
          364,
          365
         ],
         "xaxis": "x",
         "y": [
          0.106,
          0.23,
          0.209,
          0.278,
          0.283,
          0.273,
          0.268,
          0.292,
          0.296,
          0.262,
          0.186,
          0.325,
          0.281,
          0.231,
          0.293,
          0.177,
          0.258,
          0.43,
          0.441,
          0.369,
          0.381,
          0.421,
          0.476,
          0.363,
          0.43,
          0.498,
          0.465,
          0.548,
          0.168,
          0.167,
          0.307,
          0.599,
          0.577,
          0.498,
          0.411,
          0.314,
          0.524,
          0.578,
          0.773,
          0.384,
          0.529,
          0.379,
          0.596,
          0.664,
          0.83,
          0.357,
          0.835,
          0.616,
          0.475,
          0.987,
          0.517,
          0.712,
          0.968,
          0.842,
          0.952,
          1.035,
          0.915,
          0.815,
          0.817,
          0.978,
          0.586,
          0.82,
          1.076,
          0.71,
          0.545,
          0.46,
          0.51,
          1.253,
          0.978,
          1.14,
          1.411,
          1.556,
          1.407,
          1.139,
          1.218,
          0.727,
          0.674,
          0.631,
          1.444,
          0.416,
          0.476,
          0.794,
          0.636,
          1.448,
          1.863,
          0.996,
          1.605,
          1.439,
          2.109,
          1.105,
          1.846,
          1.452,
          1.612,
          1.536,
          1.656,
          2.287,
          1.934,
          1.719,
          1.935,
          0.726,
          1.116,
          1.428,
          2.095,
          2.416,
          1.983,
          1.505,
          2.083,
          2.562,
          2.41,
          2.194,
          2.258,
          1.98,
          2.242,
          1.865,
          2.459,
          2.399,
          2.049,
          1.865,
          2.65,
          2.824,
          1.428,
          1.346,
          1.385,
          2.078,
          2.574,
          2.512,
          2.432,
          2.769,
          2.968,
          2.661,
          2.384,
          2.425,
          2.696,
          2.995,
          2.687,
          1.711,
          2.563,
          2.656,
          2.89,
          3.167,
          2.221,
          2.876,
          2.264,
          2.309,
          2.931,
          2.579,
          3.041,
          1.734,
          3.148,
          2.603,
          3.012,
          1.869,
          2.373,
          2.05,
          2.656,
          2.657,
          2.582,
          2.859,
          2.603,
          3.158,
          2.695,
          2.655,
          1.545,
          3.089,
          2.564,
          2.684,
          2.776,
          2.959,
          2.599,
          2.204,
          2.807,
          2.405,
          1.823,
          2.526,
          3.236,
          2.252,
          2.715,
          3.052,
          2.033,
          3.198,
          2.726,
          2.543,
          3.016,
          2.712,
          3.126,
          2.379,
          2.679,
          3.064,
          3.006,
          2.382,
          2.391,
          2.797,
          2.209,
          1.4,
          2.987,
          3.102,
          2.237,
          3.377,
          2.791,
          2.746,
          2.096,
          2.699,
          2.634,
          2.094,
          2.876,
          2.745,
          2.662,
          3.062,
          2.785,
          2.628,
          2.695,
          2.48,
          2.305,
          2.773,
          2.427,
          2.814,
          2.763,
          2.586,
          2.769,
          2.877,
          2.527,
          2.396,
          2.229,
          2.311,
          1.984,
          1.928,
          2.111,
          1.898,
          2.504,
          1.868,
          2.476,
          1.612,
          2.384,
          2.2,
          2.036,
          2.503,
          2.215,
          1.528,
          2.351,
          2.446,
          1.567,
          1.807,
          1.501,
          1.913,
          1.981,
          1.985,
          2.34,
          1.29,
          1.906,
          0.944,
          1.657,
          1.774,
          1.539,
          1.155,
          0.939,
          1.493,
          1.816,
          1.94,
          1.815,
          1.103,
          1.378,
          1.641,
          0.775,
          1.742,
          1.332,
          1.541,
          1.614,
          1.588,
          1.559,
          0.883,
          0.749,
          1.378,
          1.369,
          1.291,
          1.392,
          1.036,
          1.11,
          1.268,
          1.343,
          0.97,
          1.104,
          0.968,
          1.277,
          0.969,
          0.37,
          0.814,
          0.685,
          0.704,
          0.918,
          0.938,
          0.963,
          0.802,
          0.802,
          0.841,
          0.807,
          0.336,
          0.793,
          0.51,
          0.647,
          0.469,
          0.692,
          0.555,
          0.77,
          0.417,
          0.634,
          0.624,
          0.608,
          0.691,
          0.485,
          0.169,
          0.5,
          0.472,
          0.417,
          0.506,
          0.498,
          0.494,
          0.582,
          0.168,
          0.336,
          0.415,
          0.441,
          0.196,
          0.417,
          0.326,
          0.331,
          0.393,
          0.395,
          0.206,
          0.413,
          0.366,
          0.284,
          0.33,
          0.343,
          0.318,
          0.212,
          0.28,
          0.338,
          0.35,
          0.295,
          0.146,
          0.183,
          0.305,
          0.33,
          0.275,
          0.265,
          0.26,
          0.122,
          0.29,
          0.251,
          0.278,
          0.281,
          0.253,
          0.202,
          0.184,
          0.218,
          0.174,
          0.228,
          0.269,
          0.276,
          0.127,
          0.293,
          0.302,
          0.22,
          0.216,
          0.105
         ],
         "yaxis": "y"
        },
        {
         "alignmentgroup": "True",
         "hovertemplate": "variable=E_Beam_kWm2<br>Day_of_Year=%{x}<br>value=%{y}<extra></extra>",
         "legendgroup": "E_Beam_kWm2",
         "marker": {
          "color": "#EF553B",
          "pattern": {
           "shape": ""
          }
         },
         "name": "E_Beam_kWm2",
         "offsetgroup": "E_Beam_kWm2",
         "orientation": "v",
         "showlegend": true,
         "textposition": "auto",
         "type": "bar",
         "x": [
          1,
          2,
          3,
          4,
          5,
          6,
          7,
          8,
          9,
          10,
          11,
          12,
          13,
          14,
          15,
          16,
          17,
          18,
          19,
          20,
          21,
          22,
          23,
          24,
          25,
          26,
          27,
          28,
          29,
          30,
          31,
          32,
          33,
          34,
          35,
          36,
          37,
          38,
          39,
          40,
          41,
          42,
          43,
          44,
          45,
          46,
          47,
          48,
          49,
          50,
          51,
          52,
          53,
          54,
          55,
          56,
          57,
          58,
          59,
          60,
          61,
          62,
          63,
          64,
          65,
          66,
          67,
          68,
          69,
          70,
          71,
          72,
          73,
          74,
          75,
          76,
          77,
          78,
          79,
          80,
          81,
          82,
          83,
          84,
          85,
          86,
          87,
          88,
          89,
          90,
          91,
          92,
          93,
          94,
          95,
          96,
          97,
          98,
          99,
          100,
          101,
          102,
          103,
          104,
          105,
          106,
          107,
          108,
          109,
          110,
          111,
          112,
          113,
          114,
          115,
          116,
          117,
          118,
          119,
          120,
          121,
          122,
          123,
          124,
          125,
          126,
          127,
          128,
          129,
          130,
          131,
          132,
          133,
          134,
          135,
          136,
          137,
          138,
          139,
          140,
          141,
          142,
          143,
          144,
          145,
          146,
          147,
          148,
          149,
          150,
          151,
          152,
          153,
          154,
          155,
          156,
          157,
          158,
          159,
          160,
          161,
          162,
          163,
          164,
          165,
          166,
          167,
          168,
          169,
          170,
          171,
          172,
          173,
          174,
          175,
          176,
          177,
          178,
          179,
          180,
          181,
          182,
          183,
          184,
          185,
          186,
          187,
          188,
          189,
          190,
          191,
          192,
          193,
          194,
          195,
          196,
          197,
          198,
          199,
          200,
          201,
          202,
          203,
          204,
          205,
          206,
          207,
          208,
          209,
          210,
          211,
          212,
          213,
          214,
          215,
          216,
          217,
          218,
          219,
          220,
          221,
          222,
          223,
          224,
          225,
          226,
          227,
          228,
          229,
          230,
          231,
          232,
          233,
          234,
          235,
          236,
          237,
          238,
          239,
          240,
          241,
          242,
          243,
          244,
          245,
          246,
          247,
          248,
          249,
          250,
          251,
          252,
          253,
          254,
          255,
          256,
          257,
          258,
          259,
          260,
          261,
          262,
          263,
          264,
          265,
          266,
          267,
          268,
          269,
          270,
          271,
          272,
          273,
          274,
          275,
          276,
          277,
          278,
          279,
          280,
          281,
          282,
          283,
          284,
          285,
          286,
          287,
          288,
          289,
          290,
          291,
          292,
          293,
          294,
          295,
          296,
          297,
          298,
          299,
          300,
          301,
          302,
          303,
          304,
          305,
          306,
          307,
          308,
          309,
          310,
          311,
          312,
          313,
          314,
          315,
          316,
          317,
          318,
          319,
          320,
          321,
          322,
          323,
          324,
          325,
          326,
          327,
          328,
          329,
          330,
          331,
          332,
          333,
          334,
          335,
          336,
          337,
          338,
          339,
          340,
          341,
          342,
          343,
          344,
          345,
          346,
          347,
          348,
          349,
          350,
          351,
          352,
          353,
          354,
          355,
          356,
          357,
          358,
          359,
          360,
          361,
          362,
          363,
          364,
          365
         ],
         "xaxis": "x",
         "y": [
          0,
          0.238,
          0.246,
          0.547,
          0.76,
          0.946,
          0.341,
          0.909,
          0.449,
          0.325,
          0.277,
          1.522,
          0.928,
          0.015,
          0.125,
          0.017,
          0.161,
          0.843,
          0.795,
          0.207,
          0.51,
          1.924,
          0.769,
          2.544,
          1.702,
          1.636,
          0.283,
          0.935,
          0,
          0,
          0.01,
          1.475,
          0.344,
          0.582,
          0.109,
          0,
          0.128,
          1.151,
          0.733,
          0.013,
          2.934,
          0.035,
          2.974,
          2.567,
          0.577,
          0,
          1.954,
          0.28,
          0.029,
          0.774,
          0.02,
          0.063,
          0.524,
          0.182,
          1.579,
          1.195,
          3.025,
          2.338,
          3.161,
          0.089,
          0.007,
          0.04,
          2.864,
          0.347,
          0,
          0.011,
          0,
          1.706,
          2.055,
          0.409,
          1.906,
          0.651,
          2.712,
          0.418,
          0.626,
          0.01,
          0.031,
          0.033,
          0.246,
          0,
          0,
          0.01,
          0.001,
          0.151,
          0.372,
          0.071,
          0.257,
          0.141,
          0.551,
          0.169,
          0.579,
          4.406,
          2.39,
          4.494,
          4.299,
          1.197,
          3.6,
          3.576,
          2.296,
          0,
          0.012,
          1.035,
          2.051,
          1.781,
          3.331,
          0.185,
          2.037,
          2.026,
          1.761,
          2.923,
          1.511,
          0.415,
          0.295,
          3.655,
          1.204,
          2.778,
          3.038,
          2.062,
          2.218,
          2,
          6.24,
          6.43,
          6.387,
          3.938,
          2.871,
          0.562,
          3.553,
          1.166,
          1.084,
          1.495,
          0.327,
          0.523,
          2.797,
          2.177,
          0.781,
          0.01,
          2.23,
          1.868,
          2.76,
          2.505,
          5.044,
          3.52,
          0.781,
          0.082,
          3.315,
          2.127,
          1.209,
          6.438,
          2.08,
          3.571,
          1.687,
          5.957,
          3.545,
          4.636,
          3.322,
          1.628,
          1.265,
          1.834,
          4.543,
          0.51,
          3.821,
          2.647,
          0.606,
          1.397,
          1.992,
          2.162,
          0.833,
          0.958,
          0.187,
          1.328,
          2.16,
          3.57,
          0.576,
          1.005,
          1.13,
          0.047,
          1.708,
          1.495,
          0.072,
          0.583,
          2.461,
          0.186,
          0.548,
          0.314,
          0.945,
          0.164,
          2.45,
          3.06,
          1.169,
          0.507,
          0.095,
          1.642,
          0.574,
          0.007,
          1.638,
          2.522,
          1.954,
          1.955,
          2.021,
          2.838,
          0.181,
          0.691,
          3.215,
          5.073,
          1.459,
          2.749,
          0.467,
          1.867,
          1.94,
          2.76,
          1.877,
          3.587,
          0.607,
          0.762,
          0.169,
          1.799,
          1.04,
          0.276,
          1.283,
          2.404,
          2.714,
          1.101,
          0.71,
          0.169,
          4.52,
          4.582,
          4.075,
          0.061,
          1.044,
          0.698,
          1.542,
          4.277,
          2.296,
          1.705,
          0.81,
          1.221,
          3.182,
          5.155,
          1.044,
          1.345,
          4.896,
          4.261,
          4.88,
          0.858,
          2.069,
          2.635,
          1.306,
          0.047,
          0.907,
          0.004,
          3.46,
          2.81,
          4.046,
          5.178,
          5.701,
          0.303,
          2.031,
          1.873,
          2.49,
          0.008,
          0.882,
          1.842,
          0.015,
          0.492,
          2.003,
          0.732,
          1.518,
          0.798,
          1.354,
          0.021,
          0.055,
          0.433,
          1.861,
          1.592,
          0.829,
          0.921,
          2.415,
          2.1,
          1.667,
          3.285,
          2.757,
          3.184,
          0.945,
          0.202,
          0.002,
          3.836,
          4.204,
          0.089,
          2.936,
          2.312,
          0.608,
          0.356,
          0.078,
          2.171,
          1.157,
          0.021,
          0.126,
          0.037,
          1.074,
          0.172,
          2.495,
          0.02,
          0.499,
          0.028,
          2.573,
          0.741,
          1.585,
          0.939,
          0.049,
          0,
          0.086,
          0.096,
          0.32,
          1.508,
          1.921,
          0.781,
          1,
          0,
          0.241,
          0.968,
          0.819,
          0.004,
          0.37,
          0.018,
          0.139,
          0.219,
          0.681,
          0.189,
          0.653,
          0.379,
          0.013,
          0.78,
          0.098,
          0.039,
          0.03,
          0.09,
          1.671,
          1.135,
          0.074,
          0,
          0.005,
          1.144,
          0.735,
          0.617,
          0.113,
          0.56,
          0,
          0.665,
          1.497,
          1.393,
          0.174,
          1.248,
          0.112,
          0.102,
          0.838,
          0.053,
          0.57,
          1.576,
          1.113,
          0.22,
          0.98,
          0.686,
          0.194,
          1.414,
          0.005
         ],
         "yaxis": "y"
        },
        {
         "alignmentgroup": "True",
         "hovertemplate": "variable=E_Ground_kWm2<br>Day_of_Year=%{x}<br>value=%{y}<extra></extra>",
         "legendgroup": "E_Ground_kWm2",
         "marker": {
          "color": "#00cc96",
          "pattern": {
           "shape": ""
          }
         },
         "name": "E_Ground_kWm2",
         "offsetgroup": "E_Ground_kWm2",
         "orientation": "v",
         "showlegend": true,
         "textposition": "auto",
         "type": "bar",
         "x": [
          1,
          2,
          3,
          4,
          5,
          6,
          7,
          8,
          9,
          10,
          11,
          12,
          13,
          14,
          15,
          16,
          17,
          18,
          19,
          20,
          21,
          22,
          23,
          24,
          25,
          26,
          27,
          28,
          29,
          30,
          31,
          32,
          33,
          34,
          35,
          36,
          37,
          38,
          39,
          40,
          41,
          42,
          43,
          44,
          45,
          46,
          47,
          48,
          49,
          50,
          51,
          52,
          53,
          54,
          55,
          56,
          57,
          58,
          59,
          60,
          61,
          62,
          63,
          64,
          65,
          66,
          67,
          68,
          69,
          70,
          71,
          72,
          73,
          74,
          75,
          76,
          77,
          78,
          79,
          80,
          81,
          82,
          83,
          84,
          85,
          86,
          87,
          88,
          89,
          90,
          91,
          92,
          93,
          94,
          95,
          96,
          97,
          98,
          99,
          100,
          101,
          102,
          103,
          104,
          105,
          106,
          107,
          108,
          109,
          110,
          111,
          112,
          113,
          114,
          115,
          116,
          117,
          118,
          119,
          120,
          121,
          122,
          123,
          124,
          125,
          126,
          127,
          128,
          129,
          130,
          131,
          132,
          133,
          134,
          135,
          136,
          137,
          138,
          139,
          140,
          141,
          142,
          143,
          144,
          145,
          146,
          147,
          148,
          149,
          150,
          151,
          152,
          153,
          154,
          155,
          156,
          157,
          158,
          159,
          160,
          161,
          162,
          163,
          164,
          165,
          166,
          167,
          168,
          169,
          170,
          171,
          172,
          173,
          174,
          175,
          176,
          177,
          178,
          179,
          180,
          181,
          182,
          183,
          184,
          185,
          186,
          187,
          188,
          189,
          190,
          191,
          192,
          193,
          194,
          195,
          196,
          197,
          198,
          199,
          200,
          201,
          202,
          203,
          204,
          205,
          206,
          207,
          208,
          209,
          210,
          211,
          212,
          213,
          214,
          215,
          216,
          217,
          218,
          219,
          220,
          221,
          222,
          223,
          224,
          225,
          226,
          227,
          228,
          229,
          230,
          231,
          232,
          233,
          234,
          235,
          236,
          237,
          238,
          239,
          240,
          241,
          242,
          243,
          244,
          245,
          246,
          247,
          248,
          249,
          250,
          251,
          252,
          253,
          254,
          255,
          256,
          257,
          258,
          259,
          260,
          261,
          262,
          263,
          264,
          265,
          266,
          267,
          268,
          269,
          270,
          271,
          272,
          273,
          274,
          275,
          276,
          277,
          278,
          279,
          280,
          281,
          282,
          283,
          284,
          285,
          286,
          287,
          288,
          289,
          290,
          291,
          292,
          293,
          294,
          295,
          296,
          297,
          298,
          299,
          300,
          301,
          302,
          303,
          304,
          305,
          306,
          307,
          308,
          309,
          310,
          311,
          312,
          313,
          314,
          315,
          316,
          317,
          318,
          319,
          320,
          321,
          322,
          323,
          324,
          325,
          326,
          327,
          328,
          329,
          330,
          331,
          332,
          333,
          334,
          335,
          336,
          337,
          338,
          339,
          340,
          341,
          342,
          343,
          344,
          345,
          346,
          347,
          348,
          349,
          350,
          351,
          352,
          353,
          354,
          355,
          356,
          357,
          358,
          359,
          360,
          361,
          362,
          363,
          364,
          365
         ],
         "xaxis": "x",
         "y": [
          0.002,
          0.006,
          0.006,
          0.008,
          0.01,
          0.011,
          0.007,
          0.011,
          0.009,
          0.007,
          0.006,
          0.015,
          0.011,
          0.005,
          0.006,
          0.004,
          0.006,
          0.013,
          0.013,
          0.008,
          0.01,
          0.019,
          0.014,
          0.022,
          0.019,
          0.02,
          0.011,
          0.017,
          0.003,
          0.003,
          0.006,
          0.022,
          0.014,
          0.014,
          0.009,
          0.007,
          0.012,
          0.02,
          0.021,
          0.008,
          0.033,
          0.008,
          0.034,
          0.033,
          0.021,
          0.007,
          0.031,
          0.014,
          0.01,
          0.026,
          0.011,
          0.015,
          0.024,
          0.019,
          0.033,
          0.031,
          0.044,
          0.038,
          0.044,
          0.02,
          0.012,
          0.017,
          0.05,
          0.017,
          0.011,
          0.01,
          0.01,
          0.043,
          0.039,
          0.026,
          0.047,
          0.037,
          0.056,
          0.026,
          0.031,
          0.014,
          0.014,
          0.013,
          0.031,
          0.008,
          0.009,
          0.016,
          0.013,
          0.03,
          0.041,
          0.02,
          0.035,
          0.03,
          0.048,
          0.025,
          0.045,
          0.086,
          0.062,
          0.089,
          0.089,
          0.06,
          0.086,
          0.081,
          0.067,
          0.014,
          0.022,
          0.041,
          0.069,
          0.072,
          0.087,
          0.033,
          0.069,
          0.082,
          0.071,
          0.087,
          0.07,
          0.045,
          0.049,
          0.092,
          0.067,
          0.089,
          0.083,
          0.069,
          0.087,
          0.088,
          0.124,
          0.127,
          0.127,
          0.105,
          0.094,
          0.06,
          0.107,
          0.074,
          0.075,
          0.077,
          0.052,
          0.056,
          0.096,
          0.095,
          0.066,
          0.034,
          0.088,
          0.085,
          0.108,
          0.108,
          0.132,
          0.115,
          0.057,
          0.047,
          0.113,
          0.085,
          0.08,
          0.144,
          0.099,
          0.11,
          0.095,
          0.144,
          0.105,
          0.123,
          0.112,
          0.081,
          0.074,
          0.088,
          0.134,
          0.075,
          0.12,
          0.1,
          0.043,
          0.087,
          0.087,
          0.096,
          0.071,
          0.076,
          0.056,
          0.067,
          0.098,
          0.108,
          0.046,
          0.067,
          0.087,
          0.046,
          0.087,
          0.089,
          0.043,
          0.076,
          0.097,
          0.056,
          0.069,
          0.059,
          0.079,
          0.05,
          0.095,
          0.114,
          0.086,
          0.056,
          0.049,
          0.083,
          0.056,
          0.028,
          0.091,
          0.108,
          0.082,
          0.102,
          0.097,
          0.107,
          0.044,
          0.065,
          0.105,
          0.126,
          0.082,
          0.101,
          0.062,
          0.091,
          0.087,
          0.099,
          0.085,
          0.105,
          0.055,
          0.069,
          0.051,
          0.083,
          0.073,
          0.055,
          0.08,
          0.095,
          0.091,
          0.069,
          0.056,
          0.05,
          0.112,
          0.111,
          0.106,
          0.039,
          0.065,
          0.049,
          0.071,
          0.095,
          0.081,
          0.068,
          0.054,
          0.068,
          0.091,
          0.103,
          0.062,
          0.066,
          0.099,
          0.095,
          0.094,
          0.049,
          0.069,
          0.074,
          0.065,
          0.027,
          0.049,
          0.019,
          0.076,
          0.069,
          0.081,
          0.087,
          0.088,
          0.034,
          0.061,
          0.061,
          0.065,
          0.022,
          0.038,
          0.052,
          0.015,
          0.04,
          0.049,
          0.039,
          0.049,
          0.04,
          0.046,
          0.018,
          0.016,
          0.033,
          0.046,
          0.043,
          0.036,
          0.03,
          0.048,
          0.046,
          0.044,
          0.051,
          0.048,
          0.051,
          0.033,
          0.021,
          0.007,
          0.051,
          0.051,
          0.015,
          0.044,
          0.039,
          0.025,
          0.019,
          0.017,
          0.036,
          0.025,
          0.007,
          0.017,
          0.011,
          0.021,
          0.011,
          0.033,
          0.011,
          0.019,
          0.009,
          0.032,
          0.018,
          0.024,
          0.02,
          0.01,
          0.003,
          0.011,
          0.01,
          0.011,
          0.02,
          0.022,
          0.014,
          0.018,
          0.004,
          0.009,
          0.015,
          0.014,
          0.005,
          0.011,
          0.007,
          0.008,
          0.01,
          0.012,
          0.006,
          0.012,
          0.01,
          0.006,
          0.011,
          0.008,
          0.007,
          0.005,
          0.006,
          0.015,
          0.013,
          0.006,
          0.003,
          0.004,
          0.012,
          0.011,
          0.009,
          0.006,
          0.008,
          0.003,
          0.009,
          0.013,
          0.012,
          0.007,
          0.011,
          0.005,
          0.004,
          0.009,
          0.004,
          0.007,
          0.013,
          0.011,
          0.004,
          0.011,
          0.01,
          0.006,
          0.011,
          0.002
         ],
         "yaxis": "y"
        }
       ],
       "layout": {
        "barmode": "relative",
        "legend": {
         "title": {
          "text": "variable"
         },
         "tracegroupgap": 0
        },
        "margin": {
         "t": 60
        },
        "template": {
         "data": {
          "bar": [
           {
            "error_x": {
             "color": "#2a3f5f"
            },
            "error_y": {
             "color": "#2a3f5f"
            },
            "marker": {
             "line": {
              "color": "#E5ECF6",
              "width": 0.5
             },
             "pattern": {
              "fillmode": "overlay",
              "size": 10,
              "solidity": 0.2
             }
            },
            "type": "bar"
           }
          ],
          "barpolar": [
           {
            "marker": {
             "line": {
              "color": "#E5ECF6",
              "width": 0.5
             },
             "pattern": {
              "fillmode": "overlay",
              "size": 10,
              "solidity": 0.2
             }
            },
            "type": "barpolar"
           }
          ],
          "carpet": [
           {
            "aaxis": {
             "endlinecolor": "#2a3f5f",
             "gridcolor": "white",
             "linecolor": "white",
             "minorgridcolor": "white",
             "startlinecolor": "#2a3f5f"
            },
            "baxis": {
             "endlinecolor": "#2a3f5f",
             "gridcolor": "white",
             "linecolor": "white",
             "minorgridcolor": "white",
             "startlinecolor": "#2a3f5f"
            },
            "type": "carpet"
           }
          ],
          "choropleth": [
           {
            "colorbar": {
             "outlinewidth": 0,
             "ticks": ""
            },
            "type": "choropleth"
           }
          ],
          "contour": [
           {
            "colorbar": {
             "outlinewidth": 0,
             "ticks": ""
            },
            "colorscale": [
             [
              0,
              "#0d0887"
             ],
             [
              0.1111111111111111,
              "#46039f"
             ],
             [
              0.2222222222222222,
              "#7201a8"
             ],
             [
              0.3333333333333333,
              "#9c179e"
             ],
             [
              0.4444444444444444,
              "#bd3786"
             ],
             [
              0.5555555555555556,
              "#d8576b"
             ],
             [
              0.6666666666666666,
              "#ed7953"
             ],
             [
              0.7777777777777778,
              "#fb9f3a"
             ],
             [
              0.8888888888888888,
              "#fdca26"
             ],
             [
              1,
              "#f0f921"
             ]
            ],
            "type": "contour"
           }
          ],
          "contourcarpet": [
           {
            "colorbar": {
             "outlinewidth": 0,
             "ticks": ""
            },
            "type": "contourcarpet"
           }
          ],
          "heatmap": [
           {
            "colorbar": {
             "outlinewidth": 0,
             "ticks": ""
            },
            "colorscale": [
             [
              0,
              "#0d0887"
             ],
             [
              0.1111111111111111,
              "#46039f"
             ],
             [
              0.2222222222222222,
              "#7201a8"
             ],
             [
              0.3333333333333333,
              "#9c179e"
             ],
             [
              0.4444444444444444,
              "#bd3786"
             ],
             [
              0.5555555555555556,
              "#d8576b"
             ],
             [
              0.6666666666666666,
              "#ed7953"
             ],
             [
              0.7777777777777778,
              "#fb9f3a"
             ],
             [
              0.8888888888888888,
              "#fdca26"
             ],
             [
              1,
              "#f0f921"
             ]
            ],
            "type": "heatmap"
           }
          ],
          "heatmapgl": [
           {
            "colorbar": {
             "outlinewidth": 0,
             "ticks": ""
            },
            "colorscale": [
             [
              0,
              "#0d0887"
             ],
             [
              0.1111111111111111,
              "#46039f"
             ],
             [
              0.2222222222222222,
              "#7201a8"
             ],
             [
              0.3333333333333333,
              "#9c179e"
             ],
             [
              0.4444444444444444,
              "#bd3786"
             ],
             [
              0.5555555555555556,
              "#d8576b"
             ],
             [
              0.6666666666666666,
              "#ed7953"
             ],
             [
              0.7777777777777778,
              "#fb9f3a"
             ],
             [
              0.8888888888888888,
              "#fdca26"
             ],
             [
              1,
              "#f0f921"
             ]
            ],
            "type": "heatmapgl"
           }
          ],
          "histogram": [
           {
            "marker": {
             "pattern": {
              "fillmode": "overlay",
              "size": 10,
              "solidity": 0.2
             }
            },
            "type": "histogram"
           }
          ],
          "histogram2d": [
           {
            "colorbar": {
             "outlinewidth": 0,
             "ticks": ""
            },
            "colorscale": [
             [
              0,
              "#0d0887"
             ],
             [
              0.1111111111111111,
              "#46039f"
             ],
             [
              0.2222222222222222,
              "#7201a8"
             ],
             [
              0.3333333333333333,
              "#9c179e"
             ],
             [
              0.4444444444444444,
              "#bd3786"
             ],
             [
              0.5555555555555556,
              "#d8576b"
             ],
             [
              0.6666666666666666,
              "#ed7953"
             ],
             [
              0.7777777777777778,
              "#fb9f3a"
             ],
             [
              0.8888888888888888,
              "#fdca26"
             ],
             [
              1,
              "#f0f921"
             ]
            ],
            "type": "histogram2d"
           }
          ],
          "histogram2dcontour": [
           {
            "colorbar": {
             "outlinewidth": 0,
             "ticks": ""
            },
            "colorscale": [
             [
              0,
              "#0d0887"
             ],
             [
              0.1111111111111111,
              "#46039f"
             ],
             [
              0.2222222222222222,
              "#7201a8"
             ],
             [
              0.3333333333333333,
              "#9c179e"
             ],
             [
              0.4444444444444444,
              "#bd3786"
             ],
             [
              0.5555555555555556,
              "#d8576b"
             ],
             [
              0.6666666666666666,
              "#ed7953"
             ],
             [
              0.7777777777777778,
              "#fb9f3a"
             ],
             [
              0.8888888888888888,
              "#fdca26"
             ],
             [
              1,
              "#f0f921"
             ]
            ],
            "type": "histogram2dcontour"
           }
          ],
          "mesh3d": [
           {
            "colorbar": {
             "outlinewidth": 0,
             "ticks": ""
            },
            "type": "mesh3d"
           }
          ],
          "parcoords": [
           {
            "line": {
             "colorbar": {
              "outlinewidth": 0,
              "ticks": ""
             }
            },
            "type": "parcoords"
           }
          ],
          "pie": [
           {
            "automargin": true,
            "type": "pie"
           }
          ],
          "scatter": [
           {
            "fillpattern": {
             "fillmode": "overlay",
             "size": 10,
             "solidity": 0.2
            },
            "type": "scatter"
           }
          ],
          "scatter3d": [
           {
            "line": {
             "colorbar": {
              "outlinewidth": 0,
              "ticks": ""
             }
            },
            "marker": {
             "colorbar": {
              "outlinewidth": 0,
              "ticks": ""
             }
            },
            "type": "scatter3d"
           }
          ],
          "scattercarpet": [
           {
            "marker": {
             "colorbar": {
              "outlinewidth": 0,
              "ticks": ""
             }
            },
            "type": "scattercarpet"
           }
          ],
          "scattergeo": [
           {
            "marker": {
             "colorbar": {
              "outlinewidth": 0,
              "ticks": ""
             }
            },
            "type": "scattergeo"
           }
          ],
          "scattergl": [
           {
            "marker": {
             "colorbar": {
              "outlinewidth": 0,
              "ticks": ""
             }
            },
            "type": "scattergl"
           }
          ],
          "scattermapbox": [
           {
            "marker": {
             "colorbar": {
              "outlinewidth": 0,
              "ticks": ""
             }
            },
            "type": "scattermapbox"
           }
          ],
          "scatterpolar": [
           {
            "marker": {
             "colorbar": {
              "outlinewidth": 0,
              "ticks": ""
             }
            },
            "type": "scatterpolar"
           }
          ],
          "scatterpolargl": [
           {
            "marker": {
             "colorbar": {
              "outlinewidth": 0,
              "ticks": ""
             }
            },
            "type": "scatterpolargl"
           }
          ],
          "scatterternary": [
           {
            "marker": {
             "colorbar": {
              "outlinewidth": 0,
              "ticks": ""
             }
            },
            "type": "scatterternary"
           }
          ],
          "surface": [
           {
            "colorbar": {
             "outlinewidth": 0,
             "ticks": ""
            },
            "colorscale": [
             [
              0,
              "#0d0887"
             ],
             [
              0.1111111111111111,
              "#46039f"
             ],
             [
              0.2222222222222222,
              "#7201a8"
             ],
             [
              0.3333333333333333,
              "#9c179e"
             ],
             [
              0.4444444444444444,
              "#bd3786"
             ],
             [
              0.5555555555555556,
              "#d8576b"
             ],
             [
              0.6666666666666666,
              "#ed7953"
             ],
             [
              0.7777777777777778,
              "#fb9f3a"
             ],
             [
              0.8888888888888888,
              "#fdca26"
             ],
             [
              1,
              "#f0f921"
             ]
            ],
            "type": "surface"
           }
          ],
          "table": [
           {
            "cells": {
             "fill": {
              "color": "#EBF0F8"
             },
             "line": {
              "color": "white"
             }
            },
            "header": {
             "fill": {
              "color": "#C8D4E3"
             },
             "line": {
              "color": "white"
             }
            },
            "type": "table"
           }
          ]
         },
         "layout": {
          "annotationdefaults": {
           "arrowcolor": "#2a3f5f",
           "arrowhead": 0,
           "arrowwidth": 1
          },
          "autotypenumbers": "strict",
          "coloraxis": {
           "colorbar": {
            "outlinewidth": 0,
            "ticks": ""
           }
          },
          "colorscale": {
           "diverging": [
            [
             0,
             "#8e0152"
            ],
            [
             0.1,
             "#c51b7d"
            ],
            [
             0.2,
             "#de77ae"
            ],
            [
             0.3,
             "#f1b6da"
            ],
            [
             0.4,
             "#fde0ef"
            ],
            [
             0.5,
             "#f7f7f7"
            ],
            [
             0.6,
             "#e6f5d0"
            ],
            [
             0.7,
             "#b8e186"
            ],
            [
             0.8,
             "#7fbc41"
            ],
            [
             0.9,
             "#4d9221"
            ],
            [
             1,
             "#276419"
            ]
           ],
           "sequential": [
            [
             0,
             "#0d0887"
            ],
            [
             0.1111111111111111,
             "#46039f"
            ],
            [
             0.2222222222222222,
             "#7201a8"
            ],
            [
             0.3333333333333333,
             "#9c179e"
            ],
            [
             0.4444444444444444,
             "#bd3786"
            ],
            [
             0.5555555555555556,
             "#d8576b"
            ],
            [
             0.6666666666666666,
             "#ed7953"
            ],
            [
             0.7777777777777778,
             "#fb9f3a"
            ],
            [
             0.8888888888888888,
             "#fdca26"
            ],
            [
             1,
             "#f0f921"
            ]
           ],
           "sequentialminus": [
            [
             0,
             "#0d0887"
            ],
            [
             0.1111111111111111,
             "#46039f"
            ],
            [
             0.2222222222222222,
             "#7201a8"
            ],
            [
             0.3333333333333333,
             "#9c179e"
            ],
            [
             0.4444444444444444,
             "#bd3786"
            ],
            [
             0.5555555555555556,
             "#d8576b"
            ],
            [
             0.6666666666666666,
             "#ed7953"
            ],
            [
             0.7777777777777778,
             "#fb9f3a"
            ],
            [
             0.8888888888888888,
             "#fdca26"
            ],
            [
             1,
             "#f0f921"
            ]
           ]
          },
          "colorway": [
           "#636efa",
           "#EF553B",
           "#00cc96",
           "#ab63fa",
           "#FFA15A",
           "#19d3f3",
           "#FF6692",
           "#B6E880",
           "#FF97FF",
           "#FECB52"
          ],
          "font": {
           "color": "#2a3f5f"
          },
          "geo": {
           "bgcolor": "white",
           "lakecolor": "white",
           "landcolor": "#E5ECF6",
           "showlakes": true,
           "showland": true,
           "subunitcolor": "white"
          },
          "hoverlabel": {
           "align": "left"
          },
          "hovermode": "closest",
          "mapbox": {
           "style": "light"
          },
          "paper_bgcolor": "white",
          "plot_bgcolor": "#E5ECF6",
          "polar": {
           "angularaxis": {
            "gridcolor": "white",
            "linecolor": "white",
            "ticks": ""
           },
           "bgcolor": "#E5ECF6",
           "radialaxis": {
            "gridcolor": "white",
            "linecolor": "white",
            "ticks": ""
           }
          },
          "scene": {
           "xaxis": {
            "backgroundcolor": "#E5ECF6",
            "gridcolor": "white",
            "gridwidth": 2,
            "linecolor": "white",
            "showbackground": true,
            "ticks": "",
            "zerolinecolor": "white"
           },
           "yaxis": {
            "backgroundcolor": "#E5ECF6",
            "gridcolor": "white",
            "gridwidth": 2,
            "linecolor": "white",
            "showbackground": true,
            "ticks": "",
            "zerolinecolor": "white"
           },
           "zaxis": {
            "backgroundcolor": "#E5ECF6",
            "gridcolor": "white",
            "gridwidth": 2,
            "linecolor": "white",
            "showbackground": true,
            "ticks": "",
            "zerolinecolor": "white"
           }
          },
          "shapedefaults": {
           "line": {
            "color": "#2a3f5f"
           }
          },
          "ternary": {
           "aaxis": {
            "gridcolor": "white",
            "linecolor": "white",
            "ticks": ""
           },
           "baxis": {
            "gridcolor": "white",
            "linecolor": "white",
            "ticks": ""
           },
           "bgcolor": "#E5ECF6",
           "caxis": {
            "gridcolor": "white",
            "linecolor": "white",
            "ticks": ""
           }
          },
          "title": {
           "x": 0.05
          },
          "xaxis": {
           "automargin": true,
           "gridcolor": "white",
           "linecolor": "white",
           "ticks": "",
           "title": {
            "standoff": 15
           },
           "zerolinecolor": "white",
           "zerolinewidth": 2
          },
          "yaxis": {
           "automargin": true,
           "gridcolor": "white",
           "linecolor": "white",
           "ticks": "",
           "title": {
            "standoff": 15
           },
           "zerolinecolor": "white",
           "zerolinewidth": 2
          }
         }
        },
        "xaxis": {
         "anchor": "y",
         "domain": [
          0,
          1
         ],
         "title": {
          "text": "Day_of_Year"
         }
        },
        "yaxis": {
         "anchor": "x",
         "domain": [
          0,
          1
         ],
         "title": {
          "text": "value"
         }
        }
       }
      }
     },
     "metadata": {},
     "output_type": "display_data"
    }
   ],
   "source": [
    "px.bar(site.rad_data.daily[[\"E_Diffuse_kWm2\", \"E_Beam_kWm2\", \"E_Ground_kWm2\"]])"
   ]
  },
  {
   "cell_type": "code",
   "execution_count": 16,
   "metadata": {},
   "outputs": [
    {
     "data": {
      "application/vnd.plotly.v1+json": {
       "config": {
        "plotlyServerURL": "https://plot.ly"
       },
       "data": [
        {
         "alignmentgroup": "True",
         "hovertemplate": "variable=E_Diffuse_kWm2<br>Week_of_Year=%{x}<br>value=%{y}<extra></extra>",
         "legendgroup": "E_Diffuse_kWm2",
         "marker": {
          "color": "#636efa",
          "pattern": {
           "shape": ""
          }
         },
         "name": "E_Diffuse_kWm2",
         "offsetgroup": "E_Diffuse_kWm2",
         "orientation": "v",
         "showlegend": true,
         "textposition": "auto",
         "type": "bar",
         "x": [
          1,
          2,
          3,
          4,
          5,
          6,
          7,
          8,
          9,
          10,
          11,
          12,
          13,
          14,
          15,
          16,
          17,
          18,
          19,
          20,
          21,
          22,
          23,
          24,
          25,
          26,
          27,
          28,
          29,
          30,
          31,
          32,
          33,
          34,
          35,
          36,
          37,
          38,
          39,
          40,
          41,
          42,
          43,
          44,
          45,
          46,
          47,
          48,
          49,
          50,
          51,
          52
         ],
         "xaxis": "x",
         "y": [
          1.645,
          1.874,
          2.349,
          3.2,
          2.727,
          3.48,
          4.372,
          6.013,
          6.008,
          5.595,
          8.134,
          5.845,
          10.963,
          12.198,
          11.699,
          14.993,
          15.53,
          14.148,
          18.336,
          18.669,
          18.22,
          16.789,
          19.211,
          18.272,
          17.6,
          18.519,
          19.981,
          17.268,
          18.58,
          18.853,
          18.256,
          17.695,
          14.769,
          14.479,
          13.566,
          11.894,
          10.698,
          9.513,
          9.141,
          8.409,
          6.187,
          5.968,
          4.253,
          4.298,
          3.047,
          2.632,
          2.48,
          2.132,
          1.947,
          1.741,
          1.54,
          1.808
         ],
         "yaxis": "y"
        },
        {
         "alignmentgroup": "True",
         "hovertemplate": "variable=E_Beam_kWm2<br>Week_of_Year=%{x}<br>value=%{y}<extra></extra>",
         "legendgroup": "E_Beam_kWm2",
         "marker": {
          "color": "#EF553B",
          "pattern": {
           "shape": ""
          }
         },
         "name": "E_Beam_kWm2",
         "offsetgroup": "E_Beam_kWm2",
         "orientation": "v",
         "showlegend": true,
         "textposition": "auto",
         "type": "bar",
         "x": [
          1,
          2,
          3,
          4,
          5,
          6,
          7,
          8,
          9,
          10,
          11,
          12,
          13,
          14,
          15,
          16,
          17,
          18,
          19,
          20,
          21,
          22,
          23,
          24,
          25,
          26,
          27,
          28,
          29,
          30,
          31,
          32,
          33,
          34,
          35,
          36,
          37,
          38,
          39,
          40,
          41,
          42,
          43,
          44,
          45,
          46,
          47,
          48,
          49,
          50,
          51,
          52
         ],
         "xaxis": "x",
         "y": [
          3.079,
          4.426,
          2.658,
          9.793,
          2.52,
          4.993,
          8.381,
          4.337,
          11.525,
          4.527,
          6.354,
          0.442,
          2.141,
          23.961,
          10.505,
          10.858,
          15.25,
          28.428,
          10.945,
          12.331,
          16.078,
          27.913,
          16.922,
          10.594,
          9.956,
          6.552,
          8.651,
          6.985,
          12.855,
          16.315,
          9.841,
          8.658,
          16.522,
          18.646,
          19.351,
          11.169,
          21.621,
          5.974,
          6.04,
          12.81,
          15.13,
          8.551,
          5.082,
          6.385,
          3.981,
          3.814,
          2.27,
          1.428,
          4.764,
          4.845,
          3.096,
          6.188
         ],
         "yaxis": "y"
        },
        {
         "alignmentgroup": "True",
         "hovertemplate": "variable=E_Ground_kWm2<br>Week_of_Year=%{x}<br>value=%{y}<extra></extra>",
         "legendgroup": "E_Ground_kWm2",
         "marker": {
          "color": "#00cc96",
          "pattern": {
           "shape": ""
          }
         },
         "name": "E_Ground_kWm2",
         "offsetgroup": "E_Ground_kWm2",
         "orientation": "v",
         "showlegend": true,
         "textposition": "auto",
         "type": "bar",
         "x": [
          1,
          2,
          3,
          4,
          5,
          6,
          7,
          8,
          9,
          10,
          11,
          12,
          13,
          14,
          15,
          16,
          17,
          18,
          19,
          20,
          21,
          22,
          23,
          24,
          25,
          26,
          27,
          28,
          29,
          30,
          31,
          32,
          33,
          34,
          35,
          36,
          37,
          38,
          39,
          40,
          41,
          42,
          43,
          44,
          45,
          46,
          47,
          48,
          49,
          50,
          51,
          52
         ],
         "xaxis": "x",
         "y": [
          0.05,
          0.064,
          0.06,
          0.122,
          0.072,
          0.108,
          0.15,
          0.158,
          0.225,
          0.156,
          0.226,
          0.12,
          0.246,
          0.554,
          0.374,
          0.457,
          0.536,
          0.724,
          0.537,
          0.584,
          0.63,
          0.82,
          0.683,
          0.561,
          0.529,
          0.493,
          0.552,
          0.47,
          0.602,
          0.647,
          0.521,
          0.497,
          0.553,
          0.56,
          0.534,
          0.378,
          0.478,
          0.255,
          0.246,
          0.298,
          0.263,
          0.195,
          0.126,
          0.132,
          0.086,
          0.078,
          0.066,
          0.053,
          0.064,
          0.06,
          0.047,
          0.067
         ],
         "yaxis": "y"
        }
       ],
       "layout": {
        "barmode": "relative",
        "legend": {
         "title": {
          "text": "variable"
         },
         "tracegroupgap": 0
        },
        "margin": {
         "t": 60
        },
        "template": {
         "data": {
          "bar": [
           {
            "error_x": {
             "color": "#2a3f5f"
            },
            "error_y": {
             "color": "#2a3f5f"
            },
            "marker": {
             "line": {
              "color": "#E5ECF6",
              "width": 0.5
             },
             "pattern": {
              "fillmode": "overlay",
              "size": 10,
              "solidity": 0.2
             }
            },
            "type": "bar"
           }
          ],
          "barpolar": [
           {
            "marker": {
             "line": {
              "color": "#E5ECF6",
              "width": 0.5
             },
             "pattern": {
              "fillmode": "overlay",
              "size": 10,
              "solidity": 0.2
             }
            },
            "type": "barpolar"
           }
          ],
          "carpet": [
           {
            "aaxis": {
             "endlinecolor": "#2a3f5f",
             "gridcolor": "white",
             "linecolor": "white",
             "minorgridcolor": "white",
             "startlinecolor": "#2a3f5f"
            },
            "baxis": {
             "endlinecolor": "#2a3f5f",
             "gridcolor": "white",
             "linecolor": "white",
             "minorgridcolor": "white",
             "startlinecolor": "#2a3f5f"
            },
            "type": "carpet"
           }
          ],
          "choropleth": [
           {
            "colorbar": {
             "outlinewidth": 0,
             "ticks": ""
            },
            "type": "choropleth"
           }
          ],
          "contour": [
           {
            "colorbar": {
             "outlinewidth": 0,
             "ticks": ""
            },
            "colorscale": [
             [
              0,
              "#0d0887"
             ],
             [
              0.1111111111111111,
              "#46039f"
             ],
             [
              0.2222222222222222,
              "#7201a8"
             ],
             [
              0.3333333333333333,
              "#9c179e"
             ],
             [
              0.4444444444444444,
              "#bd3786"
             ],
             [
              0.5555555555555556,
              "#d8576b"
             ],
             [
              0.6666666666666666,
              "#ed7953"
             ],
             [
              0.7777777777777778,
              "#fb9f3a"
             ],
             [
              0.8888888888888888,
              "#fdca26"
             ],
             [
              1,
              "#f0f921"
             ]
            ],
            "type": "contour"
           }
          ],
          "contourcarpet": [
           {
            "colorbar": {
             "outlinewidth": 0,
             "ticks": ""
            },
            "type": "contourcarpet"
           }
          ],
          "heatmap": [
           {
            "colorbar": {
             "outlinewidth": 0,
             "ticks": ""
            },
            "colorscale": [
             [
              0,
              "#0d0887"
             ],
             [
              0.1111111111111111,
              "#46039f"
             ],
             [
              0.2222222222222222,
              "#7201a8"
             ],
             [
              0.3333333333333333,
              "#9c179e"
             ],
             [
              0.4444444444444444,
              "#bd3786"
             ],
             [
              0.5555555555555556,
              "#d8576b"
             ],
             [
              0.6666666666666666,
              "#ed7953"
             ],
             [
              0.7777777777777778,
              "#fb9f3a"
             ],
             [
              0.8888888888888888,
              "#fdca26"
             ],
             [
              1,
              "#f0f921"
             ]
            ],
            "type": "heatmap"
           }
          ],
          "heatmapgl": [
           {
            "colorbar": {
             "outlinewidth": 0,
             "ticks": ""
            },
            "colorscale": [
             [
              0,
              "#0d0887"
             ],
             [
              0.1111111111111111,
              "#46039f"
             ],
             [
              0.2222222222222222,
              "#7201a8"
             ],
             [
              0.3333333333333333,
              "#9c179e"
             ],
             [
              0.4444444444444444,
              "#bd3786"
             ],
             [
              0.5555555555555556,
              "#d8576b"
             ],
             [
              0.6666666666666666,
              "#ed7953"
             ],
             [
              0.7777777777777778,
              "#fb9f3a"
             ],
             [
              0.8888888888888888,
              "#fdca26"
             ],
             [
              1,
              "#f0f921"
             ]
            ],
            "type": "heatmapgl"
           }
          ],
          "histogram": [
           {
            "marker": {
             "pattern": {
              "fillmode": "overlay",
              "size": 10,
              "solidity": 0.2
             }
            },
            "type": "histogram"
           }
          ],
          "histogram2d": [
           {
            "colorbar": {
             "outlinewidth": 0,
             "ticks": ""
            },
            "colorscale": [
             [
              0,
              "#0d0887"
             ],
             [
              0.1111111111111111,
              "#46039f"
             ],
             [
              0.2222222222222222,
              "#7201a8"
             ],
             [
              0.3333333333333333,
              "#9c179e"
             ],
             [
              0.4444444444444444,
              "#bd3786"
             ],
             [
              0.5555555555555556,
              "#d8576b"
             ],
             [
              0.6666666666666666,
              "#ed7953"
             ],
             [
              0.7777777777777778,
              "#fb9f3a"
             ],
             [
              0.8888888888888888,
              "#fdca26"
             ],
             [
              1,
              "#f0f921"
             ]
            ],
            "type": "histogram2d"
           }
          ],
          "histogram2dcontour": [
           {
            "colorbar": {
             "outlinewidth": 0,
             "ticks": ""
            },
            "colorscale": [
             [
              0,
              "#0d0887"
             ],
             [
              0.1111111111111111,
              "#46039f"
             ],
             [
              0.2222222222222222,
              "#7201a8"
             ],
             [
              0.3333333333333333,
              "#9c179e"
             ],
             [
              0.4444444444444444,
              "#bd3786"
             ],
             [
              0.5555555555555556,
              "#d8576b"
             ],
             [
              0.6666666666666666,
              "#ed7953"
             ],
             [
              0.7777777777777778,
              "#fb9f3a"
             ],
             [
              0.8888888888888888,
              "#fdca26"
             ],
             [
              1,
              "#f0f921"
             ]
            ],
            "type": "histogram2dcontour"
           }
          ],
          "mesh3d": [
           {
            "colorbar": {
             "outlinewidth": 0,
             "ticks": ""
            },
            "type": "mesh3d"
           }
          ],
          "parcoords": [
           {
            "line": {
             "colorbar": {
              "outlinewidth": 0,
              "ticks": ""
             }
            },
            "type": "parcoords"
           }
          ],
          "pie": [
           {
            "automargin": true,
            "type": "pie"
           }
          ],
          "scatter": [
           {
            "fillpattern": {
             "fillmode": "overlay",
             "size": 10,
             "solidity": 0.2
            },
            "type": "scatter"
           }
          ],
          "scatter3d": [
           {
            "line": {
             "colorbar": {
              "outlinewidth": 0,
              "ticks": ""
             }
            },
            "marker": {
             "colorbar": {
              "outlinewidth": 0,
              "ticks": ""
             }
            },
            "type": "scatter3d"
           }
          ],
          "scattercarpet": [
           {
            "marker": {
             "colorbar": {
              "outlinewidth": 0,
              "ticks": ""
             }
            },
            "type": "scattercarpet"
           }
          ],
          "scattergeo": [
           {
            "marker": {
             "colorbar": {
              "outlinewidth": 0,
              "ticks": ""
             }
            },
            "type": "scattergeo"
           }
          ],
          "scattergl": [
           {
            "marker": {
             "colorbar": {
              "outlinewidth": 0,
              "ticks": ""
             }
            },
            "type": "scattergl"
           }
          ],
          "scattermapbox": [
           {
            "marker": {
             "colorbar": {
              "outlinewidth": 0,
              "ticks": ""
             }
            },
            "type": "scattermapbox"
           }
          ],
          "scatterpolar": [
           {
            "marker": {
             "colorbar": {
              "outlinewidth": 0,
              "ticks": ""
             }
            },
            "type": "scatterpolar"
           }
          ],
          "scatterpolargl": [
           {
            "marker": {
             "colorbar": {
              "outlinewidth": 0,
              "ticks": ""
             }
            },
            "type": "scatterpolargl"
           }
          ],
          "scatterternary": [
           {
            "marker": {
             "colorbar": {
              "outlinewidth": 0,
              "ticks": ""
             }
            },
            "type": "scatterternary"
           }
          ],
          "surface": [
           {
            "colorbar": {
             "outlinewidth": 0,
             "ticks": ""
            },
            "colorscale": [
             [
              0,
              "#0d0887"
             ],
             [
              0.1111111111111111,
              "#46039f"
             ],
             [
              0.2222222222222222,
              "#7201a8"
             ],
             [
              0.3333333333333333,
              "#9c179e"
             ],
             [
              0.4444444444444444,
              "#bd3786"
             ],
             [
              0.5555555555555556,
              "#d8576b"
             ],
             [
              0.6666666666666666,
              "#ed7953"
             ],
             [
              0.7777777777777778,
              "#fb9f3a"
             ],
             [
              0.8888888888888888,
              "#fdca26"
             ],
             [
              1,
              "#f0f921"
             ]
            ],
            "type": "surface"
           }
          ],
          "table": [
           {
            "cells": {
             "fill": {
              "color": "#EBF0F8"
             },
             "line": {
              "color": "white"
             }
            },
            "header": {
             "fill": {
              "color": "#C8D4E3"
             },
             "line": {
              "color": "white"
             }
            },
            "type": "table"
           }
          ]
         },
         "layout": {
          "annotationdefaults": {
           "arrowcolor": "#2a3f5f",
           "arrowhead": 0,
           "arrowwidth": 1
          },
          "autotypenumbers": "strict",
          "coloraxis": {
           "colorbar": {
            "outlinewidth": 0,
            "ticks": ""
           }
          },
          "colorscale": {
           "diverging": [
            [
             0,
             "#8e0152"
            ],
            [
             0.1,
             "#c51b7d"
            ],
            [
             0.2,
             "#de77ae"
            ],
            [
             0.3,
             "#f1b6da"
            ],
            [
             0.4,
             "#fde0ef"
            ],
            [
             0.5,
             "#f7f7f7"
            ],
            [
             0.6,
             "#e6f5d0"
            ],
            [
             0.7,
             "#b8e186"
            ],
            [
             0.8,
             "#7fbc41"
            ],
            [
             0.9,
             "#4d9221"
            ],
            [
             1,
             "#276419"
            ]
           ],
           "sequential": [
            [
             0,
             "#0d0887"
            ],
            [
             0.1111111111111111,
             "#46039f"
            ],
            [
             0.2222222222222222,
             "#7201a8"
            ],
            [
             0.3333333333333333,
             "#9c179e"
            ],
            [
             0.4444444444444444,
             "#bd3786"
            ],
            [
             0.5555555555555556,
             "#d8576b"
            ],
            [
             0.6666666666666666,
             "#ed7953"
            ],
            [
             0.7777777777777778,
             "#fb9f3a"
            ],
            [
             0.8888888888888888,
             "#fdca26"
            ],
            [
             1,
             "#f0f921"
            ]
           ],
           "sequentialminus": [
            [
             0,
             "#0d0887"
            ],
            [
             0.1111111111111111,
             "#46039f"
            ],
            [
             0.2222222222222222,
             "#7201a8"
            ],
            [
             0.3333333333333333,
             "#9c179e"
            ],
            [
             0.4444444444444444,
             "#bd3786"
            ],
            [
             0.5555555555555556,
             "#d8576b"
            ],
            [
             0.6666666666666666,
             "#ed7953"
            ],
            [
             0.7777777777777778,
             "#fb9f3a"
            ],
            [
             0.8888888888888888,
             "#fdca26"
            ],
            [
             1,
             "#f0f921"
            ]
           ]
          },
          "colorway": [
           "#636efa",
           "#EF553B",
           "#00cc96",
           "#ab63fa",
           "#FFA15A",
           "#19d3f3",
           "#FF6692",
           "#B6E880",
           "#FF97FF",
           "#FECB52"
          ],
          "font": {
           "color": "#2a3f5f"
          },
          "geo": {
           "bgcolor": "white",
           "lakecolor": "white",
           "landcolor": "#E5ECF6",
           "showlakes": true,
           "showland": true,
           "subunitcolor": "white"
          },
          "hoverlabel": {
           "align": "left"
          },
          "hovermode": "closest",
          "mapbox": {
           "style": "light"
          },
          "paper_bgcolor": "white",
          "plot_bgcolor": "#E5ECF6",
          "polar": {
           "angularaxis": {
            "gridcolor": "white",
            "linecolor": "white",
            "ticks": ""
           },
           "bgcolor": "#E5ECF6",
           "radialaxis": {
            "gridcolor": "white",
            "linecolor": "white",
            "ticks": ""
           }
          },
          "scene": {
           "xaxis": {
            "backgroundcolor": "#E5ECF6",
            "gridcolor": "white",
            "gridwidth": 2,
            "linecolor": "white",
            "showbackground": true,
            "ticks": "",
            "zerolinecolor": "white"
           },
           "yaxis": {
            "backgroundcolor": "#E5ECF6",
            "gridcolor": "white",
            "gridwidth": 2,
            "linecolor": "white",
            "showbackground": true,
            "ticks": "",
            "zerolinecolor": "white"
           },
           "zaxis": {
            "backgroundcolor": "#E5ECF6",
            "gridcolor": "white",
            "gridwidth": 2,
            "linecolor": "white",
            "showbackground": true,
            "ticks": "",
            "zerolinecolor": "white"
           }
          },
          "shapedefaults": {
           "line": {
            "color": "#2a3f5f"
           }
          },
          "ternary": {
           "aaxis": {
            "gridcolor": "white",
            "linecolor": "white",
            "ticks": ""
           },
           "baxis": {
            "gridcolor": "white",
            "linecolor": "white",
            "ticks": ""
           },
           "bgcolor": "#E5ECF6",
           "caxis": {
            "gridcolor": "white",
            "linecolor": "white",
            "ticks": ""
           }
          },
          "title": {
           "x": 0.05
          },
          "xaxis": {
           "automargin": true,
           "gridcolor": "white",
           "linecolor": "white",
           "ticks": "",
           "title": {
            "standoff": 15
           },
           "zerolinecolor": "white",
           "zerolinewidth": 2
          },
          "yaxis": {
           "automargin": true,
           "gridcolor": "white",
           "linecolor": "white",
           "ticks": "",
           "title": {
            "standoff": 15
           },
           "zerolinecolor": "white",
           "zerolinewidth": 2
          }
         }
        },
        "xaxis": {
         "anchor": "y",
         "domain": [
          0,
          1
         ],
         "title": {
          "text": "Week_of_Year"
         }
        },
        "yaxis": {
         "anchor": "x",
         "domain": [
          0,
          1
         ],
         "title": {
          "text": "value"
         }
        }
       }
      }
     },
     "metadata": {},
     "output_type": "display_data"
    }
   ],
   "source": [
    "px.bar(site.rad_data.weekly[[\"E_Diffuse_kWm2\", \"E_Beam_kWm2\", \"E_Ground_kWm2\"]])"
   ]
  },
  {
   "cell_type": "code",
   "execution_count": 17,
   "metadata": {},
   "outputs": [
    {
     "data": {
      "application/vnd.plotly.v1+json": {
       "config": {
        "plotlyServerURL": "https://plot.ly"
       },
       "data": [
        {
         "alignmentgroup": "True",
         "hovertemplate": "variable=E_Diffuse_kWm2<br>Month_of_Year=%{x}<br>value=%{y}<extra></extra>",
         "legendgroup": "E_Diffuse_kWm2",
         "marker": {
          "color": "#636efa",
          "pattern": {
           "shape": ""
          }
         },
         "name": "E_Diffuse_kWm2",
         "offsetgroup": "E_Diffuse_kWm2",
         "orientation": "v",
         "showlegend": true,
         "textposition": "auto",
         "type": "bar",
         "x": [
          1,
          2,
          3,
          4,
          5,
          6,
          7,
          8,
          9,
          10,
          11,
          12
         ],
         "xaxis": "x",
         "y": [
          9.71,
          18.498,
          32.152,
          59.089,
          77.046,
          77.351,
          82.399,
          69.696,
          45.139,
          26.56,
          12.356,
          7.528
         ],
         "yaxis": "y"
        },
        {
         "alignmentgroup": "True",
         "hovertemplate": "variable=E_Beam_kWm2<br>Month_of_Year=%{x}<br>value=%{y}<extra></extra>",
         "legendgroup": "E_Beam_kWm2",
         "marker": {
          "color": "#EF553B",
          "pattern": {
           "shape": ""
          }
         },
         "name": "E_Beam_kWm2",
         "offsetgroup": "E_Beam_kWm2",
         "orientation": "v",
         "showlegend": true,
         "textposition": "auto",
         "type": "bar",
         "x": [
          1,
          2,
          3,
          4,
          5,
          6,
          7,
          8,
          9,
          10,
          11,
          12
         ],
         "xaxis": "x",
         "y": [
          19.965,
          28.745,
          15.886,
          63.154,
          79.558,
          57.976,
          50.456,
          64.627,
          47.73,
          42.121,
          17.211,
          19.013
         ],
         "yaxis": "y"
        },
        {
         "alignmentgroup": "True",
         "hovertemplate": "variable=E_Ground_kWm2<br>Month_of_Year=%{x}<br>value=%{y}<extra></extra>",
         "legendgroup": "E_Ground_kWm2",
         "marker": {
          "color": "#00cc96",
          "pattern": {
           "shape": ""
          }
         },
         "name": "E_Ground_kWm2",
         "offsetgroup": "E_Ground_kWm2",
         "orientation": "v",
         "showlegend": true,
         "textposition": "auto",
         "type": "bar",
         "x": [
          1,
          2,
          3,
          4,
          5,
          6,
          7,
          8,
          9,
          10,
          11,
          12
         ],
         "xaxis": "x",
         "y": [
          0.31,
          0.6,
          0.802,
          2.055,
          2.836,
          2.583,
          2.516,
          2.357,
          1.475,
          0.921,
          0.365,
          0.248
         ],
         "yaxis": "y"
        }
       ],
       "layout": {
        "barmode": "relative",
        "legend": {
         "title": {
          "text": "variable"
         },
         "tracegroupgap": 0
        },
        "margin": {
         "t": 60
        },
        "template": {
         "data": {
          "bar": [
           {
            "error_x": {
             "color": "#2a3f5f"
            },
            "error_y": {
             "color": "#2a3f5f"
            },
            "marker": {
             "line": {
              "color": "#E5ECF6",
              "width": 0.5
             },
             "pattern": {
              "fillmode": "overlay",
              "size": 10,
              "solidity": 0.2
             }
            },
            "type": "bar"
           }
          ],
          "barpolar": [
           {
            "marker": {
             "line": {
              "color": "#E5ECF6",
              "width": 0.5
             },
             "pattern": {
              "fillmode": "overlay",
              "size": 10,
              "solidity": 0.2
             }
            },
            "type": "barpolar"
           }
          ],
          "carpet": [
           {
            "aaxis": {
             "endlinecolor": "#2a3f5f",
             "gridcolor": "white",
             "linecolor": "white",
             "minorgridcolor": "white",
             "startlinecolor": "#2a3f5f"
            },
            "baxis": {
             "endlinecolor": "#2a3f5f",
             "gridcolor": "white",
             "linecolor": "white",
             "minorgridcolor": "white",
             "startlinecolor": "#2a3f5f"
            },
            "type": "carpet"
           }
          ],
          "choropleth": [
           {
            "colorbar": {
             "outlinewidth": 0,
             "ticks": ""
            },
            "type": "choropleth"
           }
          ],
          "contour": [
           {
            "colorbar": {
             "outlinewidth": 0,
             "ticks": ""
            },
            "colorscale": [
             [
              0,
              "#0d0887"
             ],
             [
              0.1111111111111111,
              "#46039f"
             ],
             [
              0.2222222222222222,
              "#7201a8"
             ],
             [
              0.3333333333333333,
              "#9c179e"
             ],
             [
              0.4444444444444444,
              "#bd3786"
             ],
             [
              0.5555555555555556,
              "#d8576b"
             ],
             [
              0.6666666666666666,
              "#ed7953"
             ],
             [
              0.7777777777777778,
              "#fb9f3a"
             ],
             [
              0.8888888888888888,
              "#fdca26"
             ],
             [
              1,
              "#f0f921"
             ]
            ],
            "type": "contour"
           }
          ],
          "contourcarpet": [
           {
            "colorbar": {
             "outlinewidth": 0,
             "ticks": ""
            },
            "type": "contourcarpet"
           }
          ],
          "heatmap": [
           {
            "colorbar": {
             "outlinewidth": 0,
             "ticks": ""
            },
            "colorscale": [
             [
              0,
              "#0d0887"
             ],
             [
              0.1111111111111111,
              "#46039f"
             ],
             [
              0.2222222222222222,
              "#7201a8"
             ],
             [
              0.3333333333333333,
              "#9c179e"
             ],
             [
              0.4444444444444444,
              "#bd3786"
             ],
             [
              0.5555555555555556,
              "#d8576b"
             ],
             [
              0.6666666666666666,
              "#ed7953"
             ],
             [
              0.7777777777777778,
              "#fb9f3a"
             ],
             [
              0.8888888888888888,
              "#fdca26"
             ],
             [
              1,
              "#f0f921"
             ]
            ],
            "type": "heatmap"
           }
          ],
          "heatmapgl": [
           {
            "colorbar": {
             "outlinewidth": 0,
             "ticks": ""
            },
            "colorscale": [
             [
              0,
              "#0d0887"
             ],
             [
              0.1111111111111111,
              "#46039f"
             ],
             [
              0.2222222222222222,
              "#7201a8"
             ],
             [
              0.3333333333333333,
              "#9c179e"
             ],
             [
              0.4444444444444444,
              "#bd3786"
             ],
             [
              0.5555555555555556,
              "#d8576b"
             ],
             [
              0.6666666666666666,
              "#ed7953"
             ],
             [
              0.7777777777777778,
              "#fb9f3a"
             ],
             [
              0.8888888888888888,
              "#fdca26"
             ],
             [
              1,
              "#f0f921"
             ]
            ],
            "type": "heatmapgl"
           }
          ],
          "histogram": [
           {
            "marker": {
             "pattern": {
              "fillmode": "overlay",
              "size": 10,
              "solidity": 0.2
             }
            },
            "type": "histogram"
           }
          ],
          "histogram2d": [
           {
            "colorbar": {
             "outlinewidth": 0,
             "ticks": ""
            },
            "colorscale": [
             [
              0,
              "#0d0887"
             ],
             [
              0.1111111111111111,
              "#46039f"
             ],
             [
              0.2222222222222222,
              "#7201a8"
             ],
             [
              0.3333333333333333,
              "#9c179e"
             ],
             [
              0.4444444444444444,
              "#bd3786"
             ],
             [
              0.5555555555555556,
              "#d8576b"
             ],
             [
              0.6666666666666666,
              "#ed7953"
             ],
             [
              0.7777777777777778,
              "#fb9f3a"
             ],
             [
              0.8888888888888888,
              "#fdca26"
             ],
             [
              1,
              "#f0f921"
             ]
            ],
            "type": "histogram2d"
           }
          ],
          "histogram2dcontour": [
           {
            "colorbar": {
             "outlinewidth": 0,
             "ticks": ""
            },
            "colorscale": [
             [
              0,
              "#0d0887"
             ],
             [
              0.1111111111111111,
              "#46039f"
             ],
             [
              0.2222222222222222,
              "#7201a8"
             ],
             [
              0.3333333333333333,
              "#9c179e"
             ],
             [
              0.4444444444444444,
              "#bd3786"
             ],
             [
              0.5555555555555556,
              "#d8576b"
             ],
             [
              0.6666666666666666,
              "#ed7953"
             ],
             [
              0.7777777777777778,
              "#fb9f3a"
             ],
             [
              0.8888888888888888,
              "#fdca26"
             ],
             [
              1,
              "#f0f921"
             ]
            ],
            "type": "histogram2dcontour"
           }
          ],
          "mesh3d": [
           {
            "colorbar": {
             "outlinewidth": 0,
             "ticks": ""
            },
            "type": "mesh3d"
           }
          ],
          "parcoords": [
           {
            "line": {
             "colorbar": {
              "outlinewidth": 0,
              "ticks": ""
             }
            },
            "type": "parcoords"
           }
          ],
          "pie": [
           {
            "automargin": true,
            "type": "pie"
           }
          ],
          "scatter": [
           {
            "fillpattern": {
             "fillmode": "overlay",
             "size": 10,
             "solidity": 0.2
            },
            "type": "scatter"
           }
          ],
          "scatter3d": [
           {
            "line": {
             "colorbar": {
              "outlinewidth": 0,
              "ticks": ""
             }
            },
            "marker": {
             "colorbar": {
              "outlinewidth": 0,
              "ticks": ""
             }
            },
            "type": "scatter3d"
           }
          ],
          "scattercarpet": [
           {
            "marker": {
             "colorbar": {
              "outlinewidth": 0,
              "ticks": ""
             }
            },
            "type": "scattercarpet"
           }
          ],
          "scattergeo": [
           {
            "marker": {
             "colorbar": {
              "outlinewidth": 0,
              "ticks": ""
             }
            },
            "type": "scattergeo"
           }
          ],
          "scattergl": [
           {
            "marker": {
             "colorbar": {
              "outlinewidth": 0,
              "ticks": ""
             }
            },
            "type": "scattergl"
           }
          ],
          "scattermapbox": [
           {
            "marker": {
             "colorbar": {
              "outlinewidth": 0,
              "ticks": ""
             }
            },
            "type": "scattermapbox"
           }
          ],
          "scatterpolar": [
           {
            "marker": {
             "colorbar": {
              "outlinewidth": 0,
              "ticks": ""
             }
            },
            "type": "scatterpolar"
           }
          ],
          "scatterpolargl": [
           {
            "marker": {
             "colorbar": {
              "outlinewidth": 0,
              "ticks": ""
             }
            },
            "type": "scatterpolargl"
           }
          ],
          "scatterternary": [
           {
            "marker": {
             "colorbar": {
              "outlinewidth": 0,
              "ticks": ""
             }
            },
            "type": "scatterternary"
           }
          ],
          "surface": [
           {
            "colorbar": {
             "outlinewidth": 0,
             "ticks": ""
            },
            "colorscale": [
             [
              0,
              "#0d0887"
             ],
             [
              0.1111111111111111,
              "#46039f"
             ],
             [
              0.2222222222222222,
              "#7201a8"
             ],
             [
              0.3333333333333333,
              "#9c179e"
             ],
             [
              0.4444444444444444,
              "#bd3786"
             ],
             [
              0.5555555555555556,
              "#d8576b"
             ],
             [
              0.6666666666666666,
              "#ed7953"
             ],
             [
              0.7777777777777778,
              "#fb9f3a"
             ],
             [
              0.8888888888888888,
              "#fdca26"
             ],
             [
              1,
              "#f0f921"
             ]
            ],
            "type": "surface"
           }
          ],
          "table": [
           {
            "cells": {
             "fill": {
              "color": "#EBF0F8"
             },
             "line": {
              "color": "white"
             }
            },
            "header": {
             "fill": {
              "color": "#C8D4E3"
             },
             "line": {
              "color": "white"
             }
            },
            "type": "table"
           }
          ]
         },
         "layout": {
          "annotationdefaults": {
           "arrowcolor": "#2a3f5f",
           "arrowhead": 0,
           "arrowwidth": 1
          },
          "autotypenumbers": "strict",
          "coloraxis": {
           "colorbar": {
            "outlinewidth": 0,
            "ticks": ""
           }
          },
          "colorscale": {
           "diverging": [
            [
             0,
             "#8e0152"
            ],
            [
             0.1,
             "#c51b7d"
            ],
            [
             0.2,
             "#de77ae"
            ],
            [
             0.3,
             "#f1b6da"
            ],
            [
             0.4,
             "#fde0ef"
            ],
            [
             0.5,
             "#f7f7f7"
            ],
            [
             0.6,
             "#e6f5d0"
            ],
            [
             0.7,
             "#b8e186"
            ],
            [
             0.8,
             "#7fbc41"
            ],
            [
             0.9,
             "#4d9221"
            ],
            [
             1,
             "#276419"
            ]
           ],
           "sequential": [
            [
             0,
             "#0d0887"
            ],
            [
             0.1111111111111111,
             "#46039f"
            ],
            [
             0.2222222222222222,
             "#7201a8"
            ],
            [
             0.3333333333333333,
             "#9c179e"
            ],
            [
             0.4444444444444444,
             "#bd3786"
            ],
            [
             0.5555555555555556,
             "#d8576b"
            ],
            [
             0.6666666666666666,
             "#ed7953"
            ],
            [
             0.7777777777777778,
             "#fb9f3a"
            ],
            [
             0.8888888888888888,
             "#fdca26"
            ],
            [
             1,
             "#f0f921"
            ]
           ],
           "sequentialminus": [
            [
             0,
             "#0d0887"
            ],
            [
             0.1111111111111111,
             "#46039f"
            ],
            [
             0.2222222222222222,
             "#7201a8"
            ],
            [
             0.3333333333333333,
             "#9c179e"
            ],
            [
             0.4444444444444444,
             "#bd3786"
            ],
            [
             0.5555555555555556,
             "#d8576b"
            ],
            [
             0.6666666666666666,
             "#ed7953"
            ],
            [
             0.7777777777777778,
             "#fb9f3a"
            ],
            [
             0.8888888888888888,
             "#fdca26"
            ],
            [
             1,
             "#f0f921"
            ]
           ]
          },
          "colorway": [
           "#636efa",
           "#EF553B",
           "#00cc96",
           "#ab63fa",
           "#FFA15A",
           "#19d3f3",
           "#FF6692",
           "#B6E880",
           "#FF97FF",
           "#FECB52"
          ],
          "font": {
           "color": "#2a3f5f"
          },
          "geo": {
           "bgcolor": "white",
           "lakecolor": "white",
           "landcolor": "#E5ECF6",
           "showlakes": true,
           "showland": true,
           "subunitcolor": "white"
          },
          "hoverlabel": {
           "align": "left"
          },
          "hovermode": "closest",
          "mapbox": {
           "style": "light"
          },
          "paper_bgcolor": "white",
          "plot_bgcolor": "#E5ECF6",
          "polar": {
           "angularaxis": {
            "gridcolor": "white",
            "linecolor": "white",
            "ticks": ""
           },
           "bgcolor": "#E5ECF6",
           "radialaxis": {
            "gridcolor": "white",
            "linecolor": "white",
            "ticks": ""
           }
          },
          "scene": {
           "xaxis": {
            "backgroundcolor": "#E5ECF6",
            "gridcolor": "white",
            "gridwidth": 2,
            "linecolor": "white",
            "showbackground": true,
            "ticks": "",
            "zerolinecolor": "white"
           },
           "yaxis": {
            "backgroundcolor": "#E5ECF6",
            "gridcolor": "white",
            "gridwidth": 2,
            "linecolor": "white",
            "showbackground": true,
            "ticks": "",
            "zerolinecolor": "white"
           },
           "zaxis": {
            "backgroundcolor": "#E5ECF6",
            "gridcolor": "white",
            "gridwidth": 2,
            "linecolor": "white",
            "showbackground": true,
            "ticks": "",
            "zerolinecolor": "white"
           }
          },
          "shapedefaults": {
           "line": {
            "color": "#2a3f5f"
           }
          },
          "ternary": {
           "aaxis": {
            "gridcolor": "white",
            "linecolor": "white",
            "ticks": ""
           },
           "baxis": {
            "gridcolor": "white",
            "linecolor": "white",
            "ticks": ""
           },
           "bgcolor": "#E5ECF6",
           "caxis": {
            "gridcolor": "white",
            "linecolor": "white",
            "ticks": ""
           }
          },
          "title": {
           "x": 0.05
          },
          "xaxis": {
           "automargin": true,
           "gridcolor": "white",
           "linecolor": "white",
           "ticks": "",
           "title": {
            "standoff": 15
           },
           "zerolinecolor": "white",
           "zerolinewidth": 2
          },
          "yaxis": {
           "automargin": true,
           "gridcolor": "white",
           "linecolor": "white",
           "ticks": "",
           "title": {
            "standoff": 15
           },
           "zerolinecolor": "white",
           "zerolinewidth": 2
          }
         }
        },
        "xaxis": {
         "anchor": "y",
         "domain": [
          0,
          1
         ],
         "title": {
          "text": "Month_of_Year"
         }
        },
        "yaxis": {
         "anchor": "x",
         "domain": [
          0,
          1
         ],
         "title": {
          "text": "value"
         }
        }
       }
      }
     },
     "metadata": {},
     "output_type": "display_data"
    }
   ],
   "source": [
    "px.bar(site.rad_data.monthly[[\"E_Diffuse_kWm2\", \"E_Beam_kWm2\", \"E_Ground_kWm2\"]])"
   ]
  },
  {
   "cell_type": "code",
   "execution_count": 18,
   "metadata": {},
   "outputs": [
    {
     "data": {
      "application/vnd.plotly.v1+json": {
       "config": {
        "plotlyServerURL": "https://plot.ly"
       },
       "data": [
        {
         "alignmentgroup": "True",
         "hovertemplate": "variable=E_Diffuse_kWm2<br>Month_of_Year=%{x}<br>value=%{y}<extra></extra>",
         "legendgroup": "E_Diffuse_kWm2",
         "marker": {
          "color": "#636efa",
          "pattern": {
           "shape": ""
          }
         },
         "name": "E_Diffuse_kWm2",
         "offsetgroup": "E_Diffuse_kWm2",
         "orientation": "v",
         "showlegend": true,
         "textposition": "auto",
         "type": "bar",
         "x": [
          1,
          2,
          3,
          4
         ],
         "xaxis": "x",
         "y": [
          60.36,
          213.486,
          197.234,
          46.444
         ],
         "yaxis": "y"
        },
        {
         "alignmentgroup": "True",
         "hovertemplate": "variable=E_Beam_kWm2<br>Month_of_Year=%{x}<br>value=%{y}<extra></extra>",
         "legendgroup": "E_Beam_kWm2",
         "marker": {
          "color": "#EF553B",
          "pattern": {
           "shape": ""
          }
         },
         "name": "E_Beam_kWm2",
         "offsetgroup": "E_Beam_kWm2",
         "orientation": "v",
         "showlegend": true,
         "textposition": "auto",
         "type": "bar",
         "x": [
          1,
          2,
          3,
          4
         ],
         "xaxis": "x",
         "y": [
          64.596,
          200.688,
          162.812,
          78.345
         ],
         "yaxis": "y"
        },
        {
         "alignmentgroup": "True",
         "hovertemplate": "variable=E_Ground_kWm2<br>Month_of_Year=%{x}<br>value=%{y}<extra></extra>",
         "legendgroup": "E_Ground_kWm2",
         "marker": {
          "color": "#00cc96",
          "pattern": {
           "shape": ""
          }
         },
         "name": "E_Ground_kWm2",
         "offsetgroup": "E_Ground_kWm2",
         "orientation": "v",
         "showlegend": true,
         "textposition": "auto",
         "type": "bar",
         "x": [
          1,
          2,
          3,
          4
         ],
         "xaxis": "x",
         "y": [
          1.712,
          7.473,
          6.348,
          1.533
         ],
         "yaxis": "y"
        }
       ],
       "layout": {
        "barmode": "relative",
        "legend": {
         "title": {
          "text": "variable"
         },
         "tracegroupgap": 0
        },
        "margin": {
         "t": 60
        },
        "template": {
         "data": {
          "bar": [
           {
            "error_x": {
             "color": "#2a3f5f"
            },
            "error_y": {
             "color": "#2a3f5f"
            },
            "marker": {
             "line": {
              "color": "#E5ECF6",
              "width": 0.5
             },
             "pattern": {
              "fillmode": "overlay",
              "size": 10,
              "solidity": 0.2
             }
            },
            "type": "bar"
           }
          ],
          "barpolar": [
           {
            "marker": {
             "line": {
              "color": "#E5ECF6",
              "width": 0.5
             },
             "pattern": {
              "fillmode": "overlay",
              "size": 10,
              "solidity": 0.2
             }
            },
            "type": "barpolar"
           }
          ],
          "carpet": [
           {
            "aaxis": {
             "endlinecolor": "#2a3f5f",
             "gridcolor": "white",
             "linecolor": "white",
             "minorgridcolor": "white",
             "startlinecolor": "#2a3f5f"
            },
            "baxis": {
             "endlinecolor": "#2a3f5f",
             "gridcolor": "white",
             "linecolor": "white",
             "minorgridcolor": "white",
             "startlinecolor": "#2a3f5f"
            },
            "type": "carpet"
           }
          ],
          "choropleth": [
           {
            "colorbar": {
             "outlinewidth": 0,
             "ticks": ""
            },
            "type": "choropleth"
           }
          ],
          "contour": [
           {
            "colorbar": {
             "outlinewidth": 0,
             "ticks": ""
            },
            "colorscale": [
             [
              0,
              "#0d0887"
             ],
             [
              0.1111111111111111,
              "#46039f"
             ],
             [
              0.2222222222222222,
              "#7201a8"
             ],
             [
              0.3333333333333333,
              "#9c179e"
             ],
             [
              0.4444444444444444,
              "#bd3786"
             ],
             [
              0.5555555555555556,
              "#d8576b"
             ],
             [
              0.6666666666666666,
              "#ed7953"
             ],
             [
              0.7777777777777778,
              "#fb9f3a"
             ],
             [
              0.8888888888888888,
              "#fdca26"
             ],
             [
              1,
              "#f0f921"
             ]
            ],
            "type": "contour"
           }
          ],
          "contourcarpet": [
           {
            "colorbar": {
             "outlinewidth": 0,
             "ticks": ""
            },
            "type": "contourcarpet"
           }
          ],
          "heatmap": [
           {
            "colorbar": {
             "outlinewidth": 0,
             "ticks": ""
            },
            "colorscale": [
             [
              0,
              "#0d0887"
             ],
             [
              0.1111111111111111,
              "#46039f"
             ],
             [
              0.2222222222222222,
              "#7201a8"
             ],
             [
              0.3333333333333333,
              "#9c179e"
             ],
             [
              0.4444444444444444,
              "#bd3786"
             ],
             [
              0.5555555555555556,
              "#d8576b"
             ],
             [
              0.6666666666666666,
              "#ed7953"
             ],
             [
              0.7777777777777778,
              "#fb9f3a"
             ],
             [
              0.8888888888888888,
              "#fdca26"
             ],
             [
              1,
              "#f0f921"
             ]
            ],
            "type": "heatmap"
           }
          ],
          "heatmapgl": [
           {
            "colorbar": {
             "outlinewidth": 0,
             "ticks": ""
            },
            "colorscale": [
             [
              0,
              "#0d0887"
             ],
             [
              0.1111111111111111,
              "#46039f"
             ],
             [
              0.2222222222222222,
              "#7201a8"
             ],
             [
              0.3333333333333333,
              "#9c179e"
             ],
             [
              0.4444444444444444,
              "#bd3786"
             ],
             [
              0.5555555555555556,
              "#d8576b"
             ],
             [
              0.6666666666666666,
              "#ed7953"
             ],
             [
              0.7777777777777778,
              "#fb9f3a"
             ],
             [
              0.8888888888888888,
              "#fdca26"
             ],
             [
              1,
              "#f0f921"
             ]
            ],
            "type": "heatmapgl"
           }
          ],
          "histogram": [
           {
            "marker": {
             "pattern": {
              "fillmode": "overlay",
              "size": 10,
              "solidity": 0.2
             }
            },
            "type": "histogram"
           }
          ],
          "histogram2d": [
           {
            "colorbar": {
             "outlinewidth": 0,
             "ticks": ""
            },
            "colorscale": [
             [
              0,
              "#0d0887"
             ],
             [
              0.1111111111111111,
              "#46039f"
             ],
             [
              0.2222222222222222,
              "#7201a8"
             ],
             [
              0.3333333333333333,
              "#9c179e"
             ],
             [
              0.4444444444444444,
              "#bd3786"
             ],
             [
              0.5555555555555556,
              "#d8576b"
             ],
             [
              0.6666666666666666,
              "#ed7953"
             ],
             [
              0.7777777777777778,
              "#fb9f3a"
             ],
             [
              0.8888888888888888,
              "#fdca26"
             ],
             [
              1,
              "#f0f921"
             ]
            ],
            "type": "histogram2d"
           }
          ],
          "histogram2dcontour": [
           {
            "colorbar": {
             "outlinewidth": 0,
             "ticks": ""
            },
            "colorscale": [
             [
              0,
              "#0d0887"
             ],
             [
              0.1111111111111111,
              "#46039f"
             ],
             [
              0.2222222222222222,
              "#7201a8"
             ],
             [
              0.3333333333333333,
              "#9c179e"
             ],
             [
              0.4444444444444444,
              "#bd3786"
             ],
             [
              0.5555555555555556,
              "#d8576b"
             ],
             [
              0.6666666666666666,
              "#ed7953"
             ],
             [
              0.7777777777777778,
              "#fb9f3a"
             ],
             [
              0.8888888888888888,
              "#fdca26"
             ],
             [
              1,
              "#f0f921"
             ]
            ],
            "type": "histogram2dcontour"
           }
          ],
          "mesh3d": [
           {
            "colorbar": {
             "outlinewidth": 0,
             "ticks": ""
            },
            "type": "mesh3d"
           }
          ],
          "parcoords": [
           {
            "line": {
             "colorbar": {
              "outlinewidth": 0,
              "ticks": ""
             }
            },
            "type": "parcoords"
           }
          ],
          "pie": [
           {
            "automargin": true,
            "type": "pie"
           }
          ],
          "scatter": [
           {
            "fillpattern": {
             "fillmode": "overlay",
             "size": 10,
             "solidity": 0.2
            },
            "type": "scatter"
           }
          ],
          "scatter3d": [
           {
            "line": {
             "colorbar": {
              "outlinewidth": 0,
              "ticks": ""
             }
            },
            "marker": {
             "colorbar": {
              "outlinewidth": 0,
              "ticks": ""
             }
            },
            "type": "scatter3d"
           }
          ],
          "scattercarpet": [
           {
            "marker": {
             "colorbar": {
              "outlinewidth": 0,
              "ticks": ""
             }
            },
            "type": "scattercarpet"
           }
          ],
          "scattergeo": [
           {
            "marker": {
             "colorbar": {
              "outlinewidth": 0,
              "ticks": ""
             }
            },
            "type": "scattergeo"
           }
          ],
          "scattergl": [
           {
            "marker": {
             "colorbar": {
              "outlinewidth": 0,
              "ticks": ""
             }
            },
            "type": "scattergl"
           }
          ],
          "scattermapbox": [
           {
            "marker": {
             "colorbar": {
              "outlinewidth": 0,
              "ticks": ""
             }
            },
            "type": "scattermapbox"
           }
          ],
          "scatterpolar": [
           {
            "marker": {
             "colorbar": {
              "outlinewidth": 0,
              "ticks": ""
             }
            },
            "type": "scatterpolar"
           }
          ],
          "scatterpolargl": [
           {
            "marker": {
             "colorbar": {
              "outlinewidth": 0,
              "ticks": ""
             }
            },
            "type": "scatterpolargl"
           }
          ],
          "scatterternary": [
           {
            "marker": {
             "colorbar": {
              "outlinewidth": 0,
              "ticks": ""
             }
            },
            "type": "scatterternary"
           }
          ],
          "surface": [
           {
            "colorbar": {
             "outlinewidth": 0,
             "ticks": ""
            },
            "colorscale": [
             [
              0,
              "#0d0887"
             ],
             [
              0.1111111111111111,
              "#46039f"
             ],
             [
              0.2222222222222222,
              "#7201a8"
             ],
             [
              0.3333333333333333,
              "#9c179e"
             ],
             [
              0.4444444444444444,
              "#bd3786"
             ],
             [
              0.5555555555555556,
              "#d8576b"
             ],
             [
              0.6666666666666666,
              "#ed7953"
             ],
             [
              0.7777777777777778,
              "#fb9f3a"
             ],
             [
              0.8888888888888888,
              "#fdca26"
             ],
             [
              1,
              "#f0f921"
             ]
            ],
            "type": "surface"
           }
          ],
          "table": [
           {
            "cells": {
             "fill": {
              "color": "#EBF0F8"
             },
             "line": {
              "color": "white"
             }
            },
            "header": {
             "fill": {
              "color": "#C8D4E3"
             },
             "line": {
              "color": "white"
             }
            },
            "type": "table"
           }
          ]
         },
         "layout": {
          "annotationdefaults": {
           "arrowcolor": "#2a3f5f",
           "arrowhead": 0,
           "arrowwidth": 1
          },
          "autotypenumbers": "strict",
          "coloraxis": {
           "colorbar": {
            "outlinewidth": 0,
            "ticks": ""
           }
          },
          "colorscale": {
           "diverging": [
            [
             0,
             "#8e0152"
            ],
            [
             0.1,
             "#c51b7d"
            ],
            [
             0.2,
             "#de77ae"
            ],
            [
             0.3,
             "#f1b6da"
            ],
            [
             0.4,
             "#fde0ef"
            ],
            [
             0.5,
             "#f7f7f7"
            ],
            [
             0.6,
             "#e6f5d0"
            ],
            [
             0.7,
             "#b8e186"
            ],
            [
             0.8,
             "#7fbc41"
            ],
            [
             0.9,
             "#4d9221"
            ],
            [
             1,
             "#276419"
            ]
           ],
           "sequential": [
            [
             0,
             "#0d0887"
            ],
            [
             0.1111111111111111,
             "#46039f"
            ],
            [
             0.2222222222222222,
             "#7201a8"
            ],
            [
             0.3333333333333333,
             "#9c179e"
            ],
            [
             0.4444444444444444,
             "#bd3786"
            ],
            [
             0.5555555555555556,
             "#d8576b"
            ],
            [
             0.6666666666666666,
             "#ed7953"
            ],
            [
             0.7777777777777778,
             "#fb9f3a"
            ],
            [
             0.8888888888888888,
             "#fdca26"
            ],
            [
             1,
             "#f0f921"
            ]
           ],
           "sequentialminus": [
            [
             0,
             "#0d0887"
            ],
            [
             0.1111111111111111,
             "#46039f"
            ],
            [
             0.2222222222222222,
             "#7201a8"
            ],
            [
             0.3333333333333333,
             "#9c179e"
            ],
            [
             0.4444444444444444,
             "#bd3786"
            ],
            [
             0.5555555555555556,
             "#d8576b"
            ],
            [
             0.6666666666666666,
             "#ed7953"
            ],
            [
             0.7777777777777778,
             "#fb9f3a"
            ],
            [
             0.8888888888888888,
             "#fdca26"
            ],
            [
             1,
             "#f0f921"
            ]
           ]
          },
          "colorway": [
           "#636efa",
           "#EF553B",
           "#00cc96",
           "#ab63fa",
           "#FFA15A",
           "#19d3f3",
           "#FF6692",
           "#B6E880",
           "#FF97FF",
           "#FECB52"
          ],
          "font": {
           "color": "#2a3f5f"
          },
          "geo": {
           "bgcolor": "white",
           "lakecolor": "white",
           "landcolor": "#E5ECF6",
           "showlakes": true,
           "showland": true,
           "subunitcolor": "white"
          },
          "hoverlabel": {
           "align": "left"
          },
          "hovermode": "closest",
          "mapbox": {
           "style": "light"
          },
          "paper_bgcolor": "white",
          "plot_bgcolor": "#E5ECF6",
          "polar": {
           "angularaxis": {
            "gridcolor": "white",
            "linecolor": "white",
            "ticks": ""
           },
           "bgcolor": "#E5ECF6",
           "radialaxis": {
            "gridcolor": "white",
            "linecolor": "white",
            "ticks": ""
           }
          },
          "scene": {
           "xaxis": {
            "backgroundcolor": "#E5ECF6",
            "gridcolor": "white",
            "gridwidth": 2,
            "linecolor": "white",
            "showbackground": true,
            "ticks": "",
            "zerolinecolor": "white"
           },
           "yaxis": {
            "backgroundcolor": "#E5ECF6",
            "gridcolor": "white",
            "gridwidth": 2,
            "linecolor": "white",
            "showbackground": true,
            "ticks": "",
            "zerolinecolor": "white"
           },
           "zaxis": {
            "backgroundcolor": "#E5ECF6",
            "gridcolor": "white",
            "gridwidth": 2,
            "linecolor": "white",
            "showbackground": true,
            "ticks": "",
            "zerolinecolor": "white"
           }
          },
          "shapedefaults": {
           "line": {
            "color": "#2a3f5f"
           }
          },
          "ternary": {
           "aaxis": {
            "gridcolor": "white",
            "linecolor": "white",
            "ticks": ""
           },
           "baxis": {
            "gridcolor": "white",
            "linecolor": "white",
            "ticks": ""
           },
           "bgcolor": "#E5ECF6",
           "caxis": {
            "gridcolor": "white",
            "linecolor": "white",
            "ticks": ""
           }
          },
          "title": {
           "x": 0.05
          },
          "xaxis": {
           "automargin": true,
           "gridcolor": "white",
           "linecolor": "white",
           "ticks": "",
           "title": {
            "standoff": 15
           },
           "zerolinecolor": "white",
           "zerolinewidth": 2
          },
          "yaxis": {
           "automargin": true,
           "gridcolor": "white",
           "linecolor": "white",
           "ticks": "",
           "title": {
            "standoff": 15
           },
           "zerolinecolor": "white",
           "zerolinewidth": 2
          }
         }
        },
        "xaxis": {
         "anchor": "y",
         "domain": [
          0,
          1
         ],
         "title": {
          "text": "Month_of_Year"
         }
        },
        "yaxis": {
         "anchor": "x",
         "domain": [
          0,
          1
         ],
         "title": {
          "text": "value"
         }
        }
       }
      }
     },
     "metadata": {},
     "output_type": "display_data"
    }
   ],
   "source": [
    "px.bar(site.rad_data.quarterly[[\"E_Diffuse_kWm2\", \"E_Beam_kWm2\", \"E_Ground_kWm2\"]])"
   ]
  },
  {
   "cell_type": "code",
   "execution_count": null,
   "metadata": {},
   "outputs": [],
   "source": []
  },
  {
   "cell_type": "markdown",
   "metadata": {},
   "source": [
    "### **Create and save example charts from grouped by radiation data summary**"
   ]
  },
  {
   "cell_type": "code",
   "execution_count": 24,
   "metadata": {},
   "outputs": [],
   "source": [
    "import os\n",
    "import plotly.express as px\n",
    "\n",
    "# List of time groupings\n",
    "time_groupings = [\"hourly\", \"daily\", \"weekly\", \"monthly\", \"quarterly\"]\n",
    "\n",
    "# Define the output directory name\n",
    "output_dir = \"example_charts\"\n",
    "\n",
    "# Check if the directory exists, and if not, create it\n",
    "if not os.path.exists(output_dir):\n",
    "    os.makedirs(output_dir)\n",
    "\n",
    "# Bar Charts\n",
    "for grouping in time_groupings:\n",
    "    # Access the correct attribute of site.rad_data\n",
    "    data = getattr(site.rad_data, grouping)\n",
    "    \n",
    "    # Create the bar chart using Plotly\n",
    "    fig = px.bar(data, x=data.index, \n",
    "                 y=[\"E_Diffuse_kWm2\", \"E_Beam_kWm2\", \"E_Ground_kWm2\"], \n",
    "                 title=f\"Incident Radiation Distribution for Modelled Plane - {grouping.capitalize()}\",\n",
    "                 labels={\"value\": \"Incident Radiation (kW/m²)\", \"variable\": \"Type\"},\n",
    "                 barmode='stack')\n",
    "    \n",
    "    # File path for saving the figure\n",
    "    file_path = os.path.join(output_dir, f\"{grouping}_bar_grouped_radiation.png\")\n",
    "    \n",
    "    # Save the figure to the file path\n",
    "    fig.write_image(file_path)\n",
    "\n",
    "# Line Graphs\n",
    "for grouping in time_groupings:\n",
    "    # Access the correct attribute of site.rad_data\n",
    "    data = getattr(site.rad_data, grouping)\n",
    "    \n",
    "    # Create the bar chart using Plotly\n",
    "    fig = px.line(data, x=data.index, \n",
    "                 y=[\"Panel_POA_kWm2\"], \n",
    "                 title=f\"Total Radiation incident on Panel - {grouping.capitalize()}\",\n",
    "                 labels={\"value\": \"POA Radiation (kW/m²)\", \"variable\": \"Type\"})\n",
    "    \n",
    "    # File path for saving the figure\n",
    "    file_path = os.path.join(output_dir, f\"{grouping}_line_total_radiation.png\")\n",
    "    \n",
    "    # Save the figure to the file path\n",
    "    fig.write_image(file_path)"
   ]
  },
  {
   "cell_type": "code",
   "execution_count": null,
   "metadata": {},
   "outputs": [],
   "source": []
  }
 ],
 "metadata": {
  "kernelspec": {
   "display_name": "Python 3",
   "language": "python",
   "name": "python3"
  },
  "language_info": {
   "codemirror_mode": {
    "name": "ipython",
    "version": 3
   },
   "file_extension": ".py",
   "mimetype": "text/x-python",
   "name": "python",
   "nbconvert_exporter": "python",
   "pygments_lexer": "ipython3",
   "version": "3.11.8"
  }
 },
 "nbformat": 4,
 "nbformat_minor": 2
}
